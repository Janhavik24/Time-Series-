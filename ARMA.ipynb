{
 "cells": [
  {
   "cell_type": "markdown",
   "metadata": {},
   "source": [
    "## Auto-Regressive Moving Average (ARMA)"
   ]
  },
  {
   "cell_type": "code",
   "execution_count": 1,
   "metadata": {},
   "outputs": [],
   "source": [
    "import pandas as pd\n",
    "import numpy as np\n",
    "import matplotlib.pyplot as plt\n",
    "import statsmodels.graphics.tsaplots as sgt\n",
    "import statsmodels.tsa.stattools as sts\n",
    "from statsmodels.tsa.arima_model import ARMA\n",
    "from scipy.stats.distributions import chi2\n",
    "from math import sqrt\n",
    "import seaborn as sns\n",
    "sns.set()"
   ]
  },
  {
   "cell_type": "code",
   "execution_count": 2,
   "metadata": {},
   "outputs": [
    {
     "data": {
      "text/html": [
       "<div>\n",
       "<style scoped>\n",
       "    .dataframe tbody tr th:only-of-type {\n",
       "        vertical-align: middle;\n",
       "    }\n",
       "\n",
       "    .dataframe tbody tr th {\n",
       "        vertical-align: top;\n",
       "    }\n",
       "\n",
       "    .dataframe thead th {\n",
       "        text-align: right;\n",
       "    }\n",
       "</style>\n",
       "<table border=\"1\" class=\"dataframe\">\n",
       "  <thead>\n",
       "    <tr style=\"text-align: right;\">\n",
       "      <th></th>\n",
       "      <th>spx</th>\n",
       "      <th>dax</th>\n",
       "      <th>ftse</th>\n",
       "      <th>nikkei</th>\n",
       "    </tr>\n",
       "    <tr>\n",
       "      <th>date</th>\n",
       "      <th></th>\n",
       "      <th></th>\n",
       "      <th></th>\n",
       "      <th></th>\n",
       "    </tr>\n",
       "  </thead>\n",
       "  <tbody>\n",
       "    <tr>\n",
       "      <th>1994-01-07</th>\n",
       "      <td>469.90</td>\n",
       "      <td>2224.95</td>\n",
       "      <td>3445.98</td>\n",
       "      <td>18124.01</td>\n",
       "    </tr>\n",
       "    <tr>\n",
       "      <th>1994-01-10</th>\n",
       "      <td>475.27</td>\n",
       "      <td>2225.00</td>\n",
       "      <td>3440.58</td>\n",
       "      <td>18443.44</td>\n",
       "    </tr>\n",
       "    <tr>\n",
       "      <th>1994-01-11</th>\n",
       "      <td>474.13</td>\n",
       "      <td>2228.10</td>\n",
       "      <td>3413.77</td>\n",
       "      <td>18485.25</td>\n",
       "    </tr>\n",
       "    <tr>\n",
       "      <th>1994-01-12</th>\n",
       "      <td>474.17</td>\n",
       "      <td>2182.06</td>\n",
       "      <td>3372.02</td>\n",
       "      <td>18793.88</td>\n",
       "    </tr>\n",
       "    <tr>\n",
       "      <th>1994-01-13</th>\n",
       "      <td>472.47</td>\n",
       "      <td>2142.37</td>\n",
       "      <td>3360.01</td>\n",
       "      <td>18577.26</td>\n",
       "    </tr>\n",
       "  </tbody>\n",
       "</table>\n",
       "</div>"
      ],
      "text/plain": [
       "               spx      dax     ftse    nikkei\n",
       "date                                          \n",
       "1994-01-07  469.90  2224.95  3445.98  18124.01\n",
       "1994-01-10  475.27  2225.00  3440.58  18443.44\n",
       "1994-01-11  474.13  2228.10  3413.77  18485.25\n",
       "1994-01-12  474.17  2182.06  3372.02  18793.88\n",
       "1994-01-13  472.47  2142.37  3360.01  18577.26"
      ]
     },
     "execution_count": 2,
     "metadata": {},
     "output_type": "execute_result"
    }
   ],
   "source": [
    "df = pd.read_csv(r\"Downloads\\Index2018.csv\")\n",
    "df_copy = df.copy()\n",
    "df_copy.date = pd.to_datetime(df_copy.date, dayfirst = True)\n",
    "df_copy.set_index('date', inplace = True)\n",
    "df_copy = df_copy.asfreq('b')\n",
    "df_copy = df_copy.fillna(method = 'ffill')\n",
    "df_copy.head()"
   ]
  },
  {
   "cell_type": "code",
   "execution_count": 3,
   "metadata": {},
   "outputs": [],
   "source": [
    "df_copy['market_val'] = df_copy.ftse"
   ]
  },
  {
   "cell_type": "code",
   "execution_count": 4,
   "metadata": {},
   "outputs": [
    {
     "data": {
      "text/html": [
       "<div>\n",
       "<style scoped>\n",
       "    .dataframe tbody tr th:only-of-type {\n",
       "        vertical-align: middle;\n",
       "    }\n",
       "\n",
       "    .dataframe tbody tr th {\n",
       "        vertical-align: top;\n",
       "    }\n",
       "\n",
       "    .dataframe thead th {\n",
       "        text-align: right;\n",
       "    }\n",
       "</style>\n",
       "<table border=\"1\" class=\"dataframe\">\n",
       "  <thead>\n",
       "    <tr style=\"text-align: right;\">\n",
       "      <th></th>\n",
       "      <th>market_val</th>\n",
       "    </tr>\n",
       "    <tr>\n",
       "      <th>date</th>\n",
       "      <th></th>\n",
       "    </tr>\n",
       "  </thead>\n",
       "  <tbody>\n",
       "    <tr>\n",
       "      <th>1994-01-07</th>\n",
       "      <td>3445.98</td>\n",
       "    </tr>\n",
       "    <tr>\n",
       "      <th>1994-01-10</th>\n",
       "      <td>3440.58</td>\n",
       "    </tr>\n",
       "    <tr>\n",
       "      <th>1994-01-11</th>\n",
       "      <td>3413.77</td>\n",
       "    </tr>\n",
       "    <tr>\n",
       "      <th>1994-01-12</th>\n",
       "      <td>3372.02</td>\n",
       "    </tr>\n",
       "    <tr>\n",
       "      <th>1994-01-13</th>\n",
       "      <td>3360.01</td>\n",
       "    </tr>\n",
       "  </tbody>\n",
       "</table>\n",
       "</div>"
      ],
      "text/plain": [
       "            market_val\n",
       "date                  \n",
       "1994-01-07     3445.98\n",
       "1994-01-10     3440.58\n",
       "1994-01-11     3413.77\n",
       "1994-01-12     3372.02\n",
       "1994-01-13     3360.01"
      ]
     },
     "execution_count": 4,
     "metadata": {},
     "output_type": "execute_result"
    }
   ],
   "source": [
    "df_copy = df_copy.drop(['spx','dax', 'ftse', 'nikkei'], axis = 1)\n",
    "df_copy.head()"
   ]
  },
  {
   "cell_type": "code",
   "execution_count": 5,
   "metadata": {},
   "outputs": [],
   "source": [
    "df_copy['returns'] = df_copy.market_val.pct_change(1).mul(100)"
   ]
  },
  {
   "cell_type": "code",
   "execution_count": 6,
   "metadata": {},
   "outputs": [
    {
     "data": {
      "text/plain": [
       "market_val    0\n",
       "returns       1\n",
       "dtype: int64"
      ]
     },
     "execution_count": 6,
     "metadata": {},
     "output_type": "execute_result"
    }
   ],
   "source": [
    "df_copy.isnull().sum()"
   ]
  },
  {
   "cell_type": "markdown",
   "metadata": {},
   "source": [
    "## ARMA (1,1)"
   ]
  },
  {
   "cell_type": "code",
   "execution_count": 7,
   "metadata": {},
   "outputs": [
    {
     "data": {
      "text/html": [
       "<table class=\"simpletable\">\n",
       "<caption>ARMA Model Results</caption>\n",
       "<tr>\n",
       "  <th>Dep. Variable:</th>      <td>returns</td>     <th>  No. Observations:  </th>   <td>6276</td>   \n",
       "</tr>\n",
       "<tr>\n",
       "  <th>Model:</th>            <td>ARMA(1, 1)</td>    <th>  Log Likelihood     </th> <td>-9582.339</td>\n",
       "</tr>\n",
       "<tr>\n",
       "  <th>Method:</th>             <td>css-mle</td>     <th>  S.D. of innovations</th>   <td>1.114</td>  \n",
       "</tr>\n",
       "<tr>\n",
       "  <th>Date:</th>          <td>Mon, 19 Oct 2020</td> <th>  AIC                </th> <td>19172.679</td>\n",
       "</tr>\n",
       "<tr>\n",
       "  <th>Time:</th>              <td>11:16:10</td>     <th>  BIC                </th> <td>19199.657</td>\n",
       "</tr>\n",
       "<tr>\n",
       "  <th>Sample:</th>           <td>01-10-1994</td>    <th>  HQIC               </th> <td>19182.026</td>\n",
       "</tr>\n",
       "<tr>\n",
       "  <th></th>                 <td>- 01-29-2018</td>   <th>                     </th>     <td> </td>    \n",
       "</tr>\n",
       "</table>\n",
       "<table class=\"simpletable\">\n",
       "<tr>\n",
       "        <td></td>           <th>coef</th>     <th>std err</th>      <th>z</th>      <th>P>|z|</th>  <th>[0.025</th>    <th>0.975]</th>  \n",
       "</tr>\n",
       "<tr>\n",
       "  <th>const</th>         <td>    0.0190</td> <td>    0.011</td> <td>    1.753</td> <td> 0.080</td> <td>   -0.002</td> <td>    0.040</td>\n",
       "</tr>\n",
       "<tr>\n",
       "  <th>ar.L1.returns</th> <td>    0.8177</td> <td>    0.063</td> <td>   12.964</td> <td> 0.000</td> <td>    0.694</td> <td>    0.941</td>\n",
       "</tr>\n",
       "<tr>\n",
       "  <th>ma.L1.returns</th> <td>   -0.8593</td> <td>    0.056</td> <td>  -15.284</td> <td> 0.000</td> <td>   -0.970</td> <td>   -0.749</td>\n",
       "</tr>\n",
       "</table>\n",
       "<table class=\"simpletable\">\n",
       "<caption>Roots</caption>\n",
       "<tr>\n",
       "    <td></td>   <th>            Real</th>  <th>         Imaginary</th> <th>         Modulus</th>  <th>        Frequency</th>\n",
       "</tr>\n",
       "<tr>\n",
       "  <th>AR.1</th> <td>           1.2229</td> <td>          +0.0000j</td> <td>           1.2229</td> <td>           0.0000</td>\n",
       "</tr>\n",
       "<tr>\n",
       "  <th>MA.1</th> <td>           1.1637</td> <td>          +0.0000j</td> <td>           1.1637</td> <td>           0.0000</td>\n",
       "</tr>\n",
       "</table>"
      ],
      "text/plain": [
       "<class 'statsmodels.iolib.summary.Summary'>\n",
       "\"\"\"\n",
       "                              ARMA Model Results                              \n",
       "==============================================================================\n",
       "Dep. Variable:                returns   No. Observations:                 6276\n",
       "Model:                     ARMA(1, 1)   Log Likelihood               -9582.339\n",
       "Method:                       css-mle   S.D. of innovations              1.114\n",
       "Date:                Mon, 19 Oct 2020   AIC                          19172.679\n",
       "Time:                        11:16:10   BIC                          19199.657\n",
       "Sample:                    01-10-1994   HQIC                         19182.026\n",
       "                         - 01-29-2018                                         \n",
       "=================================================================================\n",
       "                    coef    std err          z      P>|z|      [0.025      0.975]\n",
       "---------------------------------------------------------------------------------\n",
       "const             0.0190      0.011      1.753      0.080      -0.002       0.040\n",
       "ar.L1.returns     0.8177      0.063     12.964      0.000       0.694       0.941\n",
       "ma.L1.returns    -0.8593      0.056    -15.284      0.000      -0.970      -0.749\n",
       "                                    Roots                                    \n",
       "=============================================================================\n",
       "                  Real          Imaginary           Modulus         Frequency\n",
       "-----------------------------------------------------------------------------\n",
       "AR.1            1.2229           +0.0000j            1.2229            0.0000\n",
       "MA.1            1.1637           +0.0000j            1.1637            0.0000\n",
       "-----------------------------------------------------------------------------\n",
       "\"\"\""
      ]
     },
     "execution_count": 7,
     "metadata": {},
     "output_type": "execute_result"
    }
   ],
   "source": [
    "model_arma_ret_1 = ARMA(df_copy.returns[1:], order = (1,1))\n",
    "results_arma_ret_1 = model_arma_ret_1.fit()\n",
    "results_arma_ret_1.summary()"
   ]
  },
  {
   "cell_type": "code",
   "execution_count": 8,
   "metadata": {},
   "outputs": [],
   "source": [
    "model_ar_ret_1 = ARMA(df_copy.returns[1:], order = (1,0))\n",
    "model_ma_ret_1 = ARMA(df_copy.returns[1:], order = (0,1))"
   ]
  },
  {
   "cell_type": "code",
   "execution_count": 9,
   "metadata": {},
   "outputs": [],
   "source": [
    "def LLR_test(mod_1, mod_2, DF=1):\n",
    "    L1 = mod_1.fit().llf\n",
    "    L2 = mod_2.fit().llf\n",
    "    LR = (2*(L2-L1))\n",
    "    p = chi2.sf(LR, DF).round(3)\n",
    "    return p"
   ]
  },
  {
   "cell_type": "code",
   "execution_count": 10,
   "metadata": {},
   "outputs": [
    {
     "name": "stdout",
     "output_type": "stream",
     "text": [
      "For ARMA Vs MA: \n",
      " p_val = 0.0\n",
      "For ARMA Vs AR: \n",
      " p_val = 0.0\n"
     ]
    }
   ],
   "source": [
    "print(\"For ARMA Vs MA: \\n p_val = \" +str(LLR_test(model_ma_ret_1, model_arma_ret_1)))\n",
    "print(\"For ARMA Vs AR: \\n p_val = \" +str(LLR_test(model_ar_ret_1, model_arma_ret_1)))"
   ]
  },
  {
   "cell_type": "markdown",
   "metadata": {},
   "source": [
    "Here we can see pval is less than 0.05 this states that ARMA(1,1) model better for returns than AR(1) and MA(1) models."
   ]
  },
  {
   "cell_type": "code",
   "execution_count": 11,
   "metadata": {},
   "outputs": [
    {
     "data": {
      "image/png": "[encoded data removed]",
      "text/plain": [
       "<Figure size 432x288 with 1 Axes>"
      ]
     },
     "metadata": {},
     "output_type": "display_data"
    },
    {
     "data": {
      "image/png": "[encoded data removed]",
      "text/plain": [
       "<Figure size 432x288 with 1 Axes>"
      ]
     },
     "metadata": {},
     "output_type": "display_data"
    }
   ],
   "source": [
    "sgt.plot_acf(df_copy.returns[1:], zero = False, lags = 40)\n",
    "plt.title(\"ACF plot for Returns\", size = 24);\n",
    "sgt.plot_pacf(df_copy.returns[1:], zero = False, lags = 40)\n",
    "plt.title(\"PACF plot for Returns\", size = 24);"
   ]
  },
  {
   "cell_type": "markdown",
   "metadata": {},
   "source": [
    "Here the plots depicts that from ACF we can say that not more than 8 lags are required for AR and PACF states that not more than 6 lags are required for MA model for giving better results. Thus instead considering ARMA(8,6) we'll consider ARMA(4,3)."
   ]
  },
  {
   "cell_type": "markdown",
   "metadata": {},
   "source": [
    "## Higher Lag ARMA models"
   ]
  },
  {
   "cell_type": "code",
   "execution_count": 12,
   "metadata": {},
   "outputs": [
    {
     "name": "stdout",
     "output_type": "stream",
     "text": [
      "                              ARMA Model Results                              \n",
      "==============================================================================\n",
      "Dep. Variable:                returns   No. Observations:                 6276\n",
      "Model:                     ARMA(3, 3)   Log Likelihood               -9564.828\n",
      "Method:                       css-mle   S.D. of innovations              1.111\n",
      "Date:                Mon, 19 Oct 2020   AIC                          19145.656\n",
      "Time:                        11:16:26   BIC                          19199.612\n",
      "Sample:                    01-10-1994   HQIC                         19164.351\n",
      "                         - 01-29-2018                                         \n",
      "=================================================================================\n",
      "                    coef    std err          z      P>|z|      [0.025      0.975]\n",
      "---------------------------------------------------------------------------------\n",
      "const             0.0190      0.011      1.664      0.096      -0.003       0.041\n",
      "ar.L1.returns    -0.1278      0.106     -1.202      0.229      -0.336       0.081\n",
      "ar.L2.returns    -0.2079      0.097     -2.154      0.031      -0.397      -0.019\n",
      "ar.L3.returns     0.5021      0.131      3.835      0.000       0.245       0.759\n",
      "ma.L1.returns     0.1126      0.102      1.105      0.269      -0.087       0.312\n",
      "ma.L2.returns     0.1461      0.094      1.556      0.120      -0.038       0.330\n",
      "ma.L3.returns    -0.5788      0.121     -4.799      0.000      -0.815      -0.342\n",
      "                                    Roots                                    \n",
      "=============================================================================\n",
      "                  Real          Imaginary           Modulus         Frequency\n",
      "-----------------------------------------------------------------------------\n",
      "AR.1           -0.5363           -1.0258j            1.1575           -0.3267\n",
      "AR.2           -0.5363           +1.0258j            1.1575            0.3267\n",
      "AR.3            1.4865           -0.0000j            1.4865           -0.0000\n",
      "MA.1           -0.5477           -0.9909j            1.1322           -0.3304\n",
      "MA.2           -0.5477           +0.9909j            1.1322            0.3304\n",
      "MA.3            1.3478           -0.0000j            1.3478           -0.0000\n",
      "-----------------------------------------------------------------------------\n",
      "LLR test results : \n",
      " p_val = 0.0\n"
     ]
    }
   ],
   "source": [
    "model_arma_ret_33 = ARMA(df_copy.returns[1:], order = (3,3))\n",
    "results_arma_ret_33 = model_arma_ret_33.fit()\n",
    "print(results_arma_ret_33.summary())\n",
    "print(\"LLR test results : \\n p_val = \" +str(LLR_test(model_arma_ret_1, model_arma_ret_33, DF = 4)))"
   ]
  },
  {
   "cell_type": "markdown",
   "metadata": {},
   "source": [
    "Result states that ARMA(3,3) is better than ARMA(1,1)."
   ]
  },
  {
   "cell_type": "code",
   "execution_count": 13,
   "metadata": {},
   "outputs": [
    {
     "name": "stdout",
     "output_type": "stream",
     "text": [
      "                              ARMA Model Results                              \n",
      "==============================================================================\n",
      "Dep. Variable:                returns   No. Observations:                 6276\n",
      "Model:                     ARMA(3, 2)   Log Likelihood               -9568.878\n",
      "Method:                       css-mle   S.D. of innovations              1.112\n",
      "Date:                Mon, 19 Oct 2020   AIC                          19151.755\n",
      "Time:                        11:16:40   BIC                          19198.967\n",
      "Sample:                    01-10-1994   HQIC                         19168.113\n",
      "                         - 01-29-2018                                         \n",
      "=================================================================================\n",
      "                    coef    std err          z      P>|z|      [0.025      0.975]\n",
      "---------------------------------------------------------------------------------\n",
      "const             0.0190      0.013      1.472      0.141      -0.006       0.044\n",
      "ar.L1.returns    -0.6818      0.113     -6.025      0.000      -0.904      -0.460\n",
      "ar.L2.returns    -0.3567      0.157     -2.270      0.023      -0.665      -0.049\n",
      "ar.L3.returns    -0.0965      0.013     -7.588      0.000      -0.121      -0.072\n",
      "ma.L1.returns     0.6648      0.114      5.853      0.000       0.442       0.887\n",
      "ma.L2.returns     0.2988      0.159      1.884      0.060      -0.012       0.610\n",
      "                                    Roots                                    \n",
      "=============================================================================\n",
      "                  Real          Imaginary           Modulus         Frequency\n",
      "-----------------------------------------------------------------------------\n",
      "AR.1           -0.5864           -1.9396j            2.0263           -0.2967\n",
      "AR.2           -0.5864           +1.9396j            2.0263            0.2967\n",
      "AR.3           -2.5241           -0.0000j            2.5241           -0.5000\n",
      "MA.1           -1.1125           -1.4524j            1.8295           -0.3540\n",
      "MA.2           -1.1125           +1.4524j            1.8295            0.3540\n",
      "-----------------------------------------------------------------------------\n"
     ]
    }
   ],
   "source": [
    "model_arma_ret_32 = ARMA(df_copy.returns[1:], order = (3,2))\n",
    "results_arma_ret_32 = model_arma_ret_32.fit()\n",
    "print(results_arma_ret_32.summary())"
   ]
  },
  {
   "cell_type": "code",
   "execution_count": null,
   "metadata": {},
   "outputs": [],
   "source": [
    "model_arma_ret_23 = ARMA(df_copy.returns[1:], order = (2,3))\n",
    "results_arma_ret_23 = model_arma_ret_23.fit()\n",
    "print(results_arma_ret_23.summary())"
   ]
  },
  {
   "cell_type": "code",
   "execution_count": null,
   "metadata": {},
   "outputs": [],
   "source": [
    "model_arma_ret_22 = ARMA(df_copy.returns[1:], order = (2,2))\n",
    "results_arma_ret_22 = model_arma_ret_22.fit()\n",
    "print(results_arma_ret_22.summary())"
   ]
  },
  {
   "cell_type": "code",
   "execution_count": null,
   "metadata": {},
   "outputs": [],
   "source": [
    "model_arma_ret_13 = ARMA(df_copy.returns[1:], order = (1,3))\n",
    "results_arma_ret_13 = model_arma_ret_13.fit()\n",
    "print(results_arma_ret_13.summary())"
   ]
  },
  {
   "cell_type": "code",
   "execution_count": null,
   "metadata": {},
   "outputs": [],
   "source": [
    "print(\"ARMA (1,3): \\n LL = \", results_arma_ret_13.llf,\"\\t AIC = \", results_arma_ret_13.aic)\n",
    "print(\"ARMA (3,2): \\n LL = \", results_arma_ret_32.llf,\"\\t AIC = \", results_arma_ret_32.aic)"
   ]
  },
  {
   "cell_type": "markdown",
   "metadata": {},
   "source": [
    "Thus we conclude ARMA(1,3) is better than ARMA(3,2)"
   ]
  },
  {
   "cell_type": "markdown",
   "metadata": {},
   "source": [
    "## Residuals for Returns"
   ]
  },
  {
   "cell_type": "code",
   "execution_count": null,
   "metadata": {},
   "outputs": [],
   "source": [
    "df_copy['res_ret_arma13'] = results_arma_ret_13.resid[1:]"
   ]
  },
  {
   "cell_type": "code",
   "execution_count": null,
   "metadata": {},
   "outputs": [],
   "source": [
    "df_copy.res_ret_arma13.plot(figsize = (20,5))\n",
    "plt.title('Residuals of Returns', size = 24)\n",
    "plt.show()"
   ]
  },
  {
   "cell_type": "code",
   "execution_count": null,
   "metadata": {},
   "outputs": [],
   "source": [
    "sgt.plot_acf(df_copy.res_ret_arma13[2:], zero = False, lags = 40)\n",
    "plt.title(\"ACF plot for Residulas\", size = 24);"
   ]
  },
  {
   "cell_type": "markdown",
   "metadata": {},
   "source": [
    "## Revaluating Model Selection"
   ]
  },
  {
   "cell_type": "code",
   "execution_count": null,
   "metadata": {},
   "outputs": [],
   "source": [
    "model_arma_ret_51 = ARMA(df_copy.returns[1:], order = (5,1))\n",
    "results_arma_ret_51 = model_arma_ret_51.fit()\n",
    "print(results_arma_ret_51.summary())"
   ]
  },
  {
   "cell_type": "code",
   "execution_count": null,
   "metadata": {},
   "outputs": [],
   "source": [
    "model_arma_ret_15 = ARMA(df_copy.returns[1:], order = (1,5))\n",
    "results_arma_ret_15 = model_arma_ret_15.fit()\n",
    "print(results_arma_ret_15.summary())"
   ]
  },
  {
   "cell_type": "code",
   "execution_count": null,
   "metadata": {},
   "outputs": [],
   "source": [
    "print(\"ARMA (1,5): \\n LL = \", results_arma_ret_15.llf,\"\\t AIC = \", results_arma_ret_15.aic)\n",
    "print(\"ARMA (5,1): \\n LL = \", results_arma_ret_51.llf,\"\\t AIC = \", results_arma_ret_51.aic)"
   ]
  },
  {
   "cell_type": "code",
   "execution_count": null,
   "metadata": {},
   "outputs": [],
   "source": [
    "print(\"ARMA (1,3): \\n LL = \", results_arma_ret_13.llf,\"\\t AIC = \", results_arma_ret_13.aic)\n",
    "print(\"ARMA (5,1): \\n LL = \", results_arma_ret_51.llf,\"\\t AIC = \", results_arma_ret_51.aic)"
   ]
  },
  {
   "cell_type": "markdown",
   "metadata": {},
   "source": [
    "Thus we can see low AIC hence ARMA(5,1) is the best model so far."
   ]
  },
  {
   "cell_type": "markdown",
   "metadata": {},
   "source": [
    "## Residuals for New Model"
   ]
  },
  {
   "cell_type": "code",
   "execution_count": null,
   "metadata": {},
   "outputs": [],
   "source": [
    "df_copy['res_ret_arma51'] = results_arma_ret_51.resid\n",
    "df_copy.res_ret_arma51.plot(figsize = (20,5))\n",
    "plt.title('Residuals of Returns', size = 24)\n",
    "plt.show()"
   ]
  },
  {
   "cell_type": "code",
   "execution_count": null,
   "metadata": {},
   "outputs": [],
   "source": [
    "sgt.plot_acf(df_copy.res_ret_arma51[1:], zero = False, lags = 40)\n",
    "plt.title(\"ACF plot for Residulas\", size = 24);"
   ]
  },
  {
   "cell_type": "markdown",
   "metadata": {},
   "source": [
    "Random residulas as usually prefered."
   ]
  },
  {
   "cell_type": "markdown",
   "metadata": {},
   "source": [
    "## ARMA Models for Prices"
   ]
  },
  {
   "cell_type": "code",
   "execution_count": null,
   "metadata": {},
   "outputs": [],
   "source": [
    "sgt.plot_acf(df_copy.market_val, unbiased = True, zero = False, lags = 40)\n",
    "plt.title(\"ACF plot for Prices\", size = 20);"
   ]
  },
  {
   "cell_type": "code",
   "execution_count": null,
   "metadata": {},
   "outputs": [],
   "source": [
    "sgt.plot_pacf(df_copy.market_val, alpha = 0.05, zero = False, lags = 40, method = ('ols'))\n",
    "plt.title(\"PACF plot for Prices\", size = 20);"
   ]
  },
  {
   "cell_type": "code",
   "execution_count": null,
   "metadata": {},
   "outputs": [],
   "source": [
    "model_arma_price_1 = ARMA(df_copy.market_val, order = (1,1))\n",
    "results_arma_price_1 = model_arma_price_1.fit()\n",
    "results_arma_price_1.summary()"
   ]
  },
  {
   "cell_type": "code",
   "execution_count": null,
   "metadata": {},
   "outputs": [],
   "source": [
    "df_copy['res_price_arma1'] = results_arma_price_1.resid\n",
    "sgt.plot_acf(df_copy.res_price_arma1, unbiased = True, zero = False, lags = 40)\n",
    "plt.title(\"ACF plot for Residuals of Prices\", size = 20);"
   ]
  },
  {
   "cell_type": "code",
   "execution_count": null,
   "metadata": {},
   "outputs": [],
   "source": [
    "model_arma_price_66 = ARMA(df_copy.market_val, order = (6,6))\n",
    "results_arma_price_66 = model_arma_price_66.fit(start_ar_lags = 14)\n",
    "print(results_arma_price_66.summary())"
   ]
  },
  {
   "cell_type": "code",
   "execution_count": null,
   "metadata": {},
   "outputs": [],
   "source": [
    "model_arma_price_56 = ARMA(df_copy.market_val, order = (5,6))\n",
    "results_arma_price_56 = model_arma_price_56.fit(start_ar_lags = 14)\n",
    "print(results_arma_price_56.summary())"
   ]
  },
  {
   "cell_type": "code",
   "execution_count": null,
   "metadata": {},
   "outputs": [],
   "source": [
    "model_arma_price_61 = ARMA(df_copy.market_val, order = (6,1))\n",
    "results_arma_price_61 = model_arma_price_61.fit(start_ar_lags = 14)\n",
    "print(results_arma_price_61.summary())"
   ]
  },
  {
   "cell_type": "code",
   "execution_count": null,
   "metadata": {},
   "outputs": [],
   "source": [
    "print(\"ARMA (5,6): \\n LL = \", results_arma_price_56.llf,\"\\t AIC = \", results_arma_price_56.aic)\n",
    "print(\"ARMA (6,1): \\n LL = \", results_arma_price_61.llf,\"\\t AIC = \", results_arma_price_61.aic)"
   ]
  },
  {
   "cell_type": "markdown",
   "metadata": {},
   "source": [
    "Thus ARMA(6,1) should be preferred over ARMA(5,6)"
   ]
  },
  {
   "cell_type": "code",
   "execution_count": null,
   "metadata": {},
   "outputs": [],
   "source": [
    "df_copy['res_price_arma61'] = results_arma_price_61.resid\n",
    "sgt.plot_acf(df_copy.res_price_arma1, unbiased = True, zero = False, lags = 40)\n",
    "plt.title(\"ACF plot for Residuals of Prices\", size = 20);"
   ]
  },
  {
   "cell_type": "code",
   "execution_count": null,
   "metadata": {},
   "outputs": [],
   "source": [
    "print(\"ARMA (5,6): \\n LL = \", results_arma_price_56.llf,\"\\t AIC = \", results_arma_price_56.aic)\n",
    "print(\"ARMA (6,1): \\n LL = \", results_arma_price_61.llf,\"\\t AIC = \", results_arma_price_61.aic)\n",
    "print(\"ARMA (5,1): \\n LL = \", results_arma_ret_51.llf,\"\\t AIC = \", results_arma_ret_51.aic)"
   ]
  },
  {
   "cell_type": "markdown",
   "metadata": {},
   "source": [
    "Thus we can see that ARMA model performs better for Stationary data"
   ]
  },
  {
   "cell_type": "code",
   "execution_count": null,
   "metadata": {},
   "outputs": [],
   "source": []
  }
 ],
 "metadata": {
  "kernelspec": {
   "display_name": "Python 3",
   "language": "python",
   "name": "python3"
  },
  "language_info": {
   "codemirror_mode": {
    "name": "ipython",
    "version": 3
   },
   "file_extension": ".py",
   "mimetype": "text/x-python",
   "name": "python",
   "nbconvert_exporter": "python",
   "pygments_lexer": "ipython3",
   "version": "3.7.6"
  }
 },
 "nbformat": 4,
 "nbformat_minor": 4
}
