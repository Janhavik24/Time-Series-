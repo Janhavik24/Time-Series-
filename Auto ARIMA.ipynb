{
 "cells": [
  {
   "cell_type": "markdown",
   "metadata": {},
   "source": [
    "## Auto ARIMA method\n",
    "#####  Pros: \n",
    " 1) Saves time\n",
    " \n",
    " 2) Removes Ambiguity\n",
    " \n",
    " 3) Reduces risk of human error\n",
    "#####  Cons:\n",
    " 1) Blindly putting our faith in one criterion\n",
    " \n",
    " 2) We can never really see how well the other models perform\n",
    " \n",
    " 3) Topic experties\n",
    " \n",
    " 4) Human error like misspelled parameters or misinterpretation of results"
   ]
  },
  {
   "cell_type": "code",
   "execution_count": 1,
   "metadata": {},
   "outputs": [],
   "source": [
    "import pandas as pd\n",
    "import numpy as np\n",
    "import matplotlib.pyplot as plt\n",
    "import statsmodels.graphics.tsaplots as sgt\n",
    "import statsmodels.tsa.stattools as sts\n",
    "from statsmodels.tsa.arima_model import ARIMA\n",
    "from scipy.stats.distributions import chi2\n",
    "from math import sqrt\n",
    "import seaborn as sns\n",
    "import warnings\n",
    "warnings.filterwarnings('ignore')\n",
    "sns.set()"
   ]
  },
  {
   "cell_type": "code",
   "execution_count": 2,
   "metadata": {},
   "outputs": [
    {
     "data": {
      "text/html": [
       "<div>\n",
       "<style scoped>\n",
       "    .dataframe tbody tr th:only-of-type {\n",
       "        vertical-align: middle;\n",
       "    }\n",
       "\n",
       "    .dataframe tbody tr th {\n",
       "        vertical-align: top;\n",
       "    }\n",
       "\n",
       "    .dataframe thead th {\n",
       "        text-align: right;\n",
       "    }\n",
       "</style>\n",
       "<table border=\"1\" class=\"dataframe\">\n",
       "  <thead>\n",
       "    <tr style=\"text-align: right;\">\n",
       "      <th></th>\n",
       "      <th>spx</th>\n",
       "      <th>dax</th>\n",
       "      <th>ftse</th>\n",
       "      <th>nikkei</th>\n",
       "    </tr>\n",
       "    <tr>\n",
       "      <th>date</th>\n",
       "      <th></th>\n",
       "      <th></th>\n",
       "      <th></th>\n",
       "      <th></th>\n",
       "    </tr>\n",
       "  </thead>\n",
       "  <tbody>\n",
       "    <tr>\n",
       "      <th>1994-01-07</th>\n",
       "      <td>469.90</td>\n",
       "      <td>2224.95</td>\n",
       "      <td>3445.98</td>\n",
       "      <td>18124.01</td>\n",
       "    </tr>\n",
       "    <tr>\n",
       "      <th>1994-01-10</th>\n",
       "      <td>475.27</td>\n",
       "      <td>2225.00</td>\n",
       "      <td>3440.58</td>\n",
       "      <td>18443.44</td>\n",
       "    </tr>\n",
       "    <tr>\n",
       "      <th>1994-01-11</th>\n",
       "      <td>474.13</td>\n",
       "      <td>2228.10</td>\n",
       "      <td>3413.77</td>\n",
       "      <td>18485.25</td>\n",
       "    </tr>\n",
       "    <tr>\n",
       "      <th>1994-01-12</th>\n",
       "      <td>474.17</td>\n",
       "      <td>2182.06</td>\n",
       "      <td>3372.02</td>\n",
       "      <td>18793.88</td>\n",
       "    </tr>\n",
       "    <tr>\n",
       "      <th>1994-01-13</th>\n",
       "      <td>472.47</td>\n",
       "      <td>2142.37</td>\n",
       "      <td>3360.01</td>\n",
       "      <td>18577.26</td>\n",
       "    </tr>\n",
       "  </tbody>\n",
       "</table>\n",
       "</div>"
      ],
      "text/plain": [
       "               spx      dax     ftse    nikkei\n",
       "date                                          \n",
       "1994-01-07  469.90  2224.95  3445.98  18124.01\n",
       "1994-01-10  475.27  2225.00  3440.58  18443.44\n",
       "1994-01-11  474.13  2228.10  3413.77  18485.25\n",
       "1994-01-12  474.17  2182.06  3372.02  18793.88\n",
       "1994-01-13  472.47  2142.37  3360.01  18577.26"
      ]
     },
     "execution_count": 2,
     "metadata": {},
     "output_type": "execute_result"
    }
   ],
   "source": [
    "df = pd.read_csv(r\"Downloads\\Index2018.csv\")\n",
    "df_copy = df.copy()\n",
    "df_copy.date = pd.to_datetime(df_copy.date, dayfirst = True)\n",
    "df_copy.set_index('date', inplace = True)\n",
    "df_copy = df_copy.asfreq('b')\n",
    "df_copy = df_copy.fillna(method = 'ffill')\n",
    "df_copy.head()"
   ]
  },
  {
   "cell_type": "markdown",
   "metadata": {},
   "source": [
    "## Creating Returns"
   ]
  },
  {
   "cell_type": "code",
   "execution_count": 3,
   "metadata": {},
   "outputs": [],
   "source": [
    "df_copy['ret_spx'] = df_copy.spx.pct_change(1).mul(100)\n",
    "df_copy['ret_dax'] = df_copy.dax.pct_change(1).mul(100)\n",
    "df_copy['ret_ftse'] = df_copy.ftse.pct_change(1).mul(100)\n",
    "df_copy['ret_nikkei'] = df_copy.nikkei.pct_change(1).mul(100)"
   ]
  },
  {
   "cell_type": "markdown",
   "metadata": {},
   "source": [
    "## Splitting the data"
   ]
  },
  {
   "cell_type": "code",
   "execution_count": 4,
   "metadata": {},
   "outputs": [],
   "source": [
    "size = int(len(df_copy)*0.8)\n",
    "df, df_test = df_copy.iloc[:size], df_copy.iloc[size:]"
   ]
  },
  {
   "cell_type": "markdown",
   "metadata": {},
   "source": [
    "## Fitting a Model"
   ]
  },
  {
   "cell_type": "code",
   "execution_count": 5,
   "metadata": {},
   "outputs": [],
   "source": [
    "from pmdarima.arima import auto_arima"
   ]
  },
  {
   "cell_type": "code",
   "execution_count": 6,
   "metadata": {},
   "outputs": [],
   "source": [
    "model_auto = auto_arima(df.ret_ftse[1:])"
   ]
  },
  {
   "cell_type": "code",
   "execution_count": 7,
   "metadata": {},
   "outputs": [
    {
     "data": {
      "text/plain": [
       "ARIMA(maxiter=50, method='lbfgs', order=(4, 0, 5), out_of_sample_size=0,\n",
       "      scoring='mse', scoring_args={}, seasonal_order=(0, 0, 0, 0),\n",
       "      start_params=None, suppress_warnings=False, trend=None,\n",
       "      with_intercept=False)"
      ]
     },
     "execution_count": 7,
     "metadata": {},
     "output_type": "execute_result"
    }
   ],
   "source": [
    "model_auto"
   ]
  },
  {
   "cell_type": "code",
   "execution_count": 8,
   "metadata": {},
   "outputs": [
    {
     "data": {
      "text/html": [
       "<table class=\"simpletable\">\n",
       "<caption>SARIMAX Results</caption>\n",
       "<tr>\n",
       "  <th>Dep. Variable:</th>           <td>y</td>        <th>  No. Observations:  </th>   <td>5020</td>   \n",
       "</tr>\n",
       "<tr>\n",
       "  <th>Model:</th>           <td>SARIMAX(4, 0, 5)</td> <th>  Log Likelihood     </th> <td>-7883.705</td>\n",
       "</tr>\n",
       "<tr>\n",
       "  <th>Date:</th>            <td>Mon, 26 Oct 2020</td> <th>  AIC                </th> <td>15787.410</td>\n",
       "</tr>\n",
       "<tr>\n",
       "  <th>Time:</th>                <td>09:44:23</td>     <th>  BIC                </th> <td>15852.622</td>\n",
       "</tr>\n",
       "<tr>\n",
       "  <th>Sample:</th>                  <td>0</td>        <th>  HQIC               </th> <td>15810.261</td>\n",
       "</tr>\n",
       "<tr>\n",
       "  <th></th>                      <td> - 5020</td>     <th>                     </th>     <td> </td>    \n",
       "</tr>\n",
       "<tr>\n",
       "  <th>Covariance Type:</th>        <td>opg</td>       <th>                     </th>     <td> </td>    \n",
       "</tr>\n",
       "</table>\n",
       "<table class=\"simpletable\">\n",
       "<tr>\n",
       "     <td></td>       <th>coef</th>     <th>std err</th>      <th>z</th>      <th>P>|z|</th>  <th>[0.025</th>    <th>0.975]</th>  \n",
       "</tr>\n",
       "<tr>\n",
       "  <th>ar.L1</th>  <td>   -0.0013</td> <td>    0.082</td> <td>   -0.016</td> <td> 0.987</td> <td>   -0.162</td> <td>    0.159</td>\n",
       "</tr>\n",
       "<tr>\n",
       "  <th>ar.L2</th>  <td>   -0.6526</td> <td>    0.078</td> <td>   -8.413</td> <td> 0.000</td> <td>   -0.805</td> <td>   -0.501</td>\n",
       "</tr>\n",
       "<tr>\n",
       "  <th>ar.L3</th>  <td>   -0.1768</td> <td>    0.071</td> <td>   -2.486</td> <td> 0.013</td> <td>   -0.316</td> <td>   -0.037</td>\n",
       "</tr>\n",
       "<tr>\n",
       "  <th>ar.L4</th>  <td>    0.1979</td> <td>    0.075</td> <td>    2.653</td> <td> 0.008</td> <td>    0.052</td> <td>    0.344</td>\n",
       "</tr>\n",
       "<tr>\n",
       "  <th>ma.L1</th>  <td>   -0.0232</td> <td>    0.081</td> <td>   -0.284</td> <td> 0.776</td> <td>   -0.183</td> <td>    0.136</td>\n",
       "</tr>\n",
       "<tr>\n",
       "  <th>ma.L2</th>  <td>    0.6052</td> <td>    0.078</td> <td>    7.743</td> <td> 0.000</td> <td>    0.452</td> <td>    0.758</td>\n",
       "</tr>\n",
       "<tr>\n",
       "  <th>ma.L3</th>  <td>    0.0761</td> <td>    0.068</td> <td>    1.111</td> <td> 0.266</td> <td>   -0.058</td> <td>    0.210</td>\n",
       "</tr>\n",
       "<tr>\n",
       "  <th>ma.L4</th>  <td>   -0.1901</td> <td>    0.073</td> <td>   -2.597</td> <td> 0.009</td> <td>   -0.334</td> <td>   -0.047</td>\n",
       "</tr>\n",
       "<tr>\n",
       "  <th>ma.L5</th>  <td>   -0.1049</td> <td>    0.010</td> <td>  -11.009</td> <td> 0.000</td> <td>   -0.124</td> <td>   -0.086</td>\n",
       "</tr>\n",
       "<tr>\n",
       "  <th>sigma2</th> <td>    1.3530</td> <td>    0.015</td> <td>   91.558</td> <td> 0.000</td> <td>    1.324</td> <td>    1.382</td>\n",
       "</tr>\n",
       "</table>\n",
       "<table class=\"simpletable\">\n",
       "<tr>\n",
       "  <th>Ljung-Box (Q):</th>          <td>67.07</td> <th>  Jarque-Bera (JB):  </th> <td>6361.38</td>\n",
       "</tr>\n",
       "<tr>\n",
       "  <th>Prob(Q):</th>                <td>0.00</td>  <th>  Prob(JB):          </th>  <td>0.00</td>  \n",
       "</tr>\n",
       "<tr>\n",
       "  <th>Heteroskedasticity (H):</th> <td>1.99</td>  <th>  Skew:              </th>  <td>-0.19</td> \n",
       "</tr>\n",
       "<tr>\n",
       "  <th>Prob(H) (two-sided):</th>    <td>0.00</td>  <th>  Kurtosis:          </th>  <td>8.50</td>  \n",
       "</tr>\n",
       "</table><br/><br/>Warnings:<br/>[1] Covariance matrix calculated using the outer product of gradients (complex-step)."
      ],
      "text/plain": [
       "<class 'statsmodels.iolib.summary.Summary'>\n",
       "\"\"\"\n",
       "                               SARIMAX Results                                \n",
       "==============================================================================\n",
       "Dep. Variable:                      y   No. Observations:                 5020\n",
       "Model:               SARIMAX(4, 0, 5)   Log Likelihood               -7883.705\n",
       "Date:                Mon, 26 Oct 2020   AIC                          15787.410\n",
       "Time:                        09:44:23   BIC                          15852.622\n",
       "Sample:                             0   HQIC                         15810.261\n",
       "                               - 5020                                         \n",
       "Covariance Type:                  opg                                         \n",
       "==============================================================================\n",
       "                 coef    std err          z      P>|z|      [0.025      0.975]\n",
       "------------------------------------------------------------------------------\n",
       "ar.L1         -0.0013      0.082     -0.016      0.987      -0.162       0.159\n",
       "ar.L2         -0.6526      0.078     -8.413      0.000      -0.805      -0.501\n",
       "ar.L3         -0.1768      0.071     -2.486      0.013      -0.316      -0.037\n",
       "ar.L4          0.1979      0.075      2.653      0.008       0.052       0.344\n",
       "ma.L1         -0.0232      0.081     -0.284      0.776      -0.183       0.136\n",
       "ma.L2          0.6052      0.078      7.743      0.000       0.452       0.758\n",
       "ma.L3          0.0761      0.068      1.111      0.266      -0.058       0.210\n",
       "ma.L4         -0.1901      0.073     -2.597      0.009      -0.334      -0.047\n",
       "ma.L5         -0.1049      0.010    -11.009      0.000      -0.124      -0.086\n",
       "sigma2         1.3530      0.015     91.558      0.000       1.324       1.382\n",
       "===================================================================================\n",
       "Ljung-Box (Q):                       67.07   Jarque-Bera (JB):              6361.38\n",
       "Prob(Q):                              0.00   Prob(JB):                         0.00\n",
       "Heteroskedasticity (H):               1.99   Skew:                            -0.19\n",
       "Prob(H) (two-sided):                  0.00   Kurtosis:                         8.50\n",
       "===================================================================================\n",
       "\n",
       "Warnings:\n",
       "[1] Covariance matrix calculated using the outer product of gradients (complex-step).\n",
       "\"\"\""
      ]
     },
     "execution_count": 8,
     "metadata": {},
     "output_type": "execute_result"
    }
   ],
   "source": [
    "model_auto.summary()"
   ]
  },
  {
   "cell_type": "markdown",
   "metadata": {},
   "source": [
    "Here we can see order of seasonal term is zero which indicates there's no seasonal component in our data. Also the order of integration term i.e d is zero thus given model does not need any integrated term. And as we haven't provided any exogeneous varaible we do not need SARIMAX model for our dataset. Instead an ARMA model of order(4,5) can be useful. "
   ]
  },
  {
   "cell_type": "markdown",
   "metadata": {},
   "source": [
    "- Comment on the summary table:\n",
    "\n",
    "1) the rules of model selection are thumb rules rather than fixed.\n",
    "\n",
    "2) Auto ARIMA also considers a single feature - the AIC.\n",
    "\n",
    "3) We could have easily overfitted while going through models in our previous cases.\n",
    "\n",
    "4) The default arguments of the method restricts the number of AR and MA terms."
   ]
  },
  {
   "cell_type": "code",
   "execution_count": 12,
   "metadata": {},
   "outputs": [],
   "source": [
    "model_auto_1 = auto_arima(df_copy.ret_ftse[1:], exogenous = df_copy[[\"ret_spx\", \"ret_dax\", \"ret_nikkei\"]][1:], m = 5, \n",
    "                          max_order = None, max_p = 7, max_q = 7, max_d = 2, max_P = 4, max_Q = 4, max_D = 2,\n",
    "                          maxiters = 50, alpha = 0.05, n_jobs = -1, trend = \"ct\", information_criterion = \"oob\", \n",
    "                          out_of_sample = int(len(df_copy)*0.2))\n",
    "## Here we can also use ctt for quadratic trend and (1,0,0,1) for a constant term and trend of 3rd degree\n",
    "## oob = out of bag"
   ]
  },
  {
   "cell_type": "code",
   "execution_count": 13,
   "metadata": {},
   "outputs": [
    {
     "data": {
      "text/html": [
       "<table class=\"simpletable\">\n",
       "<caption>SARIMAX Results</caption>\n",
       "<tr>\n",
       "  <th>Dep. Variable:</th>                       <td>y</td>                    <th>  No. Observations:  </th>   <td>6276</td>   \n",
       "</tr>\n",
       "<tr>\n",
       "  <th>Model:</th>           <td>SARIMAX(0, 0, 1)x(0, 0, [1, 2, 3, 4], 5)</td> <th>  Log Likelihood     </th> <td>-6366.707</td>\n",
       "</tr>\n",
       "<tr>\n",
       "  <th>Date:</th>                        <td>Mon, 26 Oct 2020</td>             <th>  AIC                </th> <td>12755.414</td>\n",
       "</tr>\n",
       "<tr>\n",
       "  <th>Time:</th>                            <td>10:35:59</td>                 <th>  BIC                </th> <td>12829.603</td>\n",
       "</tr>\n",
       "<tr>\n",
       "  <th>Sample:</th>                         <td>01-10-1994</td>                <th>  HQIC               </th> <td>12781.119</td>\n",
       "</tr>\n",
       "<tr>\n",
       "  <th></th>                               <td>- 01-29-2018</td>               <th>                     </th>     <td> </td>    \n",
       "</tr>\n",
       "<tr>\n",
       "  <th>Covariance Type:</th>                    <td>opg</td>                   <th>                     </th>     <td> </td>    \n",
       "</tr>\n",
       "</table>\n",
       "<table class=\"simpletable\">\n",
       "<tr>\n",
       "       <td></td>         <th>coef</th>     <th>std err</th>      <th>z</th>      <th>P>|z|</th>  <th>[0.025</th>    <th>0.975]</th>  \n",
       "</tr>\n",
       "<tr>\n",
       "  <th>intercept</th>  <td>   -0.0021</td> <td>    0.013</td> <td>   -0.159</td> <td> 0.874</td> <td>   -0.028</td> <td>    0.024</td>\n",
       "</tr>\n",
       "<tr>\n",
       "  <th>drift</th>      <td>-1.749e-06</td> <td> 4.14e-06</td> <td>   -0.423</td> <td> 0.673</td> <td>-9.86e-06</td> <td> 6.36e-06</td>\n",
       "</tr>\n",
       "<tr>\n",
       "  <th>ret_spx</th>    <td>    0.0989</td> <td>    0.006</td> <td>   17.680</td> <td> 0.000</td> <td>    0.088</td> <td>    0.110</td>\n",
       "</tr>\n",
       "<tr>\n",
       "  <th>ret_dax</th>    <td>    0.5525</td> <td>    0.005</td> <td>  115.093</td> <td> 0.000</td> <td>    0.543</td> <td>    0.562</td>\n",
       "</tr>\n",
       "<tr>\n",
       "  <th>ret_nikkei</th> <td>    0.0730</td> <td>    0.004</td> <td>   17.231</td> <td> 0.000</td> <td>    0.065</td> <td>    0.081</td>\n",
       "</tr>\n",
       "<tr>\n",
       "  <th>ma.L1</th>      <td>   -0.1098</td> <td>    0.007</td> <td>  -15.017</td> <td> 0.000</td> <td>   -0.124</td> <td>   -0.095</td>\n",
       "</tr>\n",
       "<tr>\n",
       "  <th>ma.S.L5</th>    <td>   -0.0317</td> <td>    0.009</td> <td>   -3.715</td> <td> 0.000</td> <td>   -0.048</td> <td>   -0.015</td>\n",
       "</tr>\n",
       "<tr>\n",
       "  <th>ma.S.L10</th>   <td>   -0.0527</td> <td>    0.009</td> <td>   -5.765</td> <td> 0.000</td> <td>   -0.071</td> <td>   -0.035</td>\n",
       "</tr>\n",
       "<tr>\n",
       "  <th>ma.S.L15</th>   <td>   -0.0236</td> <td>    0.009</td> <td>   -2.684</td> <td> 0.007</td> <td>   -0.041</td> <td>   -0.006</td>\n",
       "</tr>\n",
       "<tr>\n",
       "  <th>ma.S.L20</th>   <td>   -0.0278</td> <td>    0.009</td> <td>   -3.099</td> <td> 0.002</td> <td>   -0.045</td> <td>   -0.010</td>\n",
       "</tr>\n",
       "<tr>\n",
       "  <th>sigma2</th>     <td>    0.4473</td> <td>    0.004</td> <td>  100.681</td> <td> 0.000</td> <td>    0.439</td> <td>    0.456</td>\n",
       "</tr>\n",
       "</table>\n",
       "<table class=\"simpletable\">\n",
       "<tr>\n",
       "  <th>Ljung-Box (Q):</th>          <td>72.43</td> <th>  Jarque-Bera (JB):  </th> <td>14296.82</td>\n",
       "</tr>\n",
       "<tr>\n",
       "  <th>Prob(Q):</th>                <td>0.00</td>  <th>  Prob(JB):          </th>   <td>0.00</td>  \n",
       "</tr>\n",
       "<tr>\n",
       "  <th>Heteroskedasticity (H):</th> <td>0.54</td>  <th>  Skew:              </th>   <td>0.23</td>  \n",
       "</tr>\n",
       "<tr>\n",
       "  <th>Prob(H) (two-sided):</th>    <td>0.00</td>  <th>  Kurtosis:          </th>   <td>10.38</td> \n",
       "</tr>\n",
       "</table><br/><br/>Warnings:<br/>[1] Covariance matrix calculated using the outer product of gradients (complex-step)."
      ],
      "text/plain": [
       "<class 'statsmodels.iolib.summary.Summary'>\n",
       "\"\"\"\n",
       "                                          SARIMAX Results                                           \n",
       "====================================================================================================\n",
       "Dep. Variable:                                            y   No. Observations:                 6276\n",
       "Model:             SARIMAX(0, 0, 1)x(0, 0, [1, 2, 3, 4], 5)   Log Likelihood               -6366.707\n",
       "Date:                                      Mon, 26 Oct 2020   AIC                          12755.414\n",
       "Time:                                              10:35:59   BIC                          12829.603\n",
       "Sample:                                          01-10-1994   HQIC                         12781.119\n",
       "                                               - 01-29-2018                                         \n",
       "Covariance Type:                                        opg                                         \n",
       "==============================================================================\n",
       "                 coef    std err          z      P>|z|      [0.025      0.975]\n",
       "------------------------------------------------------------------------------\n",
       "intercept     -0.0021      0.013     -0.159      0.874      -0.028       0.024\n",
       "drift      -1.749e-06   4.14e-06     -0.423      0.673   -9.86e-06    6.36e-06\n",
       "ret_spx        0.0989      0.006     17.680      0.000       0.088       0.110\n",
       "ret_dax        0.5525      0.005    115.093      0.000       0.543       0.562\n",
       "ret_nikkei     0.0730      0.004     17.231      0.000       0.065       0.081\n",
       "ma.L1         -0.1098      0.007    -15.017      0.000      -0.124      -0.095\n",
       "ma.S.L5       -0.0317      0.009     -3.715      0.000      -0.048      -0.015\n",
       "ma.S.L10      -0.0527      0.009     -5.765      0.000      -0.071      -0.035\n",
       "ma.S.L15      -0.0236      0.009     -2.684      0.007      -0.041      -0.006\n",
       "ma.S.L20      -0.0278      0.009     -3.099      0.002      -0.045      -0.010\n",
       "sigma2         0.4473      0.004    100.681      0.000       0.439       0.456\n",
       "===================================================================================\n",
       "Ljung-Box (Q):                       72.43   Jarque-Bera (JB):             14296.82\n",
       "Prob(Q):                              0.00   Prob(JB):                         0.00\n",
       "Heteroskedasticity (H):               0.54   Skew:                             0.23\n",
       "Prob(H) (two-sided):                  0.00   Kurtosis:                        10.38\n",
       "===================================================================================\n",
       "\n",
       "Warnings:\n",
       "[1] Covariance matrix calculated using the outer product of gradients (complex-step).\n",
       "\"\"\""
      ]
     },
     "execution_count": 13,
     "metadata": {},
     "output_type": "execute_result"
    }
   ],
   "source": [
    "model_auto_1.summary()"
   ]
  },
  {
   "cell_type": "markdown",
   "metadata": {},
   "source": [
    "#### Here we can see a significant drop in the value of AIC and hence we have obatined a better model by lossing our criterion."
   ]
  },
  {
   "cell_type": "code",
   "execution_count": null,
   "metadata": {},
   "outputs": [],
   "source": []
  }
 ],
 "metadata": {
  "kernelspec": {
   "display_name": "Python 3",
   "language": "python",
   "name": "python3"
  },
  "language_info": {
   "codemirror_mode": {
    "name": "ipython",
    "version": 3
   },
   "file_extension": ".py",
   "mimetype": "text/x-python",
   "name": "python",
   "nbconvert_exporter": "python",
   "pygments_lexer": "ipython3",
   "version": "3.7.6"
  }
 },
 "nbformat": 4,
 "nbformat_minor": 4
}
