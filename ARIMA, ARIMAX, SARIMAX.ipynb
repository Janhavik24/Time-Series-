{
 "cells": [
  {
   "cell_type": "markdown",
   "metadata": {},
   "source": [
    "## 1) Auto Regressive Integrated Moving Average (ARIMA)\n",
    "## 2) Auto Regressive Integrated Moving Average with Exogeneous (ARIMAX)\n",
    "## 3) Seasonal Auto Regressive Integrated Moving Average with Exogeneous (SARIMAX)"
   ]
  },
  {
   "cell_type": "code",
   "execution_count": 1,
   "metadata": {},
   "outputs": [],
   "source": [
    "import pandas as pd\n",
    "import numpy as np\n",
    "import matplotlib.pyplot as plt\n",
    "import statsmodels.graphics.tsaplots as sgt\n",
    "import statsmodels.tsa.stattools as sts\n",
    "from statsmodels.tsa.arima_model import ARIMA\n",
    "from scipy.stats.distributions import chi2\n",
    "from math import sqrt\n",
    "import seaborn as sns\n",
    "import warnings\n",
    "warnings.filterwarnings('ignore')\n",
    "sns.set()"
   ]
  },
  {
   "cell_type": "code",
   "execution_count": 2,
   "metadata": {},
   "outputs": [
    {
     "data": {
      "text/html": [
       "<div>\n",
       "<style scoped>\n",
       "    .dataframe tbody tr th:only-of-type {\n",
       "        vertical-align: middle;\n",
       "    }\n",
       "\n",
       "    .dataframe tbody tr th {\n",
       "        vertical-align: top;\n",
       "    }\n",
       "\n",
       "    .dataframe thead th {\n",
       "        text-align: right;\n",
       "    }\n",
       "</style>\n",
       "<table border=\"1\" class=\"dataframe\">\n",
       "  <thead>\n",
       "    <tr style=\"text-align: right;\">\n",
       "      <th></th>\n",
       "      <th>spx</th>\n",
       "      <th>dax</th>\n",
       "      <th>ftse</th>\n",
       "      <th>nikkei</th>\n",
       "    </tr>\n",
       "    <tr>\n",
       "      <th>date</th>\n",
       "      <th></th>\n",
       "      <th></th>\n",
       "      <th></th>\n",
       "      <th></th>\n",
       "    </tr>\n",
       "  </thead>\n",
       "  <tbody>\n",
       "    <tr>\n",
       "      <th>1994-01-07</th>\n",
       "      <td>469.90</td>\n",
       "      <td>2224.95</td>\n",
       "      <td>3445.98</td>\n",
       "      <td>18124.01</td>\n",
       "    </tr>\n",
       "    <tr>\n",
       "      <th>1994-01-10</th>\n",
       "      <td>475.27</td>\n",
       "      <td>2225.00</td>\n",
       "      <td>3440.58</td>\n",
       "      <td>18443.44</td>\n",
       "    </tr>\n",
       "    <tr>\n",
       "      <th>1994-01-11</th>\n",
       "      <td>474.13</td>\n",
       "      <td>2228.10</td>\n",
       "      <td>3413.77</td>\n",
       "      <td>18485.25</td>\n",
       "    </tr>\n",
       "    <tr>\n",
       "      <th>1994-01-12</th>\n",
       "      <td>474.17</td>\n",
       "      <td>2182.06</td>\n",
       "      <td>3372.02</td>\n",
       "      <td>18793.88</td>\n",
       "    </tr>\n",
       "    <tr>\n",
       "      <th>1994-01-13</th>\n",
       "      <td>472.47</td>\n",
       "      <td>2142.37</td>\n",
       "      <td>3360.01</td>\n",
       "      <td>18577.26</td>\n",
       "    </tr>\n",
       "  </tbody>\n",
       "</table>\n",
       "</div>"
      ],
      "text/plain": [
       "               spx      dax     ftse    nikkei\n",
       "date                                          \n",
       "1994-01-07  469.90  2224.95  3445.98  18124.01\n",
       "1994-01-10  475.27  2225.00  3440.58  18443.44\n",
       "1994-01-11  474.13  2228.10  3413.77  18485.25\n",
       "1994-01-12  474.17  2182.06  3372.02  18793.88\n",
       "1994-01-13  472.47  2142.37  3360.01  18577.26"
      ]
     },
     "execution_count": 2,
     "metadata": {},
     "output_type": "execute_result"
    }
   ],
   "source": [
    "df = pd.read_csv(r\"Downloads\\Index2018.csv\")\n",
    "df_copy = df.copy()\n",
    "df_copy.date = pd.to_datetime(df_copy.date, dayfirst = True)\n",
    "df_copy.set_index('date', inplace = True)\n",
    "df_copy = df_copy.asfreq('b')\n",
    "df_copy = df_copy.fillna(method = 'ffill')\n",
    "df_copy.head()"
   ]
  },
  {
   "cell_type": "code",
   "execution_count": 3,
   "metadata": {},
   "outputs": [],
   "source": [
    "df_copy['market_val'] = df_copy.ftse"
   ]
  },
  {
   "cell_type": "code",
   "execution_count": 4,
   "metadata": {},
   "outputs": [
    {
     "data": {
      "text/html": [
       "<div>\n",
       "<style scoped>\n",
       "    .dataframe tbody tr th:only-of-type {\n",
       "        vertical-align: middle;\n",
       "    }\n",
       "\n",
       "    .dataframe tbody tr th {\n",
       "        vertical-align: top;\n",
       "    }\n",
       "\n",
       "    .dataframe thead th {\n",
       "        text-align: right;\n",
       "    }\n",
       "</style>\n",
       "<table border=\"1\" class=\"dataframe\">\n",
       "  <thead>\n",
       "    <tr style=\"text-align: right;\">\n",
       "      <th></th>\n",
       "      <th>spx</th>\n",
       "      <th>market_val</th>\n",
       "    </tr>\n",
       "    <tr>\n",
       "      <th>date</th>\n",
       "      <th></th>\n",
       "      <th></th>\n",
       "    </tr>\n",
       "  </thead>\n",
       "  <tbody>\n",
       "    <tr>\n",
       "      <th>1994-01-07</th>\n",
       "      <td>469.90</td>\n",
       "      <td>3445.98</td>\n",
       "    </tr>\n",
       "    <tr>\n",
       "      <th>1994-01-10</th>\n",
       "      <td>475.27</td>\n",
       "      <td>3440.58</td>\n",
       "    </tr>\n",
       "    <tr>\n",
       "      <th>1994-01-11</th>\n",
       "      <td>474.13</td>\n",
       "      <td>3413.77</td>\n",
       "    </tr>\n",
       "    <tr>\n",
       "      <th>1994-01-12</th>\n",
       "      <td>474.17</td>\n",
       "      <td>3372.02</td>\n",
       "    </tr>\n",
       "    <tr>\n",
       "      <th>1994-01-13</th>\n",
       "      <td>472.47</td>\n",
       "      <td>3360.01</td>\n",
       "    </tr>\n",
       "  </tbody>\n",
       "</table>\n",
       "</div>"
      ],
      "text/plain": [
       "               spx  market_val\n",
       "date                          \n",
       "1994-01-07  469.90     3445.98\n",
       "1994-01-10  475.27     3440.58\n",
       "1994-01-11  474.13     3413.77\n",
       "1994-01-12  474.17     3372.02\n",
       "1994-01-13  472.47     3360.01"
      ]
     },
     "execution_count": 4,
     "metadata": {},
     "output_type": "execute_result"
    }
   ],
   "source": [
    "df_copy = df_copy.drop(['dax', 'ftse', 'nikkei'], axis = 1)\n",
    "df_copy.head()"
   ]
  },
  {
   "cell_type": "code",
   "execution_count": 5,
   "metadata": {},
   "outputs": [],
   "source": [
    "df_copy['returns'] = df_copy.market_val.pct_change(1).mul(100)"
   ]
  },
  {
   "cell_type": "code",
   "execution_count": 6,
   "metadata": {},
   "outputs": [
    {
     "data": {
      "text/plain": [
       "spx           0\n",
       "market_val    0\n",
       "returns       1\n",
       "dtype: int64"
      ]
     },
     "execution_count": 6,
     "metadata": {},
     "output_type": "execute_result"
    }
   ],
   "source": [
    "df_copy.isnull().sum()"
   ]
  },
  {
   "cell_type": "markdown",
   "metadata": {},
   "source": [
    "## ARIMA(1,1)"
   ]
  },
  {
   "cell_type": "code",
   "execution_count": 7,
   "metadata": {},
   "outputs": [
    {
     "data": {
      "text/html": [
       "<table class=\"simpletable\">\n",
       "<caption>ARIMA Model Results</caption>\n",
       "<tr>\n",
       "  <th>Dep. Variable:</th>     <td>D.returns</td>    <th>  No. Observations:  </th>   <td>6275</td>   \n",
       "</tr>\n",
       "<tr>\n",
       "  <th>Model:</th>          <td>ARIMA(1, 1, 1)</td>  <th>  Log Likelihood     </th> <td>-9601.059</td>\n",
       "</tr>\n",
       "<tr>\n",
       "  <th>Method:</th>             <td>css-mle</td>     <th>  S.D. of innovations</th>   <td>1.117</td>  \n",
       "</tr>\n",
       "<tr>\n",
       "  <th>Date:</th>          <td>Fri, 23 Oct 2020</td> <th>  AIC                </th> <td>19210.118</td>\n",
       "</tr>\n",
       "<tr>\n",
       "  <th>Time:</th>              <td>19:47:32</td>     <th>  BIC                </th> <td>19237.096</td>\n",
       "</tr>\n",
       "<tr>\n",
       "  <th>Sample:</th>           <td>01-11-1994</td>    <th>  HQIC               </th> <td>19219.466</td>\n",
       "</tr>\n",
       "<tr>\n",
       "  <th></th>                 <td>- 01-29-2018</td>   <th>                     </th>     <td> </td>    \n",
       "</tr>\n",
       "</table>\n",
       "<table class=\"simpletable\">\n",
       "<tr>\n",
       "         <td></td>            <th>coef</th>     <th>std err</th>      <th>z</th>      <th>P>|z|</th>  <th>[0.025</th>    <th>0.975]</th>  \n",
       "</tr>\n",
       "<tr>\n",
       "  <th>const</th>           <td>-8.222e-07</td> <td> 7.65e-06</td> <td>   -0.108</td> <td> 0.914</td> <td>-1.58e-05</td> <td> 1.42e-05</td>\n",
       "</tr>\n",
       "<tr>\n",
       "  <th>ar.L1.D.returns</th> <td>   -0.0175</td> <td>    0.013</td> <td>   -1.383</td> <td> 0.167</td> <td>   -0.042</td> <td>    0.007</td>\n",
       "</tr>\n",
       "<tr>\n",
       "  <th>ma.L1.D.returns</th> <td>   -1.0000</td> <td>    0.000</td> <td>-2266.131</td> <td> 0.000</td> <td>   -1.001</td> <td>   -0.999</td>\n",
       "</tr>\n",
       "</table>\n",
       "<table class=\"simpletable\">\n",
       "<caption>Roots</caption>\n",
       "<tr>\n",
       "    <td></td>   <th>            Real</th>  <th>         Imaginary</th> <th>         Modulus</th>  <th>        Frequency</th>\n",
       "</tr>\n",
       "<tr>\n",
       "  <th>AR.1</th> <td>         -57.2833</td> <td>          +0.0000j</td> <td>          57.2833</td> <td>           0.5000</td>\n",
       "</tr>\n",
       "<tr>\n",
       "  <th>MA.1</th> <td>           1.0000</td> <td>          +0.0000j</td> <td>           1.0000</td> <td>           0.0000</td>\n",
       "</tr>\n",
       "</table>"
      ],
      "text/plain": [
       "<class 'statsmodels.iolib.summary.Summary'>\n",
       "\"\"\"\n",
       "                             ARIMA Model Results                              \n",
       "==============================================================================\n",
       "Dep. Variable:              D.returns   No. Observations:                 6275\n",
       "Model:                 ARIMA(1, 1, 1)   Log Likelihood               -9601.059\n",
       "Method:                       css-mle   S.D. of innovations              1.117\n",
       "Date:                Fri, 23 Oct 2020   AIC                          19210.118\n",
       "Time:                        19:47:32   BIC                          19237.096\n",
       "Sample:                    01-11-1994   HQIC                         19219.466\n",
       "                         - 01-29-2018                                         \n",
       "===================================================================================\n",
       "                      coef    std err          z      P>|z|      [0.025      0.975]\n",
       "-----------------------------------------------------------------------------------\n",
       "const           -8.222e-07   7.65e-06     -0.108      0.914   -1.58e-05    1.42e-05\n",
       "ar.L1.D.returns    -0.0175      0.013     -1.383      0.167      -0.042       0.007\n",
       "ma.L1.D.returns    -1.0000      0.000  -2266.131      0.000      -1.001      -0.999\n",
       "                                    Roots                                    \n",
       "=============================================================================\n",
       "                  Real          Imaginary           Modulus         Frequency\n",
       "-----------------------------------------------------------------------------\n",
       "AR.1          -57.2833           +0.0000j           57.2833            0.5000\n",
       "MA.1            1.0000           +0.0000j            1.0000            0.0000\n",
       "-----------------------------------------------------------------------------\n",
       "\"\"\""
      ]
     },
     "execution_count": 7,
     "metadata": {},
     "output_type": "execute_result"
    }
   ],
   "source": [
    "model_arima_ret_111 = ARIMA(df_copy.returns[1:], order = (1,1,1))\n",
    "results_arima_ret_111 = model_arima_ret_111.fit()\n",
    "results_arima_ret_111.summary()"
   ]
  },
  {
   "cell_type": "markdown",
   "metadata": {},
   "source": [
    "## Residuals of ARIMA(1,1,1)"
   ]
  },
  {
   "cell_type": "code",
   "execution_count": 8,
   "metadata": {},
   "outputs": [
    {
     "data": {
      "image/png": "[encoded data removed]",
      "text/plain": [
       "<Figure size 1440x360 with 1 Axes>"
      ]
     },
     "metadata": {},
     "output_type": "display_data"
    }
   ],
   "source": [
    "df_copy['res_ret_arma111'] = results_arima_ret_111.resid\n",
    "df_copy.res_ret_arma111.plot(figsize = (20,5))\n",
    "plt.title('Residuals of Returns', size = 24)\n",
    "plt.show()"
   ]
  },
  {
   "cell_type": "code",
   "execution_count": 9,
   "metadata": {},
   "outputs": [
    {
     "data": {
      "image/png": "[encoded data removed]",
      "text/plain": [
       "<Figure size 432x288 with 1 Axes>"
      ]
     },
     "metadata": {},
     "output_type": "display_data"
    }
   ],
   "source": [
    "sgt.plot_acf(df_copy.res_ret_arma111[2:], zero = False, lags = 40)\n",
    "plt.title(\"ACF plot for Residulas of ARIMA(1,1,1)\", size = 24);"
   ]
  },
  {
   "cell_type": "markdown",
   "metadata": {},
   "source": [
    "## Higher Order ARIMA models"
   ]
  },
  {
   "cell_type": "code",
   "execution_count": 10,
   "metadata": {},
   "outputs": [
    {
     "data": {
      "text/html": [
       "<table class=\"simpletable\">\n",
       "<caption>ARIMA Model Results</caption>\n",
       "<tr>\n",
       "  <th>Dep. Variable:</th>     <td>D.returns</td>    <th>  No. Observations:  </th>   <td>6275</td>   \n",
       "</tr>\n",
       "<tr>\n",
       "  <th>Model:</th>          <td>ARIMA(3, 1, 1)</td>  <th>  Log Likelihood     </th> <td>-9579.612</td>\n",
       "</tr>\n",
       "<tr>\n",
       "  <th>Method:</th>             <td>css-mle</td>     <th>  S.D. of innovations</th>   <td>1.113</td>  \n",
       "</tr>\n",
       "<tr>\n",
       "  <th>Date:</th>          <td>Fri, 23 Oct 2020</td> <th>  AIC                </th> <td>19171.224</td>\n",
       "</tr>\n",
       "<tr>\n",
       "  <th>Time:</th>              <td>19:47:41</td>     <th>  BIC                </th> <td>19211.690</td>\n",
       "</tr>\n",
       "<tr>\n",
       "  <th>Sample:</th>           <td>01-11-1994</td>    <th>  HQIC               </th> <td>19185.245</td>\n",
       "</tr>\n",
       "<tr>\n",
       "  <th></th>                 <td>- 01-29-2018</td>   <th>                     </th>     <td> </td>    \n",
       "</tr>\n",
       "</table>\n",
       "<table class=\"simpletable\">\n",
       "<tr>\n",
       "         <td></td>            <th>coef</th>     <th>std err</th>      <th>z</th>      <th>P>|z|</th>  <th>[0.025</th>    <th>0.975]</th>  \n",
       "</tr>\n",
       "<tr>\n",
       "  <th>const</th>           <td>-8.519e-07</td> <td> 7.12e-06</td> <td>   -0.120</td> <td> 0.905</td> <td>-1.48e-05</td> <td> 1.31e-05</td>\n",
       "</tr>\n",
       "<tr>\n",
       "  <th>ar.L1.D.returns</th> <td>   -0.0251</td> <td>    0.013</td> <td>   -1.995</td> <td> 0.046</td> <td>   -0.050</td> <td>   -0.000</td>\n",
       "</tr>\n",
       "<tr>\n",
       "  <th>ar.L2.D.returns</th> <td>   -0.0443</td> <td>    0.013</td> <td>   -3.523</td> <td> 0.000</td> <td>   -0.069</td> <td>   -0.020</td>\n",
       "</tr>\n",
       "<tr>\n",
       "  <th>ar.L3.D.returns</th> <td>   -0.0656</td> <td>    0.013</td> <td>   -5.209</td> <td> 0.000</td> <td>   -0.090</td> <td>   -0.041</td>\n",
       "</tr>\n",
       "<tr>\n",
       "  <th>ma.L1.D.returns</th> <td>   -0.9999</td> <td>    0.001</td> <td>-1964.391</td> <td> 0.000</td> <td>   -1.001</td> <td>   -0.999</td>\n",
       "</tr>\n",
       "</table>\n",
       "<table class=\"simpletable\">\n",
       "<caption>Roots</caption>\n",
       "<tr>\n",
       "    <td></td>   <th>            Real</th>  <th>         Imaginary</th> <th>         Modulus</th>  <th>        Frequency</th>\n",
       "</tr>\n",
       "<tr>\n",
       "  <th>AR.1</th> <td>           0.9973</td> <td>          -2.1712j</td> <td>           2.3893</td> <td>          -0.1815</td>\n",
       "</tr>\n",
       "<tr>\n",
       "  <th>AR.2</th> <td>           0.9973</td> <td>          +2.1712j</td> <td>           2.3893</td> <td>           0.1815</td>\n",
       "</tr>\n",
       "<tr>\n",
       "  <th>AR.3</th> <td>          -2.6701</td> <td>          -0.0000j</td> <td>           2.6701</td> <td>          -0.5000</td>\n",
       "</tr>\n",
       "<tr>\n",
       "  <th>MA.1</th> <td>           1.0001</td> <td>          +0.0000j</td> <td>           1.0001</td> <td>           0.0000</td>\n",
       "</tr>\n",
       "</table>"
      ],
      "text/plain": [
       "<class 'statsmodels.iolib.summary.Summary'>\n",
       "\"\"\"\n",
       "                             ARIMA Model Results                              \n",
       "==============================================================================\n",
       "Dep. Variable:              D.returns   No. Observations:                 6275\n",
       "Model:                 ARIMA(3, 1, 1)   Log Likelihood               -9579.612\n",
       "Method:                       css-mle   S.D. of innovations              1.113\n",
       "Date:                Fri, 23 Oct 2020   AIC                          19171.224\n",
       "Time:                        19:47:41   BIC                          19211.690\n",
       "Sample:                    01-11-1994   HQIC                         19185.245\n",
       "                         - 01-29-2018                                         \n",
       "===================================================================================\n",
       "                      coef    std err          z      P>|z|      [0.025      0.975]\n",
       "-----------------------------------------------------------------------------------\n",
       "const           -8.519e-07   7.12e-06     -0.120      0.905   -1.48e-05    1.31e-05\n",
       "ar.L1.D.returns    -0.0251      0.013     -1.995      0.046      -0.050      -0.000\n",
       "ar.L2.D.returns    -0.0443      0.013     -3.523      0.000      -0.069      -0.020\n",
       "ar.L3.D.returns    -0.0656      0.013     -5.209      0.000      -0.090      -0.041\n",
       "ma.L1.D.returns    -0.9999      0.001  -1964.391      0.000      -1.001      -0.999\n",
       "                                    Roots                                    \n",
       "=============================================================================\n",
       "                  Real          Imaginary           Modulus         Frequency\n",
       "-----------------------------------------------------------------------------\n",
       "AR.1            0.9973           -2.1712j            2.3893           -0.1815\n",
       "AR.2            0.9973           +2.1712j            2.3893            0.1815\n",
       "AR.3           -2.6701           -0.0000j            2.6701           -0.5000\n",
       "MA.1            1.0001           +0.0000j            1.0001            0.0000\n",
       "-----------------------------------------------------------------------------\n",
       "\"\"\""
      ]
     },
     "execution_count": 10,
     "metadata": {},
     "output_type": "execute_result"
    }
   ],
   "source": [
    "model_arima_ret_311 = ARIMA(df_copy.returns[1:], order = (3,1,1))\n",
    "results_arima_ret_311 = model_arima_ret_311.fit(start_ar_lags = 7)\n",
    "results_arima_ret_311.summary()"
   ]
  },
  {
   "cell_type": "code",
   "execution_count": 11,
   "metadata": {},
   "outputs": [
    {
     "data": {
      "text/html": [
       "<table class=\"simpletable\">\n",
       "<caption>ARIMA Model Results</caption>\n",
       "<tr>\n",
       "  <th>Dep. Variable:</th>     <td>D.returns</td>    <th>  No. Observations:  </th>   <td>6275</td>   \n",
       "</tr>\n",
       "<tr>\n",
       "  <th>Model:</th>          <td>ARIMA(1, 1, 2)</td>  <th>  Log Likelihood     </th> <td>-9600.441</td>\n",
       "</tr>\n",
       "<tr>\n",
       "  <th>Method:</th>             <td>css-mle</td>     <th>  S.D. of innovations</th>   <td>1.117</td>  \n",
       "</tr>\n",
       "<tr>\n",
       "  <th>Date:</th>          <td>Fri, 23 Oct 2020</td> <th>  AIC                </th> <td>19210.882</td>\n",
       "</tr>\n",
       "<tr>\n",
       "  <th>Time:</th>              <td>19:47:47</td>     <th>  BIC                </th> <td>19244.603</td>\n",
       "</tr>\n",
       "<tr>\n",
       "  <th>Sample:</th>           <td>01-11-1994</td>    <th>  HQIC               </th> <td>19222.566</td>\n",
       "</tr>\n",
       "<tr>\n",
       "  <th></th>                 <td>- 01-29-2018</td>   <th>                     </th>     <td> </td>    \n",
       "</tr>\n",
       "</table>\n",
       "<table class=\"simpletable\">\n",
       "<tr>\n",
       "         <td></td>            <th>coef</th>     <th>std err</th>      <th>z</th>      <th>P>|z|</th>  <th>[0.025</th>    <th>0.975]</th>  \n",
       "</tr>\n",
       "<tr>\n",
       "  <th>const</th>           <td> -8.12e-07</td> <td> 8.53e-06</td> <td>   -0.095</td> <td> 0.924</td> <td>-1.75e-05</td> <td> 1.59e-05</td>\n",
       "</tr>\n",
       "<tr>\n",
       "  <th>ar.L1.D.returns</th> <td>   -0.9525</td> <td>    0.112</td> <td>   -8.470</td> <td> 0.000</td> <td>   -1.173</td> <td>   -0.732</td>\n",
       "</tr>\n",
       "<tr>\n",
       "  <th>ma.L1.D.returns</th> <td>   -0.0545</td> <td>    0.124</td> <td>   -0.438</td> <td> 0.662</td> <td>   -0.298</td> <td>    0.189</td>\n",
       "</tr>\n",
       "<tr>\n",
       "  <th>ma.L2.D.returns</th> <td>   -0.9451</td> <td>    0.124</td> <td>   -7.596</td> <td> 0.000</td> <td>   -1.189</td> <td>   -0.701</td>\n",
       "</tr>\n",
       "</table>\n",
       "<table class=\"simpletable\">\n",
       "<caption>Roots</caption>\n",
       "<tr>\n",
       "    <td></td>   <th>            Real</th>  <th>         Imaginary</th> <th>         Modulus</th>  <th>        Frequency</th>\n",
       "</tr>\n",
       "<tr>\n",
       "  <th>AR.1</th> <td>          -1.0499</td> <td>          +0.0000j</td> <td>           1.0499</td> <td>           0.5000</td>\n",
       "</tr>\n",
       "<tr>\n",
       "  <th>MA.1</th> <td>           1.0002</td> <td>          +0.0000j</td> <td>           1.0002</td> <td>           0.0000</td>\n",
       "</tr>\n",
       "<tr>\n",
       "  <th>MA.2</th> <td>          -1.0579</td> <td>          +0.0000j</td> <td>           1.0579</td> <td>           0.5000</td>\n",
       "</tr>\n",
       "</table>"
      ],
      "text/plain": [
       "<class 'statsmodels.iolib.summary.Summary'>\n",
       "\"\"\"\n",
       "                             ARIMA Model Results                              \n",
       "==============================================================================\n",
       "Dep. Variable:              D.returns   No. Observations:                 6275\n",
       "Model:                 ARIMA(1, 1, 2)   Log Likelihood               -9600.441\n",
       "Method:                       css-mle   S.D. of innovations              1.117\n",
       "Date:                Fri, 23 Oct 2020   AIC                          19210.882\n",
       "Time:                        19:47:47   BIC                          19244.603\n",
       "Sample:                    01-11-1994   HQIC                         19222.566\n",
       "                         - 01-29-2018                                         \n",
       "===================================================================================\n",
       "                      coef    std err          z      P>|z|      [0.025      0.975]\n",
       "-----------------------------------------------------------------------------------\n",
       "const            -8.12e-07   8.53e-06     -0.095      0.924   -1.75e-05    1.59e-05\n",
       "ar.L1.D.returns    -0.9525      0.112     -8.470      0.000      -1.173      -0.732\n",
       "ma.L1.D.returns    -0.0545      0.124     -0.438      0.662      -0.298       0.189\n",
       "ma.L2.D.returns    -0.9451      0.124     -7.596      0.000      -1.189      -0.701\n",
       "                                    Roots                                    \n",
       "=============================================================================\n",
       "                  Real          Imaginary           Modulus         Frequency\n",
       "-----------------------------------------------------------------------------\n",
       "AR.1           -1.0499           +0.0000j            1.0499            0.5000\n",
       "MA.1            1.0002           +0.0000j            1.0002            0.0000\n",
       "MA.2           -1.0579           +0.0000j            1.0579            0.5000\n",
       "-----------------------------------------------------------------------------\n",
       "\"\"\""
      ]
     },
     "execution_count": 11,
     "metadata": {},
     "output_type": "execute_result"
    }
   ],
   "source": [
    "model_arima_ret_112 = ARIMA(df_copy.returns[1:], order = (1,1,2))\n",
    "results_arima_ret_112 = model_arima_ret_112.fit(start_ar_lags = 7)\n",
    "results_arima_ret_112.summary()"
   ]
  },
  {
   "cell_type": "code",
   "execution_count": 12,
   "metadata": {},
   "outputs": [
    {
     "data": {
      "text/html": [
       "<table class=\"simpletable\">\n",
       "<caption>ARIMA Model Results</caption>\n",
       "<tr>\n",
       "  <th>Dep. Variable:</th>     <td>D.returns</td>    <th>  No. Observations:  </th>   <td>6275</td>   \n",
       "</tr>\n",
       "<tr>\n",
       "  <th>Model:</th>          <td>ARIMA(2, 1, 1)</td>  <th>  Log Likelihood     </th> <td>-9593.751</td>\n",
       "</tr>\n",
       "<tr>\n",
       "  <th>Method:</th>             <td>css-mle</td>     <th>  S.D. of innovations</th>   <td>1.115</td>  \n",
       "</tr>\n",
       "<tr>\n",
       "  <th>Date:</th>          <td>Fri, 23 Oct 2020</td> <th>  AIC                </th> <td>19197.503</td>\n",
       "</tr>\n",
       "<tr>\n",
       "  <th>Time:</th>              <td>19:47:54</td>     <th>  BIC                </th> <td>19231.224</td>\n",
       "</tr>\n",
       "<tr>\n",
       "  <th>Sample:</th>           <td>01-11-1994</td>    <th>  HQIC               </th> <td>19209.187</td>\n",
       "</tr>\n",
       "<tr>\n",
       "  <th></th>                 <td>- 01-29-2018</td>   <th>                     </th>     <td> </td>    \n",
       "</tr>\n",
       "</table>\n",
       "<table class=\"simpletable\">\n",
       "<tr>\n",
       "         <td></td>            <th>coef</th>     <th>std err</th>      <th>z</th>      <th>P>|z|</th>  <th>[0.025</th>    <th>0.975]</th>  \n",
       "</tr>\n",
       "<tr>\n",
       "  <th>const</th>           <td>-8.349e-07</td> <td> 7.52e-06</td> <td>   -0.111</td> <td> 0.912</td> <td>-1.56e-05</td> <td> 1.39e-05</td>\n",
       "</tr>\n",
       "<tr>\n",
       "  <th>ar.L1.D.returns</th> <td>   -0.0183</td> <td>    0.013</td> <td>   -1.452</td> <td> 0.147</td> <td>   -0.043</td> <td>    0.006</td>\n",
       "</tr>\n",
       "<tr>\n",
       "  <th>ar.L2.D.returns</th> <td>   -0.0483</td> <td>    0.013</td> <td>   -3.834</td> <td> 0.000</td> <td>   -0.073</td> <td>   -0.024</td>\n",
       "</tr>\n",
       "<tr>\n",
       "  <th>ma.L1.D.returns</th> <td>   -0.9999</td> <td>    0.000</td> <td>-2067.276</td> <td> 0.000</td> <td>   -1.001</td> <td>   -0.999</td>\n",
       "</tr>\n",
       "</table>\n",
       "<table class=\"simpletable\">\n",
       "<caption>Roots</caption>\n",
       "<tr>\n",
       "    <td></td>   <th>            Real</th>  <th>         Imaginary</th> <th>         Modulus</th>  <th>        Frequency</th>\n",
       "</tr>\n",
       "<tr>\n",
       "  <th>AR.1</th> <td>          -0.1893</td> <td>          -4.5441j</td> <td>           4.5480</td> <td>          -0.2566</td>\n",
       "</tr>\n",
       "<tr>\n",
       "  <th>AR.2</th> <td>          -0.1893</td> <td>          +4.5441j</td> <td>           4.5480</td> <td>           0.2566</td>\n",
       "</tr>\n",
       "<tr>\n",
       "  <th>MA.1</th> <td>           1.0001</td> <td>          +0.0000j</td> <td>           1.0001</td> <td>           0.0000</td>\n",
       "</tr>\n",
       "</table>"
      ],
      "text/plain": [
       "<class 'statsmodels.iolib.summary.Summary'>\n",
       "\"\"\"\n",
       "                             ARIMA Model Results                              \n",
       "==============================================================================\n",
       "Dep. Variable:              D.returns   No. Observations:                 6275\n",
       "Model:                 ARIMA(2, 1, 1)   Log Likelihood               -9593.751\n",
       "Method:                       css-mle   S.D. of innovations              1.115\n",
       "Date:                Fri, 23 Oct 2020   AIC                          19197.503\n",
       "Time:                        19:47:54   BIC                          19231.224\n",
       "Sample:                    01-11-1994   HQIC                         19209.187\n",
       "                         - 01-29-2018                                         \n",
       "===================================================================================\n",
       "                      coef    std err          z      P>|z|      [0.025      0.975]\n",
       "-----------------------------------------------------------------------------------\n",
       "const           -8.349e-07   7.52e-06     -0.111      0.912   -1.56e-05    1.39e-05\n",
       "ar.L1.D.returns    -0.0183      0.013     -1.452      0.147      -0.043       0.006\n",
       "ar.L2.D.returns    -0.0483      0.013     -3.834      0.000      -0.073      -0.024\n",
       "ma.L1.D.returns    -0.9999      0.000  -2067.276      0.000      -1.001      -0.999\n",
       "                                    Roots                                    \n",
       "=============================================================================\n",
       "                  Real          Imaginary           Modulus         Frequency\n",
       "-----------------------------------------------------------------------------\n",
       "AR.1           -0.1893           -4.5441j            4.5480           -0.2566\n",
       "AR.2           -0.1893           +4.5441j            4.5480            0.2566\n",
       "MA.1            1.0001           +0.0000j            1.0001            0.0000\n",
       "-----------------------------------------------------------------------------\n",
       "\"\"\""
      ]
     },
     "execution_count": 12,
     "metadata": {},
     "output_type": "execute_result"
    }
   ],
   "source": [
    "model_arima_ret_211 = ARIMA(df_copy.returns[1:], order = (2,1,1))\n",
    "results_arima_ret_211 = model_arima_ret_211.fit(start_ar_lags = 7)\n",
    "results_arima_ret_211.summary()"
   ]
  },
  {
   "cell_type": "code",
   "execution_count": 13,
   "metadata": {},
   "outputs": [
    {
     "data": {
      "text/html": [
       "<table class=\"simpletable\">\n",
       "<caption>ARIMA Model Results</caption>\n",
       "<tr>\n",
       "  <th>Dep. Variable:</th>     <td>D.returns</td>    <th>  No. Observations:  </th>   <td>6275</td>   \n",
       "</tr>\n",
       "<tr>\n",
       "  <th>Model:</th>          <td>ARIMA(1, 1, 3)</td>  <th>  Log Likelihood     </th> <td>-9600.065</td>\n",
       "</tr>\n",
       "<tr>\n",
       "  <th>Method:</th>             <td>css-mle</td>     <th>  S.D. of innovations</th>   <td>1.117</td>  \n",
       "</tr>\n",
       "<tr>\n",
       "  <th>Date:</th>          <td>Fri, 23 Oct 2020</td> <th>  AIC                </th> <td>19212.130</td>\n",
       "</tr>\n",
       "<tr>\n",
       "  <th>Time:</th>              <td>19:48:01</td>     <th>  BIC                </th> <td>19252.596</td>\n",
       "</tr>\n",
       "<tr>\n",
       "  <th>Sample:</th>           <td>01-11-1994</td>    <th>  HQIC               </th> <td>19226.151</td>\n",
       "</tr>\n",
       "<tr>\n",
       "  <th></th>                 <td>- 01-29-2018</td>   <th>                     </th>     <td> </td>    \n",
       "</tr>\n",
       "</table>\n",
       "<table class=\"simpletable\">\n",
       "<tr>\n",
       "         <td></td>            <th>coef</th>     <th>std err</th>      <th>z</th>      <th>P>|z|</th>  <th>[0.025</th>    <th>0.975]</th>  \n",
       "</tr>\n",
       "<tr>\n",
       "  <th>const</th>           <td>-8.245e-07</td> <td> 7.96e-06</td> <td>   -0.104</td> <td> 0.918</td> <td>-1.64e-05</td> <td> 1.48e-05</td>\n",
       "</tr>\n",
       "<tr>\n",
       "  <th>ar.L1.D.returns</th> <td>   -0.9621</td> <td>    0.112</td> <td>   -8.609</td> <td> 0.000</td> <td>   -1.181</td> <td>   -0.743</td>\n",
       "</tr>\n",
       "<tr>\n",
       "  <th>ma.L1.D.returns</th> <td>   -0.0561</td> <td>    0.110</td> <td>   -0.509</td> <td> 0.611</td> <td>   -0.272</td> <td>    0.160</td>\n",
       "</tr>\n",
       "<tr>\n",
       "  <th>ma.L2.D.returns</th> <td>   -0.9564</td> <td>    0.123</td> <td>   -7.761</td> <td> 0.000</td> <td>   -1.198</td> <td>   -0.715</td>\n",
       "</tr>\n",
       "<tr>\n",
       "  <th>ma.L3.D.returns</th> <td>    0.0129</td> <td>    0.019</td> <td>    0.669</td> <td> 0.504</td> <td>   -0.025</td> <td>    0.051</td>\n",
       "</tr>\n",
       "</table>\n",
       "<table class=\"simpletable\">\n",
       "<caption>Roots</caption>\n",
       "<tr>\n",
       "    <td></td>   <th>            Real</th>  <th>         Imaginary</th> <th>         Modulus</th>  <th>        Frequency</th>\n",
       "</tr>\n",
       "<tr>\n",
       "  <th>AR.1</th> <td>          -1.0393</td> <td>          +0.0000j</td> <td>           1.0393</td> <td>           0.5000</td>\n",
       "</tr>\n",
       "<tr>\n",
       "  <th>MA.1</th> <td>           1.0001</td> <td>          +0.0000j</td> <td>           1.0001</td> <td>           0.0000</td>\n",
       "</tr>\n",
       "<tr>\n",
       "  <th>MA.2</th> <td>          -1.0448</td> <td>          +0.0000j</td> <td>           1.0448</td> <td>           0.5000</td>\n",
       "</tr>\n",
       "<tr>\n",
       "  <th>MA.3</th> <td>          74.4386</td> <td>          +0.0000j</td> <td>          74.4386</td> <td>           0.0000</td>\n",
       "</tr>\n",
       "</table>"
      ],
      "text/plain": [
       "<class 'statsmodels.iolib.summary.Summary'>\n",
       "\"\"\"\n",
       "                             ARIMA Model Results                              \n",
       "==============================================================================\n",
       "Dep. Variable:              D.returns   No. Observations:                 6275\n",
       "Model:                 ARIMA(1, 1, 3)   Log Likelihood               -9600.065\n",
       "Method:                       css-mle   S.D. of innovations              1.117\n",
       "Date:                Fri, 23 Oct 2020   AIC                          19212.130\n",
       "Time:                        19:48:01   BIC                          19252.596\n",
       "Sample:                    01-11-1994   HQIC                         19226.151\n",
       "                         - 01-29-2018                                         \n",
       "===================================================================================\n",
       "                      coef    std err          z      P>|z|      [0.025      0.975]\n",
       "-----------------------------------------------------------------------------------\n",
       "const           -8.245e-07   7.96e-06     -0.104      0.918   -1.64e-05    1.48e-05\n",
       "ar.L1.D.returns    -0.9621      0.112     -8.609      0.000      -1.181      -0.743\n",
       "ma.L1.D.returns    -0.0561      0.110     -0.509      0.611      -0.272       0.160\n",
       "ma.L2.D.returns    -0.9564      0.123     -7.761      0.000      -1.198      -0.715\n",
       "ma.L3.D.returns     0.0129      0.019      0.669      0.504      -0.025       0.051\n",
       "                                    Roots                                    \n",
       "=============================================================================\n",
       "                  Real          Imaginary           Modulus         Frequency\n",
       "-----------------------------------------------------------------------------\n",
       "AR.1           -1.0393           +0.0000j            1.0393            0.5000\n",
       "MA.1            1.0001           +0.0000j            1.0001            0.0000\n",
       "MA.2           -1.0448           +0.0000j            1.0448            0.5000\n",
       "MA.3           74.4386           +0.0000j           74.4386            0.0000\n",
       "-----------------------------------------------------------------------------\n",
       "\"\"\""
      ]
     },
     "execution_count": 13,
     "metadata": {},
     "output_type": "execute_result"
    }
   ],
   "source": [
    "model_arima_ret_113 = ARIMA(df_copy.returns[1:], order = (1,1,3))\n",
    "results_arima_ret_113 = model_arima_ret_113.fit(start_ar_lags = 7)\n",
    "results_arima_ret_113.summary()"
   ]
  },
  {
   "cell_type": "code",
   "execution_count": 14,
   "metadata": {},
   "outputs": [
    {
     "data": {
      "text/html": [
       "<table class=\"simpletable\">\n",
       "<caption>ARIMA Model Results</caption>\n",
       "<tr>\n",
       "  <th>Dep. Variable:</th>     <td>D.returns</td>    <th>  No. Observations:  </th>   <td>6275</td>   \n",
       "</tr>\n",
       "<tr>\n",
       "  <th>Model:</th>          <td>ARIMA(3, 1, 2)</td>  <th>  Log Likelihood     </th> <td>-9582.049</td>\n",
       "</tr>\n",
       "<tr>\n",
       "  <th>Method:</th>             <td>css-mle</td>     <th>  S.D. of innovations</th>   <td>1.113</td>  \n",
       "</tr>\n",
       "<tr>\n",
       "  <th>Date:</th>          <td>Fri, 23 Oct 2020</td> <th>  AIC                </th> <td>19178.098</td>\n",
       "</tr>\n",
       "<tr>\n",
       "  <th>Time:</th>              <td>19:48:11</td>     <th>  BIC                </th> <td>19225.308</td>\n",
       "</tr>\n",
       "<tr>\n",
       "  <th>Sample:</th>           <td>01-11-1994</td>    <th>  HQIC               </th> <td>19194.455</td>\n",
       "</tr>\n",
       "<tr>\n",
       "  <th></th>                 <td>- 01-29-2018</td>   <th>                     </th>     <td> </td>    \n",
       "</tr>\n",
       "</table>\n",
       "<table class=\"simpletable\">\n",
       "<tr>\n",
       "         <td></td>            <th>coef</th>     <th>std err</th>      <th>z</th>      <th>P>|z|</th>  <th>[0.025</th>    <th>0.975]</th>  \n",
       "</tr>\n",
       "<tr>\n",
       "  <th>const</th>           <td>-8.673e-07</td> <td> 6.67e-06</td> <td>   -0.130</td> <td> 0.896</td> <td>-1.39e-05</td> <td> 1.22e-05</td>\n",
       "</tr>\n",
       "<tr>\n",
       "  <th>ar.L1.D.returns</th> <td>    0.3371</td> <td>    0.009</td> <td>   38.811</td> <td> 0.000</td> <td>    0.320</td> <td>    0.354</td>\n",
       "</tr>\n",
       "<tr>\n",
       "  <th>ar.L2.D.returns</th> <td>   -0.0429</td> <td>    0.013</td> <td>   -3.222</td> <td> 0.001</td> <td>   -0.069</td> <td>   -0.017</td>\n",
       "</tr>\n",
       "<tr>\n",
       "  <th>ar.L3.D.returns</th> <td>   -0.0397</td> <td>    0.013</td> <td>   -3.153</td> <td> 0.002</td> <td>   -0.064</td> <td>   -0.015</td>\n",
       "</tr>\n",
       "<tr>\n",
       "  <th>ma.L1.D.returns</th> <td>   -1.3595</td> <td>      nan</td> <td>      nan</td> <td>   nan</td> <td>      nan</td> <td>      nan</td>\n",
       "</tr>\n",
       "<tr>\n",
       "  <th>ma.L2.D.returns</th> <td>    0.3595</td> <td>      nan</td> <td>      nan</td> <td>   nan</td> <td>      nan</td> <td>      nan</td>\n",
       "</tr>\n",
       "</table>\n",
       "<table class=\"simpletable\">\n",
       "<caption>Roots</caption>\n",
       "<tr>\n",
       "    <td></td>   <th>            Real</th>  <th>         Imaginary</th> <th>         Modulus</th>  <th>        Frequency</th>\n",
       "</tr>\n",
       "<tr>\n",
       "  <th>AR.1</th> <td>           1.6383</td> <td>          -1.7601j</td> <td>           2.4046</td> <td>          -0.1307</td>\n",
       "</tr>\n",
       "<tr>\n",
       "  <th>AR.2</th> <td>           1.6383</td> <td>          +1.7601j</td> <td>           2.4046</td> <td>           0.1307</td>\n",
       "</tr>\n",
       "<tr>\n",
       "  <th>AR.3</th> <td>          -4.3558</td> <td>          -0.0000j</td> <td>           4.3558</td> <td>          -0.5000</td>\n",
       "</tr>\n",
       "<tr>\n",
       "  <th>MA.1</th> <td>           1.0000</td> <td>          +0.0000j</td> <td>           1.0000</td> <td>           0.0000</td>\n",
       "</tr>\n",
       "<tr>\n",
       "  <th>MA.2</th> <td>           2.7814</td> <td>          +0.0000j</td> <td>           2.7814</td> <td>           0.0000</td>\n",
       "</tr>\n",
       "</table>"
      ],
      "text/plain": [
       "<class 'statsmodels.iolib.summary.Summary'>\n",
       "\"\"\"\n",
       "                             ARIMA Model Results                              \n",
       "==============================================================================\n",
       "Dep. Variable:              D.returns   No. Observations:                 6275\n",
       "Model:                 ARIMA(3, 1, 2)   Log Likelihood               -9582.049\n",
       "Method:                       css-mle   S.D. of innovations              1.113\n",
       "Date:                Fri, 23 Oct 2020   AIC                          19178.098\n",
       "Time:                        19:48:11   BIC                          19225.308\n",
       "Sample:                    01-11-1994   HQIC                         19194.455\n",
       "                         - 01-29-2018                                         \n",
       "===================================================================================\n",
       "                      coef    std err          z      P>|z|      [0.025      0.975]\n",
       "-----------------------------------------------------------------------------------\n",
       "const           -8.673e-07   6.67e-06     -0.130      0.896   -1.39e-05    1.22e-05\n",
       "ar.L1.D.returns     0.3371      0.009     38.811      0.000       0.320       0.354\n",
       "ar.L2.D.returns    -0.0429      0.013     -3.222      0.001      -0.069      -0.017\n",
       "ar.L3.D.returns    -0.0397      0.013     -3.153      0.002      -0.064      -0.015\n",
       "ma.L1.D.returns    -1.3595        nan        nan        nan         nan         nan\n",
       "ma.L2.D.returns     0.3595        nan        nan        nan         nan         nan\n",
       "                                    Roots                                    \n",
       "=============================================================================\n",
       "                  Real          Imaginary           Modulus         Frequency\n",
       "-----------------------------------------------------------------------------\n",
       "AR.1            1.6383           -1.7601j            2.4046           -0.1307\n",
       "AR.2            1.6383           +1.7601j            2.4046            0.1307\n",
       "AR.3           -4.3558           -0.0000j            4.3558           -0.5000\n",
       "MA.1            1.0000           +0.0000j            1.0000            0.0000\n",
       "MA.2            2.7814           +0.0000j            2.7814            0.0000\n",
       "-----------------------------------------------------------------------------\n",
       "\"\"\""
      ]
     },
     "execution_count": 14,
     "metadata": {},
     "output_type": "execute_result"
    }
   ],
   "source": [
    "model_arima_ret_312 = ARIMA(df_copy.returns[1:], order = (3,1,2))\n",
    "results_arima_ret_312 = model_arima_ret_312.fit(start_ar_lags = 5)\n",
    "results_arima_ret_312.summary()"
   ]
  },
  {
   "cell_type": "markdown",
   "metadata": {},
   "source": [
    "Considering the ACF plot we can see the expected best fit will be around (4,1,4) thus we will consider the models nearer to this order. after fitting all the models we can see only 5 models yeilded better results. Those are,\n",
    "- ARIMA(1,1,2)\n",
    "- ARIMA(1,1,3)      \n",
    "- ARIMA(2,1,1)      \n",
    "- ARIMA(3,1,2) \n",
    "- ARIMA(3,1,1)"
   ]
  },
  {
   "cell_type": "code",
   "execution_count": 15,
   "metadata": {},
   "outputs": [
    {
     "name": "stdout",
     "output_type": "stream",
     "text": [
      "ARIMA (1,1,1): \n",
      " LL =  -9601.059149843477 \t AIC =  19210.118299686954\n",
      "ARIMA (1,1,2): \n",
      " LL =  -9600.440890369495 \t AIC =  19210.88178073899\n",
      "ARIMA (1,1,3): \n",
      " LL =  -9600.064939799533 \t AIC =  19212.129879599066\n",
      "ARIMA (2,1,1): \n",
      " LL =  -9593.751413560956 \t AIC =  19197.502827121913\n",
      "ARIMA (3,1,2): \n",
      " LL =  -9582.048911655096 \t AIC =  19178.097823310192\n",
      "ARIMA (3,1,1): \n",
      " LL =  -9579.6120778853 \t AIC =  19171.2241557706\n"
     ]
    }
   ],
   "source": [
    "print(\"ARIMA (1,1,1): \\n LL = \", results_arima_ret_111.llf,\"\\t AIC = \", results_arima_ret_111.aic)\n",
    "print(\"ARIMA (1,1,2): \\n LL = \", results_arima_ret_112.llf,\"\\t AIC = \", results_arima_ret_112.aic)\n",
    "print(\"ARIMA (1,1,3): \\n LL = \", results_arima_ret_113.llf,\"\\t AIC = \", results_arima_ret_113.aic)\n",
    "print(\"ARIMA (2,1,1): \\n LL = \", results_arima_ret_211.llf,\"\\t AIC = \", results_arima_ret_211.aic)\n",
    "print(\"ARIMA (3,1,2): \\n LL = \", results_arima_ret_312.llf,\"\\t AIC = \", results_arima_ret_312.aic)\n",
    "print(\"ARIMA (3,1,1): \\n LL = \", results_arima_ret_311.llf,\"\\t AIC = \", results_arima_ret_311.aic)"
   ]
  },
  {
   "cell_type": "markdown",
   "metadata": {},
   "source": [
    "Here we can see ARIMA(3,1,1) outperformed all the higher and lower ordered models."
   ]
  },
  {
   "cell_type": "code",
   "execution_count": 16,
   "metadata": {},
   "outputs": [],
   "source": [
    "def LLR_test(mod_1, mod_2, DF=1):\n",
    "    L1 = mod_1.fit().llf\n",
    "    L2 = mod_2.fit().llf\n",
    "    LR = (2*(L2-L1))\n",
    "    p = chi2.sf(LR, DF).round(3)\n",
    "    return p"
   ]
  },
  {
   "cell_type": "code",
   "execution_count": 17,
   "metadata": {},
   "outputs": [
    {
     "name": "stdout",
     "output_type": "stream",
     "text": [
      "For ARIMA(1,1,1) vs (3,1,1): \n",
      " p_val = 0.0\n"
     ]
    }
   ],
   "source": [
    "print(\"For ARIMA(1,1,1) vs (3,1,1): \\n p_val = \" +str(LLR_test(model_arima_ret_111, model_arima_ret_311, DF = 2)))"
   ]
  },
  {
   "cell_type": "markdown",
   "metadata": {},
   "source": [
    "p-val is less than 0.05 which implies that ARIMA(3,1,1) is better than ARIMA(1,1,1)"
   ]
  },
  {
   "cell_type": "code",
   "execution_count": 18,
   "metadata": {},
   "outputs": [
    {
     "data": {
      "image/png": "[encoded data removed]",
      "text/plain": [
       "<Figure size 432x288 with 1 Axes>"
      ]
     },
     "metadata": {},
     "output_type": "display_data"
    }
   ],
   "source": [
    "df_copy['res_ret_arma311'] = results_arima_ret_311.resid\n",
    "sgt.plot_acf(df_copy.res_ret_arma311[2:], zero = False, lags = 40)\n",
    "plt.title(\"ACF plot for Residulas of ARIMA(3,1,1)\", size = 24);"
   ]
  },
  {
   "cell_type": "code",
   "execution_count": 19,
   "metadata": {},
   "outputs": [
    {
     "data": {
      "text/html": [
       "<table class=\"simpletable\">\n",
       "<caption>ARIMA Model Results</caption>\n",
       "<tr>\n",
       "  <th>Dep. Variable:</th>     <td>D.returns</td>    <th>  No. Observations:  </th>   <td>6275</td>   \n",
       "</tr>\n",
       "<tr>\n",
       "  <th>Model:</th>          <td>ARIMA(5, 1, 1)</td>  <th>  Log Likelihood     </th> <td>-9566.863</td>\n",
       "</tr>\n",
       "<tr>\n",
       "  <th>Method:</th>             <td>css-mle</td>     <th>  S.D. of innovations</th>   <td>1.111</td>  \n",
       "</tr>\n",
       "<tr>\n",
       "  <th>Date:</th>          <td>Fri, 23 Oct 2020</td> <th>  AIC                </th> <td>19149.727</td>\n",
       "</tr>\n",
       "<tr>\n",
       "  <th>Time:</th>              <td>19:48:44</td>     <th>  BIC                </th> <td>19203.681</td>\n",
       "</tr>\n",
       "<tr>\n",
       "  <th>Sample:</th>           <td>01-11-1994</td>    <th>  HQIC               </th> <td>19168.421</td>\n",
       "</tr>\n",
       "<tr>\n",
       "  <th></th>                 <td>- 01-29-2018</td>   <th>                     </th>     <td> </td>    \n",
       "</tr>\n",
       "</table>\n",
       "<table class=\"simpletable\">\n",
       "<tr>\n",
       "         <td></td>            <th>coef</th>     <th>std err</th>      <th>z</th>      <th>P>|z|</th>  <th>[0.025</th>    <th>0.975]</th>  \n",
       "</tr>\n",
       "<tr>\n",
       "  <th>const</th>           <td>-5.239e-07</td> <td> 7.43e-06</td> <td>   -0.071</td> <td> 0.944</td> <td>-1.51e-05</td> <td>  1.4e-05</td>\n",
       "</tr>\n",
       "<tr>\n",
       "  <th>ar.L1.D.returns</th> <td>   -0.0178</td> <td>    0.012</td> <td>   -1.451</td> <td> 0.147</td> <td>   -0.042</td> <td>    0.006</td>\n",
       "</tr>\n",
       "<tr>\n",
       "  <th>ar.L2.D.returns</th> <td>   -0.0521</td> <td>    0.012</td> <td>   -4.265</td> <td> 0.000</td> <td>   -0.076</td> <td>   -0.028</td>\n",
       "</tr>\n",
       "<tr>\n",
       "  <th>ar.L3.D.returns</th> <td>   -0.0696</td> <td>    0.012</td> <td>   -5.700</td> <td> 0.000</td> <td>   -0.094</td> <td>   -0.046</td>\n",
       "</tr>\n",
       "<tr>\n",
       "  <th>ar.L4.D.returns</th> <td>    0.0295</td> <td>    0.012</td> <td>    2.418</td> <td> 0.016</td> <td>    0.006</td> <td>    0.053</td>\n",
       "</tr>\n",
       "<tr>\n",
       "  <th>ar.L5.D.returns</th> <td>   -0.0577</td> <td>    0.012</td> <td>   -4.709</td> <td> 0.000</td> <td>   -0.082</td> <td>   -0.034</td>\n",
       "</tr>\n",
       "<tr>\n",
       "  <th>ma.L1.D.returns</th> <td>   -0.9992</td> <td>      nan</td> <td>      nan</td> <td>   nan</td> <td>      nan</td> <td>      nan</td>\n",
       "</tr>\n",
       "</table>\n",
       "<table class=\"simpletable\">\n",
       "<caption>Roots</caption>\n",
       "<tr>\n",
       "    <td></td>   <th>            Real</th>  <th>         Imaginary</th> <th>         Modulus</th>  <th>        Frequency</th>\n",
       "</tr>\n",
       "<tr>\n",
       "  <th>AR.1</th> <td>          -1.6076</td> <td>          -0.0000j</td> <td>           1.6076</td> <td>          -0.5000</td>\n",
       "</tr>\n",
       "<tr>\n",
       "  <th>AR.2</th> <td>          -0.3478</td> <td>          -1.7426j</td> <td>           1.7770</td> <td>          -0.2814</td>\n",
       "</tr>\n",
       "<tr>\n",
       "  <th>AR.3</th> <td>          -0.3478</td> <td>          +1.7426j</td> <td>           1.7770</td> <td>           0.2814</td>\n",
       "</tr>\n",
       "<tr>\n",
       "  <th>AR.4</th> <td>           1.4075</td> <td>          -1.1970j</td> <td>           1.8477</td> <td>          -0.1122</td>\n",
       "</tr>\n",
       "<tr>\n",
       "  <th>AR.5</th> <td>           1.4075</td> <td>          +1.1970j</td> <td>           1.8477</td> <td>           0.1122</td>\n",
       "</tr>\n",
       "<tr>\n",
       "  <th>MA.1</th> <td>           1.0008</td> <td>          +0.0000j</td> <td>           1.0008</td> <td>           0.0000</td>\n",
       "</tr>\n",
       "</table>"
      ],
      "text/plain": [
       "<class 'statsmodels.iolib.summary.Summary'>\n",
       "\"\"\"\n",
       "                             ARIMA Model Results                              \n",
       "==============================================================================\n",
       "Dep. Variable:              D.returns   No. Observations:                 6275\n",
       "Model:                 ARIMA(5, 1, 1)   Log Likelihood               -9566.863\n",
       "Method:                       css-mle   S.D. of innovations              1.111\n",
       "Date:                Fri, 23 Oct 2020   AIC                          19149.727\n",
       "Time:                        19:48:44   BIC                          19203.681\n",
       "Sample:                    01-11-1994   HQIC                         19168.421\n",
       "                         - 01-29-2018                                         \n",
       "===================================================================================\n",
       "                      coef    std err          z      P>|z|      [0.025      0.975]\n",
       "-----------------------------------------------------------------------------------\n",
       "const           -5.239e-07   7.43e-06     -0.071      0.944   -1.51e-05     1.4e-05\n",
       "ar.L1.D.returns    -0.0178      0.012     -1.451      0.147      -0.042       0.006\n",
       "ar.L2.D.returns    -0.0521      0.012     -4.265      0.000      -0.076      -0.028\n",
       "ar.L3.D.returns    -0.0696      0.012     -5.700      0.000      -0.094      -0.046\n",
       "ar.L4.D.returns     0.0295      0.012      2.418      0.016       0.006       0.053\n",
       "ar.L5.D.returns    -0.0577      0.012     -4.709      0.000      -0.082      -0.034\n",
       "ma.L1.D.returns    -0.9992        nan        nan        nan         nan         nan\n",
       "                                    Roots                                    \n",
       "=============================================================================\n",
       "                  Real          Imaginary           Modulus         Frequency\n",
       "-----------------------------------------------------------------------------\n",
       "AR.1           -1.6076           -0.0000j            1.6076           -0.5000\n",
       "AR.2           -0.3478           -1.7426j            1.7770           -0.2814\n",
       "AR.3           -0.3478           +1.7426j            1.7770            0.2814\n",
       "AR.4            1.4075           -1.1970j            1.8477           -0.1122\n",
       "AR.5            1.4075           +1.1970j            1.8477            0.1122\n",
       "MA.1            1.0008           +0.0000j            1.0008            0.0000\n",
       "-----------------------------------------------------------------------------\n",
       "\"\"\""
      ]
     },
     "execution_count": 19,
     "metadata": {},
     "output_type": "execute_result"
    }
   ],
   "source": [
    "model_arima_ret_511 = ARIMA(df_copy.returns[1:], order = (5,1,1))\n",
    "results_arima_ret_511 = model_arima_ret_511.fit(start_ar_lags = 20)\n",
    "results_arima_ret_511.summary()"
   ]
  },
  {
   "cell_type": "code",
   "execution_count": 20,
   "metadata": {},
   "outputs": [
    {
     "data": {
      "text/html": [
       "<table class=\"simpletable\">\n",
       "<caption>ARIMA Model Results</caption>\n",
       "<tr>\n",
       "  <th>Dep. Variable:</th>     <td>D.returns</td>    <th>  No. Observations:  </th>   <td>6275</td>   \n",
       "</tr>\n",
       "<tr>\n",
       "  <th>Model:</th>          <td>ARIMA(6, 1, 3)</td>  <th>  Log Likelihood     </th> <td>-9569.968</td>\n",
       "</tr>\n",
       "<tr>\n",
       "  <th>Method:</th>             <td>css-mle</td>     <th>  S.D. of innovations</th>   <td>1.111</td>  \n",
       "</tr>\n",
       "<tr>\n",
       "  <th>Date:</th>          <td>Fri, 23 Oct 2020</td> <th>  AIC                </th> <td>19161.936</td>\n",
       "</tr>\n",
       "<tr>\n",
       "  <th>Time:</th>              <td>19:48:57</td>     <th>  BIC                </th> <td>19236.124</td>\n",
       "</tr>\n",
       "<tr>\n",
       "  <th>Sample:</th>           <td>01-11-1994</td>    <th>  HQIC               </th> <td>19187.641</td>\n",
       "</tr>\n",
       "<tr>\n",
       "  <th></th>                 <td>- 01-29-2018</td>   <th>                     </th>     <td> </td>    \n",
       "</tr>\n",
       "</table>\n",
       "<table class=\"simpletable\">\n",
       "<tr>\n",
       "         <td></td>            <th>coef</th>     <th>std err</th>      <th>z</th>      <th>P>|z|</th>  <th>[0.025</th>    <th>0.975]</th>  \n",
       "</tr>\n",
       "<tr>\n",
       "  <th>const</th>           <td>-8.409e-07</td> <td> 6.14e-06</td> <td>   -0.137</td> <td> 0.891</td> <td>-1.29e-05</td> <td> 1.12e-05</td>\n",
       "</tr>\n",
       "<tr>\n",
       "  <th>ar.L1.D.returns</th> <td>   -0.1432</td> <td>    0.017</td> <td>   -8.402</td> <td> 0.000</td> <td>   -0.177</td> <td>   -0.110</td>\n",
       "</tr>\n",
       "<tr>\n",
       "  <th>ar.L2.D.returns</th> <td>    0.7793</td> <td>    0.008</td> <td>   92.651</td> <td> 0.000</td> <td>    0.763</td> <td>    0.796</td>\n",
       "</tr>\n",
       "<tr>\n",
       "  <th>ar.L3.D.returns</th> <td>   -0.0601</td> <td>    0.016</td> <td>   -3.744</td> <td> 0.000</td> <td>   -0.092</td> <td>   -0.029</td>\n",
       "</tr>\n",
       "<tr>\n",
       "  <th>ar.L4.D.returns</th> <td>    0.0560</td> <td>    0.016</td> <td>    3.481</td> <td> 0.000</td> <td>    0.024</td> <td>    0.087</td>\n",
       "</tr>\n",
       "<tr>\n",
       "  <th>ar.L5.D.returns</th> <td>    0.0309</td> <td>    0.013</td> <td>    2.440</td> <td> 0.015</td> <td>    0.006</td> <td>    0.056</td>\n",
       "</tr>\n",
       "<tr>\n",
       "  <th>ar.L6.D.returns</th> <td>   -0.0453</td> <td>    0.013</td> <td>   -3.580</td> <td> 0.000</td> <td>   -0.070</td> <td>   -0.021</td>\n",
       "</tr>\n",
       "<tr>\n",
       "  <th>ma.L1.D.returns</th> <td>   -0.8789</td> <td>    0.012</td> <td>  -74.308</td> <td> 0.000</td> <td>   -0.902</td> <td>   -0.856</td>\n",
       "</tr>\n",
       "<tr>\n",
       "  <th>ma.L2.D.returns</th> <td>   -0.9520</td> <td>    0.007</td> <td> -129.932</td> <td> 0.000</td> <td>   -0.966</td> <td>   -0.938</td>\n",
       "</tr>\n",
       "<tr>\n",
       "  <th>ma.L3.D.returns</th> <td>    0.8309</td> <td>      nan</td> <td>      nan</td> <td>   nan</td> <td>      nan</td> <td>      nan</td>\n",
       "</tr>\n",
       "</table>\n",
       "<table class=\"simpletable\">\n",
       "<caption>Roots</caption>\n",
       "<tr>\n",
       "    <td></td>   <th>            Real</th>  <th>         Imaginary</th> <th>         Modulus</th>  <th>        Frequency</th>\n",
       "</tr>\n",
       "<tr>\n",
       "  <th>AR.1</th> <td>          -1.0222</td> <td>          -0.0000j</td> <td>           1.0222</td> <td>          -0.5000</td>\n",
       "</tr>\n",
       "<tr>\n",
       "  <th>AR.2</th> <td>          -1.9791</td> <td>          -0.0000j</td> <td>           1.9791</td> <td>          -0.5000</td>\n",
       "</tr>\n",
       "<tr>\n",
       "  <th>AR.3</th> <td>           0.1539</td> <td>          -2.0161j</td> <td>           2.0219</td> <td>          -0.2379</td>\n",
       "</tr>\n",
       "<tr>\n",
       "  <th>AR.4</th> <td>           0.1539</td> <td>          +2.0161j</td> <td>           2.0219</td> <td>           0.2379</td>\n",
       "</tr>\n",
       "<tr>\n",
       "  <th>AR.5</th> <td>           1.2639</td> <td>          -0.0000j</td> <td>           1.2639</td> <td>          -0.0000</td>\n",
       "</tr>\n",
       "<tr>\n",
       "  <th>AR.6</th> <td>           2.1107</td> <td>          -0.0000j</td> <td>           2.1107</td> <td>          -0.0000</td>\n",
       "</tr>\n",
       "<tr>\n",
       "  <th>MA.1</th> <td>          -1.0266</td> <td>          +0.0000j</td> <td>           1.0266</td> <td>           0.5000</td>\n",
       "</tr>\n",
       "<tr>\n",
       "  <th>MA.2</th> <td>           1.0002</td> <td>          +0.0000j</td> <td>           1.0002</td> <td>           0.0000</td>\n",
       "</tr>\n",
       "<tr>\n",
       "  <th>MA.3</th> <td>           1.1721</td> <td>          +0.0000j</td> <td>           1.1721</td> <td>           0.0000</td>\n",
       "</tr>\n",
       "</table>"
      ],
      "text/plain": [
       "<class 'statsmodels.iolib.summary.Summary'>\n",
       "\"\"\"\n",
       "                             ARIMA Model Results                              \n",
       "==============================================================================\n",
       "Dep. Variable:              D.returns   No. Observations:                 6275\n",
       "Model:                 ARIMA(6, 1, 3)   Log Likelihood               -9569.968\n",
       "Method:                       css-mle   S.D. of innovations              1.111\n",
       "Date:                Fri, 23 Oct 2020   AIC                          19161.936\n",
       "Time:                        19:48:57   BIC                          19236.124\n",
       "Sample:                    01-11-1994   HQIC                         19187.641\n",
       "                         - 01-29-2018                                         \n",
       "===================================================================================\n",
       "                      coef    std err          z      P>|z|      [0.025      0.975]\n",
       "-----------------------------------------------------------------------------------\n",
       "const           -8.409e-07   6.14e-06     -0.137      0.891   -1.29e-05    1.12e-05\n",
       "ar.L1.D.returns    -0.1432      0.017     -8.402      0.000      -0.177      -0.110\n",
       "ar.L2.D.returns     0.7793      0.008     92.651      0.000       0.763       0.796\n",
       "ar.L3.D.returns    -0.0601      0.016     -3.744      0.000      -0.092      -0.029\n",
       "ar.L4.D.returns     0.0560      0.016      3.481      0.000       0.024       0.087\n",
       "ar.L5.D.returns     0.0309      0.013      2.440      0.015       0.006       0.056\n",
       "ar.L6.D.returns    -0.0453      0.013     -3.580      0.000      -0.070      -0.021\n",
       "ma.L1.D.returns    -0.8789      0.012    -74.308      0.000      -0.902      -0.856\n",
       "ma.L2.D.returns    -0.9520      0.007   -129.932      0.000      -0.966      -0.938\n",
       "ma.L3.D.returns     0.8309        nan        nan        nan         nan         nan\n",
       "                                    Roots                                    \n",
       "=============================================================================\n",
       "                  Real          Imaginary           Modulus         Frequency\n",
       "-----------------------------------------------------------------------------\n",
       "AR.1           -1.0222           -0.0000j            1.0222           -0.5000\n",
       "AR.2           -1.9791           -0.0000j            1.9791           -0.5000\n",
       "AR.3            0.1539           -2.0161j            2.0219           -0.2379\n",
       "AR.4            0.1539           +2.0161j            2.0219            0.2379\n",
       "AR.5            1.2639           -0.0000j            1.2639           -0.0000\n",
       "AR.6            2.1107           -0.0000j            2.1107           -0.0000\n",
       "MA.1           -1.0266           +0.0000j            1.0266            0.5000\n",
       "MA.2            1.0002           +0.0000j            1.0002            0.0000\n",
       "MA.3            1.1721           +0.0000j            1.1721            0.0000\n",
       "-----------------------------------------------------------------------------\n",
       "\"\"\""
      ]
     },
     "execution_count": 20,
     "metadata": {},
     "output_type": "execute_result"
    }
   ],
   "source": [
    "model_arima_ret_613 = ARIMA(df_copy.returns[1:], order = (6,1,3))\n",
    "results_arima_ret_613= model_arima_ret_613.fit(start_ar_lags = 11)\n",
    "results_arima_ret_613.summary()"
   ]
  },
  {
   "cell_type": "code",
   "execution_count": 21,
   "metadata": {},
   "outputs": [
    {
     "name": "stdout",
     "output_type": "stream",
     "text": [
      "ARIMA (1,1,1): \n",
      " LL =  -9601.059149843477 \t AIC =  19210.118299686954\n",
      "ARIMA (6,1,3): \n",
      " LL =  -9569.96809903112 \t AIC =  19161.93619806224\n",
      "ARIMA (3,1,1): \n",
      " LL =  -9579.6120778853 \t AIC =  19171.2241557706\n",
      "ARIMA (5,1,1): \n",
      " LL =  -9566.863316205132 \t AIC =  19149.726632410264\n"
     ]
    }
   ],
   "source": [
    "print(\"ARIMA (1,1,1): \\n LL = \", results_arima_ret_111.llf,\"\\t AIC = \", results_arima_ret_111.aic)\n",
    "print(\"ARIMA (6,1,3): \\n LL = \", results_arima_ret_613.llf,\"\\t AIC = \", results_arima_ret_613.aic)\n",
    "print(\"ARIMA (3,1,1): \\n LL = \", results_arima_ret_311.llf,\"\\t AIC = \", results_arima_ret_311.aic)\n",
    "print(\"ARIMA (5,1,1): \\n LL = \", results_arima_ret_511.llf,\"\\t AIC = \", results_arima_ret_511.aic)"
   ]
  },
  {
   "cell_type": "markdown",
   "metadata": {},
   "source": [
    "Here we can see ARIMA(5,1,1) out performed all the other higher and lower order models thus it is the best for our data."
   ]
  },
  {
   "cell_type": "code",
   "execution_count": 22,
   "metadata": {},
   "outputs": [
    {
     "name": "stdout",
     "output_type": "stream",
     "text": [
      "For ARIMA(3,1,1) vs (5,1,1): \n",
      " p_val = 0.0\n"
     ]
    }
   ],
   "source": [
    "print(\"For ARIMA(3,1,1) vs (5,1,1): \\n p_val = \" +str(LLR_test(model_arima_ret_311, model_arima_ret_511, DF = 2)))"
   ]
  },
  {
   "cell_type": "markdown",
   "metadata": {},
   "source": [
    "Thus we can see ARIMA(5,1,1) is better than ARIMA(3,1,1)"
   ]
  },
  {
   "cell_type": "code",
   "execution_count": 23,
   "metadata": {},
   "outputs": [],
   "source": [
    "def LLR_test(mod_1, mod_2, DF=1):\n",
    "    L1 = mod_1.fit(start_ar_lags = 11).llf\n",
    "    L2 = mod_2.fit(start_ar_lags = 11).llf\n",
    "    LR = (2*(L2-L1))\n",
    "    p = chi2.sf(LR, DF).round(3)\n",
    "    return p"
   ]
  },
  {
   "cell_type": "code",
   "execution_count": 24,
   "metadata": {},
   "outputs": [
    {
     "name": "stdout",
     "output_type": "stream",
     "text": [
      "For ARIMA(3,1,1) vs (6,1,3): \n",
      " p_val = 0.002\n"
     ]
    }
   ],
   "source": [
    "print(\"For ARIMA(3,1,1) vs (6,1,3): \\n p_val = \" +str(LLR_test(model_arima_ret_311, model_arima_ret_613, DF = 5)))"
   ]
  },
  {
   "cell_type": "code",
   "execution_count": 25,
   "metadata": {},
   "outputs": [],
   "source": [
    "def LLR_test(mod_1, mod_2, DF=1):\n",
    "    L1 = mod_1.fit().llf\n",
    "    L2 = mod_2.fit().llf\n",
    "    LR = (2*(L2-L1))\n",
    "    p = chi2.sf(LR, DF).round(3)\n",
    "    return p"
   ]
  },
  {
   "cell_type": "code",
   "execution_count": 26,
   "metadata": {},
   "outputs": [
    {
     "name": "stdout",
     "output_type": "stream",
     "text": [
      "For ARIMA(5,1,1) vs (6,1,3): \n",
      " p_val = 1.0\n"
     ]
    }
   ],
   "source": [
    "print(\"For ARIMA(5,1,1) vs (6,1,3): \\n p_val = \" +str(LLR_test(model_arima_ret_511, model_arima_ret_613, DF = 3)))"
   ]
  },
  {
   "cell_type": "markdown",
   "metadata": {},
   "source": [
    "Thus it is clear that ARIMA(5,1,1) is better than ARIMA(6,1,3)"
   ]
  },
  {
   "cell_type": "code",
   "execution_count": 27,
   "metadata": {},
   "outputs": [
    {
     "data": {
      "image/png": "[encoded data removed]",
      "text/plain": [
       "<Figure size 432x288 with 1 Axes>"
      ]
     },
     "metadata": {},
     "output_type": "display_data"
    }
   ],
   "source": [
    "df_copy['res_ret_arma511'] = results_arima_ret_511.resid\n",
    "sgt.plot_acf(df_copy.res_ret_arma511[2:], zero = False, lags = 40)\n",
    "plt.title(\"ACF plot for Residulas of ARIMA(5,1,1)\", size = 20);"
   ]
  },
  {
   "cell_type": "markdown",
   "metadata": {},
   "source": [
    "## Model with higher level of integration"
   ]
  },
  {
   "cell_type": "code",
   "execution_count": 28,
   "metadata": {},
   "outputs": [],
   "source": [
    "df_copy['delta_prices'] = df_copy.market_val.diff()"
   ]
  },
  {
   "cell_type": "code",
   "execution_count": 29,
   "metadata": {},
   "outputs": [
    {
     "data": {
      "text/html": [
       "<table class=\"simpletable\">\n",
       "<caption>ARMA Model Results</caption>\n",
       "<tr>\n",
       "  <th>Dep. Variable:</th>   <td>delta_prices</td>   <th>  No. Observations:  </th>    <td>6276</td>   \n",
       "</tr>\n",
       "<tr>\n",
       "  <th>Model:</th>            <td>ARMA(1, 1)</td>    <th>  Log Likelihood     </th> <td>-34417.643</td>\n",
       "</tr>\n",
       "<tr>\n",
       "  <th>Method:</th>             <td>css-mle</td>     <th>  S.D. of innovations</th>   <td>58.269</td>  \n",
       "</tr>\n",
       "<tr>\n",
       "  <th>Date:</th>          <td>Fri, 23 Oct 2020</td> <th>  AIC                </th>  <td>68843.285</td>\n",
       "</tr>\n",
       "<tr>\n",
       "  <th>Time:</th>              <td>19:50:34</td>     <th>  BIC                </th>  <td>68870.263</td>\n",
       "</tr>\n",
       "<tr>\n",
       "  <th>Sample:</th>           <td>01-10-1994</td>    <th>  HQIC               </th>  <td>68852.633</td>\n",
       "</tr>\n",
       "<tr>\n",
       "  <th></th>                 <td>- 01-29-2018</td>   <th>                     </th>      <td> </td>    \n",
       "</tr>\n",
       "</table>\n",
       "<table class=\"simpletable\">\n",
       "<tr>\n",
       "           <td></td>             <th>coef</th>     <th>std err</th>      <th>z</th>      <th>P>|z|</th>  <th>[0.025</th>    <th>0.975]</th>  \n",
       "</tr>\n",
       "<tr>\n",
       "  <th>const</th>              <td>    0.6750</td> <td>    0.581</td> <td>    1.162</td> <td> 0.245</td> <td>   -0.463</td> <td>    1.813</td>\n",
       "</tr>\n",
       "<tr>\n",
       "  <th>ar.L1.delta_prices</th> <td>    0.8355</td> <td>    0.078</td> <td>   10.778</td> <td> 0.000</td> <td>    0.684</td> <td>    0.987</td>\n",
       "</tr>\n",
       "<tr>\n",
       "  <th>ma.L1.delta_prices</th> <td>   -0.8702</td> <td>    0.070</td> <td>  -12.464</td> <td> 0.000</td> <td>   -1.007</td> <td>   -0.733</td>\n",
       "</tr>\n",
       "</table>\n",
       "<table class=\"simpletable\">\n",
       "<caption>Roots</caption>\n",
       "<tr>\n",
       "    <td></td>   <th>            Real</th>  <th>         Imaginary</th> <th>         Modulus</th>  <th>        Frequency</th>\n",
       "</tr>\n",
       "<tr>\n",
       "  <th>AR.1</th> <td>           1.1968</td> <td>          +0.0000j</td> <td>           1.1968</td> <td>           0.0000</td>\n",
       "</tr>\n",
       "<tr>\n",
       "  <th>MA.1</th> <td>           1.1492</td> <td>          +0.0000j</td> <td>           1.1492</td> <td>           0.0000</td>\n",
       "</tr>\n",
       "</table>"
      ],
      "text/plain": [
       "<class 'statsmodels.iolib.summary.Summary'>\n",
       "\"\"\"\n",
       "                              ARMA Model Results                              \n",
       "==============================================================================\n",
       "Dep. Variable:           delta_prices   No. Observations:                 6276\n",
       "Model:                     ARMA(1, 1)   Log Likelihood              -34417.643\n",
       "Method:                       css-mle   S.D. of innovations             58.269\n",
       "Date:                Fri, 23 Oct 2020   AIC                          68843.285\n",
       "Time:                        19:50:34   BIC                          68870.263\n",
       "Sample:                    01-10-1994   HQIC                         68852.633\n",
       "                         - 01-29-2018                                         \n",
       "======================================================================================\n",
       "                         coef    std err          z      P>|z|      [0.025      0.975]\n",
       "--------------------------------------------------------------------------------------\n",
       "const                  0.6750      0.581      1.162      0.245      -0.463       1.813\n",
       "ar.L1.delta_prices     0.8355      0.078     10.778      0.000       0.684       0.987\n",
       "ma.L1.delta_prices    -0.8702      0.070    -12.464      0.000      -1.007      -0.733\n",
       "                                    Roots                                    \n",
       "=============================================================================\n",
       "                  Real          Imaginary           Modulus         Frequency\n",
       "-----------------------------------------------------------------------------\n",
       "AR.1            1.1968           +0.0000j            1.1968            0.0000\n",
       "MA.1            1.1492           +0.0000j            1.1492            0.0000\n",
       "-----------------------------------------------------------------------------\n",
       "\"\"\""
      ]
     },
     "execution_count": 29,
     "metadata": {},
     "output_type": "execute_result"
    }
   ],
   "source": [
    "model_arima_del_111 = ARIMA(df_copy.delta_prices[1:], order = (1,0,1))\n",
    "results_arima_del_111 = model_arima_del_111.fit()\n",
    "results_arima_del_111.summary()"
   ]
  },
  {
   "cell_type": "code",
   "execution_count": 30,
   "metadata": {},
   "outputs": [
    {
     "data": {
      "text/plain": [
       "(-35.62356825180311,\n",
       " 0.0,\n",
       " 5,\n",
       " 6270,\n",
       " {'1%': -3.4313933778649943,\n",
       "  '5%': -2.862001080749219,\n",
       "  '10%': -2.567015430304048},\n",
       " 68467.67159603653)"
      ]
     },
     "execution_count": 30,
     "metadata": {},
     "output_type": "execute_result"
    }
   ],
   "source": [
    "sts.adfuller(df_copy.delta_prices[1:])"
   ]
  },
  {
   "cell_type": "markdown",
   "metadata": {},
   "source": [
    "## ARIMAX"
   ]
  },
  {
   "cell_type": "markdown",
   "metadata": {},
   "source": [
    "Here including the past values and the residuas we also use an exogenious variable to fit the data such that it is related to the variable of our interest. For eq lets fit ARIMAX model with SPX as exogeneous variable. Thus we have"
   ]
  },
  {
   "cell_type": "code",
   "execution_count": 31,
   "metadata": {},
   "outputs": [
    {
     "data": {
      "text/html": [
       "<table class=\"simpletable\">\n",
       "<caption>ARIMA Model Results</caption>\n",
       "<tr>\n",
       "  <th>Dep. Variable:</th>   <td>D.market_val</td>   <th>  No. Observations:  </th>    <td>6276</td>   \n",
       "</tr>\n",
       "<tr>\n",
       "  <th>Model:</th>          <td>ARIMA(1, 1, 1)</td>  <th>  Log Likelihood     </th> <td>-34417.384</td>\n",
       "</tr>\n",
       "<tr>\n",
       "  <th>Method:</th>             <td>css-mle</td>     <th>  S.D. of innovations</th>   <td>58.267</td>  \n",
       "</tr>\n",
       "<tr>\n",
       "  <th>Date:</th>          <td>Fri, 23 Oct 2020</td> <th>  AIC                </th>  <td>68844.768</td>\n",
       "</tr>\n",
       "<tr>\n",
       "  <th>Time:</th>              <td>19:50:38</td>     <th>  BIC                </th>  <td>68878.490</td>\n",
       "</tr>\n",
       "<tr>\n",
       "  <th>Sample:</th>           <td>01-10-1994</td>    <th>  HQIC               </th>  <td>68856.452</td>\n",
       "</tr>\n",
       "<tr>\n",
       "  <th></th>                 <td>- 01-29-2018</td>   <th>                     </th>      <td> </td>    \n",
       "</tr>\n",
       "</table>\n",
       "<table class=\"simpletable\">\n",
       "<tr>\n",
       "           <td></td>             <th>coef</th>     <th>std err</th>      <th>z</th>      <th>P>|z|</th>  <th>[0.025</th>    <th>0.975]</th>  \n",
       "</tr>\n",
       "<tr>\n",
       "  <th>const</th>              <td>   -0.4084</td> <td>    1.653</td> <td>   -0.247</td> <td> 0.805</td> <td>   -3.648</td> <td>    2.831</td>\n",
       "</tr>\n",
       "<tr>\n",
       "  <th>spx</th>                <td>    0.0008</td> <td>    0.001</td> <td>    0.703</td> <td> 0.482</td> <td>   -0.002</td> <td>    0.003</td>\n",
       "</tr>\n",
       "<tr>\n",
       "  <th>ar.L1.D.market_val</th> <td>    0.8336</td> <td>    0.078</td> <td>   10.737</td> <td> 0.000</td> <td>    0.681</td> <td>    0.986</td>\n",
       "</tr>\n",
       "<tr>\n",
       "  <th>ma.L1.D.market_val</th> <td>   -0.8683</td> <td>    0.070</td> <td>  -12.401</td> <td> 0.000</td> <td>   -1.006</td> <td>   -0.731</td>\n",
       "</tr>\n",
       "</table>\n",
       "<table class=\"simpletable\">\n",
       "<caption>Roots</caption>\n",
       "<tr>\n",
       "    <td></td>   <th>            Real</th>  <th>         Imaginary</th> <th>         Modulus</th>  <th>        Frequency</th>\n",
       "</tr>\n",
       "<tr>\n",
       "  <th>AR.1</th> <td>           1.1996</td> <td>          +0.0000j</td> <td>           1.1996</td> <td>           0.0000</td>\n",
       "</tr>\n",
       "<tr>\n",
       "  <th>MA.1</th> <td>           1.1517</td> <td>          +0.0000j</td> <td>           1.1517</td> <td>           0.0000</td>\n",
       "</tr>\n",
       "</table>"
      ],
      "text/plain": [
       "<class 'statsmodels.iolib.summary.Summary'>\n",
       "\"\"\"\n",
       "                             ARIMA Model Results                              \n",
       "==============================================================================\n",
       "Dep. Variable:           D.market_val   No. Observations:                 6276\n",
       "Model:                 ARIMA(1, 1, 1)   Log Likelihood              -34417.384\n",
       "Method:                       css-mle   S.D. of innovations             58.267\n",
       "Date:                Fri, 23 Oct 2020   AIC                          68844.768\n",
       "Time:                        19:50:38   BIC                          68878.490\n",
       "Sample:                    01-10-1994   HQIC                         68856.452\n",
       "                         - 01-29-2018                                         \n",
       "======================================================================================\n",
       "                         coef    std err          z      P>|z|      [0.025      0.975]\n",
       "--------------------------------------------------------------------------------------\n",
       "const                 -0.4084      1.653     -0.247      0.805      -3.648       2.831\n",
       "spx                    0.0008      0.001      0.703      0.482      -0.002       0.003\n",
       "ar.L1.D.market_val     0.8336      0.078     10.737      0.000       0.681       0.986\n",
       "ma.L1.D.market_val    -0.8683      0.070    -12.401      0.000      -1.006      -0.731\n",
       "                                    Roots                                    \n",
       "=============================================================================\n",
       "                  Real          Imaginary           Modulus         Frequency\n",
       "-----------------------------------------------------------------------------\n",
       "AR.1            1.1996           +0.0000j            1.1996            0.0000\n",
       "MA.1            1.1517           +0.0000j            1.1517            0.0000\n",
       "-----------------------------------------------------------------------------\n",
       "\"\"\""
      ]
     },
     "execution_count": 31,
     "metadata": {},
     "output_type": "execute_result"
    }
   ],
   "source": [
    "model_arimax_spx_111 = ARIMA(df_copy.market_val, exog = df_copy.spx, order = (1,1,1))\n",
    "results_arimax_spx_111 = model_arimax_spx_111.fit()\n",
    "results_arimax_spx_111.summary()"
   ]
  },
  {
   "cell_type": "markdown",
   "metadata": {},
   "source": [
    "## SARIMAX"
   ]
  },
  {
   "cell_type": "code",
   "execution_count": 32,
   "metadata": {},
   "outputs": [],
   "source": [
    "from statsmodels.tsa.statespace.sarimax import SARIMAX"
   ]
  },
  {
   "cell_type": "code",
   "execution_count": 33,
   "metadata": {},
   "outputs": [
    {
     "data": {
      "text/html": [
       "<table class=\"simpletable\">\n",
       "<caption>SARIMAX Results</caption>\n",
       "<tr>\n",
       "  <th>Dep. Variable:</th>            <td>market_val</td>           <th>  No. Observations:  </th>    <td>6277</td>   \n",
       "</tr>\n",
       "<tr>\n",
       "  <th>Model:</th>           <td>SARIMAX(1, 0, 1)x(2, 0, 1, 5)</td> <th>  Log Likelihood     </th> <td>-33290.839</td>\n",
       "</tr>\n",
       "<tr>\n",
       "  <th>Date:</th>                  <td>Fri, 23 Oct 2020</td>        <th>  AIC                </th>  <td>66595.679</td>\n",
       "</tr>\n",
       "<tr>\n",
       "  <th>Time:</th>                      <td>19:51:05</td>            <th>  BIC                </th>  <td>66642.891</td>\n",
       "</tr>\n",
       "<tr>\n",
       "  <th>Sample:</th>                   <td>01-07-1994</td>           <th>  HQIC               </th>  <td>66612.037</td>\n",
       "</tr>\n",
       "<tr>\n",
       "  <th></th>                         <td>- 01-29-2018</td>          <th>                     </th>      <td> </td>    \n",
       "</tr>\n",
       "<tr>\n",
       "  <th>Covariance Type:</th>              <td>opg</td>              <th>                     </th>      <td> </td>    \n",
       "</tr>\n",
       "</table>\n",
       "<table class=\"simpletable\">\n",
       "<tr>\n",
       "      <td></td>        <th>coef</th>     <th>std err</th>      <th>z</th>      <th>P>|z|</th>  <th>[0.025</th>    <th>0.975]</th>  \n",
       "</tr>\n",
       "<tr>\n",
       "  <th>spx</th>      <td>    2.5858</td> <td>    0.031</td> <td>   83.333</td> <td> 0.000</td> <td>    2.525</td> <td>    2.647</td>\n",
       "</tr>\n",
       "<tr>\n",
       "  <th>ar.L1</th>    <td>    0.9999</td> <td>    0.001</td> <td> 1594.607</td> <td> 0.000</td> <td>    0.999</td> <td>    1.001</td>\n",
       "</tr>\n",
       "<tr>\n",
       "  <th>ma.L1</th>    <td>   -0.2796</td> <td>    0.009</td> <td>  -31.724</td> <td> 0.000</td> <td>   -0.297</td> <td>   -0.262</td>\n",
       "</tr>\n",
       "<tr>\n",
       "  <th>ar.S.L5</th>  <td>    0.9798</td> <td>    0.004</td> <td>  262.434</td> <td> 0.000</td> <td>    0.973</td> <td>    0.987</td>\n",
       "</tr>\n",
       "<tr>\n",
       "  <th>ar.S.L10</th> <td>    0.0201</td> <td>    0.001</td> <td>   16.895</td> <td> 0.000</td> <td>    0.018</td> <td>    0.022</td>\n",
       "</tr>\n",
       "<tr>\n",
       "  <th>ma.S.L5</th>  <td>   -0.9997</td> <td>    0.006</td> <td> -169.344</td> <td> 0.000</td> <td>   -1.011</td> <td>   -0.988</td>\n",
       "</tr>\n",
       "<tr>\n",
       "  <th>sigma2</th>   <td> 2402.7076</td> <td>   27.974</td> <td>   85.891</td> <td> 0.000</td> <td> 2347.880</td> <td> 2457.536</td>\n",
       "</tr>\n",
       "</table>\n",
       "<table class=\"simpletable\">\n",
       "<tr>\n",
       "  <th>Ljung-Box (Q):</th>          <td>92.57</td> <th>  Jarque-Bera (JB):  </th> <td>4557.97</td>\n",
       "</tr>\n",
       "<tr>\n",
       "  <th>Prob(Q):</th>                <td>0.00</td>  <th>  Prob(JB):          </th>  <td>0.00</td>  \n",
       "</tr>\n",
       "<tr>\n",
       "  <th>Heteroskedasticity (H):</th> <td>0.76</td>  <th>  Skew:              </th>  <td>-0.41</td> \n",
       "</tr>\n",
       "<tr>\n",
       "  <th>Prob(H) (two-sided):</th>    <td>0.00</td>  <th>  Kurtosis:          </th>  <td>7.09</td>  \n",
       "</tr>\n",
       "</table><br/><br/>Warnings:<br/>[1] Covariance matrix calculated using the outer product of gradients (complex-step)."
      ],
      "text/plain": [
       "<class 'statsmodels.iolib.summary.Summary'>\n",
       "\"\"\"\n",
       "                                     SARIMAX Results                                     \n",
       "=========================================================================================\n",
       "Dep. Variable:                        market_val   No. Observations:                 6277\n",
       "Model:             SARIMAX(1, 0, 1)x(2, 0, 1, 5)   Log Likelihood              -33290.839\n",
       "Date:                           Fri, 23 Oct 2020   AIC                          66595.679\n",
       "Time:                                   19:51:05   BIC                          66642.891\n",
       "Sample:                               01-07-1994   HQIC                         66612.037\n",
       "                                    - 01-29-2018                                         \n",
       "Covariance Type:                             opg                                         \n",
       "==============================================================================\n",
       "                 coef    std err          z      P>|z|      [0.025      0.975]\n",
       "------------------------------------------------------------------------------\n",
       "spx            2.5858      0.031     83.333      0.000       2.525       2.647\n",
       "ar.L1          0.9999      0.001   1594.607      0.000       0.999       1.001\n",
       "ma.L1         -0.2796      0.009    -31.724      0.000      -0.297      -0.262\n",
       "ar.S.L5        0.9798      0.004    262.434      0.000       0.973       0.987\n",
       "ar.S.L10       0.0201      0.001     16.895      0.000       0.018       0.022\n",
       "ma.S.L5       -0.9997      0.006   -169.344      0.000      -1.011      -0.988\n",
       "sigma2      2402.7076     27.974     85.891      0.000    2347.880    2457.536\n",
       "===================================================================================\n",
       "Ljung-Box (Q):                       92.57   Jarque-Bera (JB):              4557.97\n",
       "Prob(Q):                              0.00   Prob(JB):                         0.00\n",
       "Heteroskedasticity (H):               0.76   Skew:                            -0.41\n",
       "Prob(H) (two-sided):                  0.00   Kurtosis:                         7.09\n",
       "===================================================================================\n",
       "\n",
       "Warnings:\n",
       "[1] Covariance matrix calculated using the outer product of gradients (complex-step).\n",
       "\"\"\""
      ]
     },
     "execution_count": 33,
     "metadata": {},
     "output_type": "execute_result"
    }
   ],
   "source": [
    "model_sarimax = SARIMAX(df_copy.market_val, exog= df_copy.spx, order = (1,0,1), seasonal_order = (2,0,1,5))\n",
    "results_sarimax = model_sarimax.fit()\n",
    "results_sarimax.summary()"
   ]
  },
  {
   "cell_type": "code",
   "execution_count": null,
   "metadata": {},
   "outputs": [],
   "source": []
  }
 ],
 "metadata": {
  "kernelspec": {
   "display_name": "Python 3",
   "language": "python",
   "name": "python3"
  },
  "language_info": {
   "codemirror_mode": {
    "name": "ipython",
    "version": 3
   },
   "file_extension": ".py",
   "mimetype": "text/x-python",
   "name": "python",
   "nbconvert_exporter": "python",
   "pygments_lexer": "ipython3",
   "version": "3.7.6"
  }
 },
 "nbformat": 4,
 "nbformat_minor": 4
}
