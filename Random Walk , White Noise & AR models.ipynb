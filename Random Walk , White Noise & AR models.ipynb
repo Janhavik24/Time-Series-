{
 "cells": [
  {
   "cell_type": "markdown",
   "metadata": {},
   "source": [
    "## Time Series , Random Walk & White Noise"
   ]
  },
  {
   "cell_type": "code",
   "execution_count": 1,
   "metadata": {},
   "outputs": [],
   "source": [
    "import statsmodels.tsa.stattools as sts\n",
    "import pandas as pd\n",
    "import numpy as np\n",
    "import matplotlib.pyplot as plt\n",
    "from statsmodels.tsa.seasonal import seasonal_decompose\n",
    "from statsmodels.tsa.arima_model import ARMA\n",
    "import statsmodels.graphics.tsaplots as sgt\n",
    "from scipy.stats.distributions import chi2"
   ]
  },
  {
   "cell_type": "code",
   "execution_count": 2,
   "metadata": {},
   "outputs": [
    {
     "data": {
      "text/html": [
       "<div>\n",
       "<style scoped>\n",
       "    .dataframe tbody tr th:only-of-type {\n",
       "        vertical-align: middle;\n",
       "    }\n",
       "\n",
       "    .dataframe tbody tr th {\n",
       "        vertical-align: top;\n",
       "    }\n",
       "\n",
       "    .dataframe thead th {\n",
       "        text-align: right;\n",
       "    }\n",
       "</style>\n",
       "<table border=\"1\" class=\"dataframe\">\n",
       "  <thead>\n",
       "    <tr style=\"text-align: right;\">\n",
       "      <th></th>\n",
       "      <th>date</th>\n",
       "      <th>spx</th>\n",
       "      <th>dax</th>\n",
       "      <th>ftse</th>\n",
       "      <th>nikkei</th>\n",
       "    </tr>\n",
       "  </thead>\n",
       "  <tbody>\n",
       "    <tr>\n",
       "      <th>0</th>\n",
       "      <td>07-01-1994</td>\n",
       "      <td>469.90</td>\n",
       "      <td>2224.95</td>\n",
       "      <td>3445.98</td>\n",
       "      <td>18124.01</td>\n",
       "    </tr>\n",
       "    <tr>\n",
       "      <th>1</th>\n",
       "      <td>10-01-1994</td>\n",
       "      <td>475.27</td>\n",
       "      <td>2225.00</td>\n",
       "      <td>3440.58</td>\n",
       "      <td>18443.44</td>\n",
       "    </tr>\n",
       "    <tr>\n",
       "      <th>2</th>\n",
       "      <td>11-01-1994</td>\n",
       "      <td>474.13</td>\n",
       "      <td>2228.10</td>\n",
       "      <td>3413.77</td>\n",
       "      <td>18485.25</td>\n",
       "    </tr>\n",
       "  </tbody>\n",
       "</table>\n",
       "</div>"
      ],
      "text/plain": [
       "         date     spx      dax     ftse    nikkei\n",
       "0  07-01-1994  469.90  2224.95  3445.98  18124.01\n",
       "1  10-01-1994  475.27  2225.00  3440.58  18443.44\n",
       "2  11-01-1994  474.13  2228.10  3413.77  18485.25"
      ]
     },
     "execution_count": 2,
     "metadata": {},
     "output_type": "execute_result"
    }
   ],
   "source": [
    "df = pd.read_csv(r\"C:\\Users\\Sukanya\\Desktop\\DATA\\Time_Series.csv\")\n",
    "df.head(3)"
   ]
  },
  {
   "cell_type": "code",
   "execution_count": 3,
   "metadata": {},
   "outputs": [
    {
     "data": {
      "text/plain": [
       "pandas._libs.tslibs.timestamps.Timestamp"
      ]
     },
     "execution_count": 3,
     "metadata": {},
     "output_type": "execute_result"
    }
   ],
   "source": [
    "df.date = pd.to_datetime(df.date, dayfirst = True)\n",
    "type(df.date[0])"
   ]
  },
  {
   "cell_type": "code",
   "execution_count": 4,
   "metadata": {},
   "outputs": [
    {
     "data": {
      "text/html": [
       "<div>\n",
       "<style scoped>\n",
       "    .dataframe tbody tr th:only-of-type {\n",
       "        vertical-align: middle;\n",
       "    }\n",
       "\n",
       "    .dataframe tbody tr th {\n",
       "        vertical-align: top;\n",
       "    }\n",
       "\n",
       "    .dataframe thead th {\n",
       "        text-align: right;\n",
       "    }\n",
       "</style>\n",
       "<table border=\"1\" class=\"dataframe\">\n",
       "  <thead>\n",
       "    <tr style=\"text-align: right;\">\n",
       "      <th></th>\n",
       "      <th>spx</th>\n",
       "      <th>dax</th>\n",
       "      <th>ftse</th>\n",
       "      <th>nikkei</th>\n",
       "    </tr>\n",
       "    <tr>\n",
       "      <th>date</th>\n",
       "      <th></th>\n",
       "      <th></th>\n",
       "      <th></th>\n",
       "      <th></th>\n",
       "    </tr>\n",
       "  </thead>\n",
       "  <tbody>\n",
       "    <tr>\n",
       "      <th>1994-01-07</th>\n",
       "      <td>469.90</td>\n",
       "      <td>2224.95</td>\n",
       "      <td>3445.98</td>\n",
       "      <td>18124.01</td>\n",
       "    </tr>\n",
       "    <tr>\n",
       "      <th>1994-01-10</th>\n",
       "      <td>475.27</td>\n",
       "      <td>2225.00</td>\n",
       "      <td>3440.58</td>\n",
       "      <td>18443.44</td>\n",
       "    </tr>\n",
       "    <tr>\n",
       "      <th>1994-01-11</th>\n",
       "      <td>474.13</td>\n",
       "      <td>2228.10</td>\n",
       "      <td>3413.77</td>\n",
       "      <td>18485.25</td>\n",
       "    </tr>\n",
       "  </tbody>\n",
       "</table>\n",
       "</div>"
      ],
      "text/plain": [
       "               spx      dax     ftse    nikkei\n",
       "date                                          \n",
       "1994-01-07  469.90  2224.95  3445.98  18124.01\n",
       "1994-01-10  475.27  2225.00  3440.58  18443.44\n",
       "1994-01-11  474.13  2228.10  3413.77  18485.25"
      ]
     },
     "execution_count": 4,
     "metadata": {},
     "output_type": "execute_result"
    }
   ],
   "source": [
    "df.set_index('date', inplace = True)\n",
    "df.head(3)"
   ]
  },
  {
   "cell_type": "code",
   "execution_count": 5,
   "metadata": {},
   "outputs": [
    {
     "data": {
      "text/html": [
       "<div>\n",
       "<style scoped>\n",
       "    .dataframe tbody tr th:only-of-type {\n",
       "        vertical-align: middle;\n",
       "    }\n",
       "\n",
       "    .dataframe tbody tr th {\n",
       "        vertical-align: top;\n",
       "    }\n",
       "\n",
       "    .dataframe thead th {\n",
       "        text-align: right;\n",
       "    }\n",
       "</style>\n",
       "<table border=\"1\" class=\"dataframe\">\n",
       "  <thead>\n",
       "    <tr style=\"text-align: right;\">\n",
       "      <th></th>\n",
       "      <th>spx</th>\n",
       "      <th>dax</th>\n",
       "      <th>ftse</th>\n",
       "      <th>nikkei</th>\n",
       "    </tr>\n",
       "    <tr>\n",
       "      <th>date</th>\n",
       "      <th></th>\n",
       "      <th></th>\n",
       "      <th></th>\n",
       "      <th></th>\n",
       "    </tr>\n",
       "  </thead>\n",
       "  <tbody>\n",
       "    <tr>\n",
       "      <th>1994-01-07</th>\n",
       "      <td>469.90</td>\n",
       "      <td>2224.95</td>\n",
       "      <td>3445.98</td>\n",
       "      <td>18124.01</td>\n",
       "    </tr>\n",
       "    <tr>\n",
       "      <th>1994-01-10</th>\n",
       "      <td>475.27</td>\n",
       "      <td>2225.00</td>\n",
       "      <td>3440.58</td>\n",
       "      <td>18443.44</td>\n",
       "    </tr>\n",
       "    <tr>\n",
       "      <th>1994-01-11</th>\n",
       "      <td>474.13</td>\n",
       "      <td>2228.10</td>\n",
       "      <td>3413.77</td>\n",
       "      <td>18485.25</td>\n",
       "    </tr>\n",
       "    <tr>\n",
       "      <th>1994-01-12</th>\n",
       "      <td>474.17</td>\n",
       "      <td>2182.06</td>\n",
       "      <td>3372.02</td>\n",
       "      <td>18793.88</td>\n",
       "    </tr>\n",
       "    <tr>\n",
       "      <th>1994-01-13</th>\n",
       "      <td>472.47</td>\n",
       "      <td>2142.37</td>\n",
       "      <td>3360.01</td>\n",
       "      <td>18577.26</td>\n",
       "    </tr>\n",
       "  </tbody>\n",
       "</table>\n",
       "</div>"
      ],
      "text/plain": [
       "               spx      dax     ftse    nikkei\n",
       "date                                          \n",
       "1994-01-07  469.90  2224.95  3445.98  18124.01\n",
       "1994-01-10  475.27  2225.00  3440.58  18443.44\n",
       "1994-01-11  474.13  2228.10  3413.77  18485.25\n",
       "1994-01-12  474.17  2182.06  3372.02  18793.88\n",
       "1994-01-13  472.47  2142.37  3360.01  18577.26"
      ]
     },
     "execution_count": 5,
     "metadata": {},
     "output_type": "execute_result"
    }
   ],
   "source": [
    "df = df.asfreq('b')\n",
    "df.head()"
   ]
  },
  {
   "cell_type": "markdown",
   "metadata": {},
   "source": [
    " Here 'a'= annual, 'm'= month, 'w'= week, 'd'= day, 'h'=hour, 'b' = business days,"
   ]
  },
  {
   "cell_type": "markdown",
   "metadata": {},
   "source": [
    "# Handling Missing Values"
   ]
  },
  {
   "cell_type": "code",
   "execution_count": 6,
   "metadata": {},
   "outputs": [
    {
     "data": {
      "text/plain": [
       "spx       8\n",
       "dax       8\n",
       "ftse      8\n",
       "nikkei    8\n",
       "dtype: int64"
      ]
     },
     "execution_count": 6,
     "metadata": {},
     "output_type": "execute_result"
    }
   ],
   "source": [
    "df.isnull().sum()"
   ]
  },
  {
   "cell_type": "code",
   "execution_count": 7,
   "metadata": {},
   "outputs": [
    {
     "data": {
      "text/plain": [
       "spx       0\n",
       "dax       0\n",
       "ftse      0\n",
       "nikkei    0\n",
       "dtype: int64"
      ]
     },
     "execution_count": 7,
     "metadata": {},
     "output_type": "execute_result"
    }
   ],
   "source": [
    "df.spx = df.spx.fillna(method = 'ffill')\n",
    "df.ftse = df.ftse.fillna(method = 'ffill')\n",
    "df.dax = df.dax.fillna(method = 'ffill')\n",
    "df.nikkei = df.nikkei.fillna(method = 'ffill')\n",
    "df.isnull().sum()"
   ]
  },
  {
   "cell_type": "markdown",
   "metadata": {},
   "source": [
    "### Methods to fill missing data \n",
    "- Front: filling assigning the null val entry prior to it.\n",
    "- Back: filling assigning the null val entry exactly next to it. ( just use method = 'ffill) \n",
    "- Assigning the same value i.e all nulls are assigned same value say average. (df.dax = df.dax.fillna(value = df.dax.mean()) )"
   ]
  },
  {
   "cell_type": "markdown",
   "metadata": {},
   "source": [
    "## Adding and deleting extra col"
   ]
  },
  {
   "cell_type": "code",
   "execution_count": 8,
   "metadata": {},
   "outputs": [
    {
     "data": {
      "text/html": [
       "<div>\n",
       "<style scoped>\n",
       "    .dataframe tbody tr th:only-of-type {\n",
       "        vertical-align: middle;\n",
       "    }\n",
       "\n",
       "    .dataframe tbody tr th {\n",
       "        vertical-align: top;\n",
       "    }\n",
       "\n",
       "    .dataframe thead th {\n",
       "        text-align: right;\n",
       "    }\n",
       "</style>\n",
       "<table border=\"1\" class=\"dataframe\">\n",
       "  <thead>\n",
       "    <tr style=\"text-align: right;\">\n",
       "      <th></th>\n",
       "      <th>spx</th>\n",
       "      <th>dax</th>\n",
       "      <th>ftse</th>\n",
       "      <th>nikkei</th>\n",
       "      <th>marketing_price</th>\n",
       "    </tr>\n",
       "  </thead>\n",
       "  <tbody>\n",
       "    <tr>\n",
       "      <th>count</th>\n",
       "      <td>6277.000000</td>\n",
       "      <td>6277.000000</td>\n",
       "      <td>6277.000000</td>\n",
       "      <td>6277.000000</td>\n",
       "      <td>6277.000000</td>\n",
       "    </tr>\n",
       "    <tr>\n",
       "      <th>mean</th>\n",
       "      <td>1288.642547</td>\n",
       "      <td>6083.381061</td>\n",
       "      <td>5423.679824</td>\n",
       "      <td>14597.672753</td>\n",
       "      <td>1288.642547</td>\n",
       "    </tr>\n",
       "    <tr>\n",
       "      <th>std</th>\n",
       "      <td>487.868210</td>\n",
       "      <td>2755.563853</td>\n",
       "      <td>1145.616719</td>\n",
       "      <td>4043.795272</td>\n",
       "      <td>487.868210</td>\n",
       "    </tr>\n",
       "    <tr>\n",
       "      <th>min</th>\n",
       "      <td>438.920000</td>\n",
       "      <td>1911.700000</td>\n",
       "      <td>2876.600000</td>\n",
       "      <td>7054.980000</td>\n",
       "      <td>438.920000</td>\n",
       "    </tr>\n",
       "    <tr>\n",
       "      <th>25%</th>\n",
       "      <td>992.715221</td>\n",
       "      <td>4070.460000</td>\n",
       "      <td>4486.730000</td>\n",
       "      <td>10701.130000</td>\n",
       "      <td>992.715221</td>\n",
       "    </tr>\n",
       "    <tr>\n",
       "      <th>50%</th>\n",
       "      <td>1233.761241</td>\n",
       "      <td>5774.260000</td>\n",
       "      <td>5663.300000</td>\n",
       "      <td>15030.510000</td>\n",
       "      <td>1233.761241</td>\n",
       "    </tr>\n",
       "    <tr>\n",
       "      <th>75%</th>\n",
       "      <td>1460.250000</td>\n",
       "      <td>7445.560000</td>\n",
       "      <td>6304.630175</td>\n",
       "      <td>17860.470000</td>\n",
       "      <td>1460.250000</td>\n",
       "    </tr>\n",
       "    <tr>\n",
       "      <th>max</th>\n",
       "      <td>2872.867839</td>\n",
       "      <td>13559.600000</td>\n",
       "      <td>7778.637689</td>\n",
       "      <td>24124.150000</td>\n",
       "      <td>2872.867839</td>\n",
       "    </tr>\n",
       "  </tbody>\n",
       "</table>\n",
       "</div>"
      ],
      "text/plain": [
       "               spx           dax         ftse        nikkei  marketing_price\n",
       "count  6277.000000   6277.000000  6277.000000   6277.000000      6277.000000\n",
       "mean   1288.642547   6083.381061  5423.679824  14597.672753      1288.642547\n",
       "std     487.868210   2755.563853  1145.616719   4043.795272       487.868210\n",
       "min     438.920000   1911.700000  2876.600000   7054.980000       438.920000\n",
       "25%     992.715221   4070.460000  4486.730000  10701.130000       992.715221\n",
       "50%    1233.761241   5774.260000  5663.300000  15030.510000      1233.761241\n",
       "75%    1460.250000   7445.560000  6304.630175  17860.470000      1460.250000\n",
       "max    2872.867839  13559.600000  7778.637689  24124.150000      2872.867839"
      ]
     },
     "execution_count": 8,
     "metadata": {},
     "output_type": "execute_result"
    }
   ],
   "source": [
    "df['marketing_price'] = df.spx\n",
    "df.describe()"
   ]
  },
  {
   "cell_type": "code",
   "execution_count": 9,
   "metadata": {},
   "outputs": [
    {
     "data": {
      "text/html": [
       "<div>\n",
       "<style scoped>\n",
       "    .dataframe tbody tr th:only-of-type {\n",
       "        vertical-align: middle;\n",
       "    }\n",
       "\n",
       "    .dataframe tbody tr th {\n",
       "        vertical-align: top;\n",
       "    }\n",
       "\n",
       "    .dataframe thead th {\n",
       "        text-align: right;\n",
       "    }\n",
       "</style>\n",
       "<table border=\"1\" class=\"dataframe\">\n",
       "  <thead>\n",
       "    <tr style=\"text-align: right;\">\n",
       "      <th></th>\n",
       "      <th>spx</th>\n",
       "      <th>dax</th>\n",
       "      <th>ftse</th>\n",
       "      <th>nikkei</th>\n",
       "    </tr>\n",
       "  </thead>\n",
       "  <tbody>\n",
       "    <tr>\n",
       "      <th>count</th>\n",
       "      <td>6277.000000</td>\n",
       "      <td>6277.000000</td>\n",
       "      <td>6277.000000</td>\n",
       "      <td>6277.000000</td>\n",
       "    </tr>\n",
       "    <tr>\n",
       "      <th>mean</th>\n",
       "      <td>1288.642547</td>\n",
       "      <td>6083.381061</td>\n",
       "      <td>5423.679824</td>\n",
       "      <td>14597.672753</td>\n",
       "    </tr>\n",
       "    <tr>\n",
       "      <th>std</th>\n",
       "      <td>487.868210</td>\n",
       "      <td>2755.563853</td>\n",
       "      <td>1145.616719</td>\n",
       "      <td>4043.795272</td>\n",
       "    </tr>\n",
       "    <tr>\n",
       "      <th>min</th>\n",
       "      <td>438.920000</td>\n",
       "      <td>1911.700000</td>\n",
       "      <td>2876.600000</td>\n",
       "      <td>7054.980000</td>\n",
       "    </tr>\n",
       "    <tr>\n",
       "      <th>25%</th>\n",
       "      <td>992.715221</td>\n",
       "      <td>4070.460000</td>\n",
       "      <td>4486.730000</td>\n",
       "      <td>10701.130000</td>\n",
       "    </tr>\n",
       "    <tr>\n",
       "      <th>50%</th>\n",
       "      <td>1233.761241</td>\n",
       "      <td>5774.260000</td>\n",
       "      <td>5663.300000</td>\n",
       "      <td>15030.510000</td>\n",
       "    </tr>\n",
       "    <tr>\n",
       "      <th>75%</th>\n",
       "      <td>1460.250000</td>\n",
       "      <td>7445.560000</td>\n",
       "      <td>6304.630175</td>\n",
       "      <td>17860.470000</td>\n",
       "    </tr>\n",
       "    <tr>\n",
       "      <th>max</th>\n",
       "      <td>2872.867839</td>\n",
       "      <td>13559.600000</td>\n",
       "      <td>7778.637689</td>\n",
       "      <td>24124.150000</td>\n",
       "    </tr>\n",
       "  </tbody>\n",
       "</table>\n",
       "</div>"
      ],
      "text/plain": [
       "               spx           dax         ftse        nikkei\n",
       "count  6277.000000   6277.000000  6277.000000   6277.000000\n",
       "mean   1288.642547   6083.381061  5423.679824  14597.672753\n",
       "std     487.868210   2755.563853  1145.616719   4043.795272\n",
       "min     438.920000   1911.700000  2876.600000   7054.980000\n",
       "25%     992.715221   4070.460000  4486.730000  10701.130000\n",
       "50%    1233.761241   5774.260000  5663.300000  15030.510000\n",
       "75%    1460.250000   7445.560000  6304.630175  17860.470000\n",
       "max    2872.867839  13559.600000  7778.637689  24124.150000"
      ]
     },
     "execution_count": 9,
     "metadata": {},
     "output_type": "execute_result"
    }
   ],
   "source": [
    "del df['marketing_price'] \n",
    "df.describe()"
   ]
  },
  {
   "cell_type": "markdown",
   "metadata": {},
   "source": [
    "## Splitting of Data"
   ]
  },
  {
   "cell_type": "code",
   "execution_count": 10,
   "metadata": {},
   "outputs": [
    {
     "name": "stdout",
     "output_type": "stream",
     "text": [
      "                    spx      dax     ftse    nikkei\n",
      "date                                               \n",
      "2013-04-08  1563.071269  7662.64  6276.94  13192.59\n",
      "2013-04-09  1568.607909  7637.51  6313.20  13192.35\n",
      "2013-04-10  1587.731827  7810.63  6387.37  13288.13\n",
      "2013-04-11  1593.369863  7871.63  6416.14  13549.16\n",
      "2013-04-12  1588.854623  7744.77  6384.39  13485.14\n"
     ]
    }
   ],
   "source": [
    "size = int(len(df)*0.8)\n",
    "df_test = df.iloc[size:]\n",
    "df_train = df.iloc[:size]\n",
    "print(df_test.head(5))"
   ]
  },
  {
   "cell_type": "code",
   "execution_count": 11,
   "metadata": {},
   "outputs": [
    {
     "name": "stdout",
     "output_type": "stream",
     "text": [
      "                    spx      dax     ftse    nikkei\n",
      "date                                               \n",
      "2013-04-01  1562.173837  7795.31  6411.74  12135.02\n",
      "2013-04-02  1570.252238  7943.87  6490.66  12003.43\n",
      "2013-04-03  1553.686978  7874.75  6420.28  12362.20\n",
      "2013-04-04  1559.979316  7817.39  6344.11  12634.54\n",
      "2013-04-05  1553.278930  7658.75  6249.77  12833.64\n"
     ]
    }
   ],
   "source": [
    "print(df_train.tail(5))"
   ]
  },
  {
   "cell_type": "markdown",
   "metadata": {},
   "source": [
    "No overlapping in our train and test sets"
   ]
  },
  {
   "cell_type": "markdown",
   "metadata": {},
   "source": [
    "# White Noise"
   ]
  },
  {
   "cell_type": "code",
   "execution_count": 12,
   "metadata": {},
   "outputs": [],
   "source": [
    "wn = np.random.normal(loc = df.spx.mean(), scale = df.spx.std(), size = len(df))"
   ]
  },
  {
   "cell_type": "code",
   "execution_count": 13,
   "metadata": {},
   "outputs": [],
   "source": [
    "df['wn'] = wn"
   ]
  },
  {
   "cell_type": "code",
   "execution_count": 14,
   "metadata": {},
   "outputs": [
    {
     "data": {
      "text/html": [
       "<div>\n",
       "<style scoped>\n",
       "    .dataframe tbody tr th:only-of-type {\n",
       "        vertical-align: middle;\n",
       "    }\n",
       "\n",
       "    .dataframe tbody tr th {\n",
       "        vertical-align: top;\n",
       "    }\n",
       "\n",
       "    .dataframe thead th {\n",
       "        text-align: right;\n",
       "    }\n",
       "</style>\n",
       "<table border=\"1\" class=\"dataframe\">\n",
       "  <thead>\n",
       "    <tr style=\"text-align: right;\">\n",
       "      <th></th>\n",
       "      <th>spx</th>\n",
       "      <th>dax</th>\n",
       "      <th>ftse</th>\n",
       "      <th>nikkei</th>\n",
       "      <th>wn</th>\n",
       "    </tr>\n",
       "  </thead>\n",
       "  <tbody>\n",
       "    <tr>\n",
       "      <th>count</th>\n",
       "      <td>6277.000000</td>\n",
       "      <td>6277.000000</td>\n",
       "      <td>6277.000000</td>\n",
       "      <td>6277.000000</td>\n",
       "      <td>6277.000000</td>\n",
       "    </tr>\n",
       "    <tr>\n",
       "      <th>mean</th>\n",
       "      <td>1288.642547</td>\n",
       "      <td>6083.381061</td>\n",
       "      <td>5423.679824</td>\n",
       "      <td>14597.672753</td>\n",
       "      <td>1290.136477</td>\n",
       "    </tr>\n",
       "    <tr>\n",
       "      <th>std</th>\n",
       "      <td>487.868210</td>\n",
       "      <td>2755.563853</td>\n",
       "      <td>1145.616719</td>\n",
       "      <td>4043.795272</td>\n",
       "      <td>489.475794</td>\n",
       "    </tr>\n",
       "    <tr>\n",
       "      <th>min</th>\n",
       "      <td>438.920000</td>\n",
       "      <td>1911.700000</td>\n",
       "      <td>2876.600000</td>\n",
       "      <td>7054.980000</td>\n",
       "      <td>-336.019729</td>\n",
       "    </tr>\n",
       "    <tr>\n",
       "      <th>25%</th>\n",
       "      <td>992.715221</td>\n",
       "      <td>4070.460000</td>\n",
       "      <td>4486.730000</td>\n",
       "      <td>10701.130000</td>\n",
       "      <td>956.036473</td>\n",
       "    </tr>\n",
       "    <tr>\n",
       "      <th>50%</th>\n",
       "      <td>1233.761241</td>\n",
       "      <td>5774.260000</td>\n",
       "      <td>5663.300000</td>\n",
       "      <td>15030.510000</td>\n",
       "      <td>1287.909089</td>\n",
       "    </tr>\n",
       "    <tr>\n",
       "      <th>75%</th>\n",
       "      <td>1460.250000</td>\n",
       "      <td>7445.560000</td>\n",
       "      <td>6304.630175</td>\n",
       "      <td>17860.470000</td>\n",
       "      <td>1617.742191</td>\n",
       "    </tr>\n",
       "    <tr>\n",
       "      <th>max</th>\n",
       "      <td>2872.867839</td>\n",
       "      <td>13559.600000</td>\n",
       "      <td>7778.637689</td>\n",
       "      <td>24124.150000</td>\n",
       "      <td>3358.538769</td>\n",
       "    </tr>\n",
       "  </tbody>\n",
       "</table>\n",
       "</div>"
      ],
      "text/plain": [
       "               spx           dax         ftse        nikkei           wn\n",
       "count  6277.000000   6277.000000  6277.000000   6277.000000  6277.000000\n",
       "mean   1288.642547   6083.381061  5423.679824  14597.672753  1290.136477\n",
       "std     487.868210   2755.563853  1145.616719   4043.795272   489.475794\n",
       "min     438.920000   1911.700000  2876.600000   7054.980000  -336.019729\n",
       "25%     992.715221   4070.460000  4486.730000  10701.130000   956.036473\n",
       "50%    1233.761241   5774.260000  5663.300000  15030.510000  1287.909089\n",
       "75%    1460.250000   7445.560000  6304.630175  17860.470000  1617.742191\n",
       "max    2872.867839  13559.600000  7778.637689  24124.150000  3358.538769"
      ]
     },
     "execution_count": 14,
     "metadata": {},
     "output_type": "execute_result"
    }
   ],
   "source": [
    "df.describe()"
   ]
  },
  {
   "cell_type": "code",
   "execution_count": 15,
   "metadata": {},
   "outputs": [
    {
     "data": {
      "image/png": "[encoded data removed]",
      "text/plain": [
       "<Figure size 1440x360 with 1 Axes>"
      ]
     },
     "metadata": {
      "needs_background": "light"
     },
     "output_type": "display_data"
    }
   ],
   "source": [
    "df.wn.plot(figsize = (20,5));\n",
    "plt.title('White Noise', size = 24);"
   ]
  },
  {
   "cell_type": "code",
   "execution_count": 16,
   "metadata": {},
   "outputs": [
    {
     "data": {
      "text/plain": [
       "(0, 2300)"
      ]
     },
     "execution_count": 16,
     "metadata": {},
     "output_type": "execute_result"
    },
    {
     "data": {
      "image/png": "[encoded data removed]",
      "text/plain": [
       "<Figure size 1440x360 with 1 Axes>"
      ]
     },
     "metadata": {
      "needs_background": "light"
     },
     "output_type": "display_data"
    }
   ],
   "source": [
    "df.spx.plot(figsize = (20,5));\n",
    "plt.title('S&P Prices', size = 24);\n",
    "plt.ylim(0,2300)"
   ]
  },
  {
   "cell_type": "code",
   "execution_count": 17,
   "metadata": {},
   "outputs": [
    {
     "data": {
      "text/plain": [
       "(0, 2300)"
      ]
     },
     "execution_count": 17,
     "metadata": {},
     "output_type": "execute_result"
    },
    {
     "data": {
      "image/png": "[encoded data removed]",
      "text/plain": [
       "<Figure size 1440x432 with 1 Axes>"
      ]
     },
     "metadata": {
      "needs_background": "light"
     },
     "output_type": "display_data"
    }
   ],
   "source": [
    "df.wn.plot(figsize = (20,6));\n",
    "plt.title('White Noise', size = 24);\n",
    "df.spx.plot(figsize = (20,6));\n",
    "plt.title('S&P Prices vs White Noise', size = 24);\n",
    "plt.ylim(0,2300)"
   ]
  },
  {
   "cell_type": "markdown",
   "metadata": {},
   "source": [
    "# Random walk"
   ]
  },
  {
   "cell_type": "code",
   "execution_count": 18,
   "metadata": {},
   "outputs": [
    {
     "data": {
      "image/png": "[encoded data removed]",
      "text/plain": [
       "<Figure size 432x288 with 1 Axes>"
      ]
     },
     "metadata": {
      "needs_background": "light"
     },
     "output_type": "display_data"
    }
   ],
   "source": [
    "from random import seed\n",
    "from random import random\n",
    "from matplotlib import pyplot\n",
    "seed(1)\n",
    "rw = list()\n",
    "rw.append(-1 if random() < 0.5 else 1)\n",
    "for i in range(1, len(df)):\n",
    "    movement = -1 if random() < 0.5 else 1\n",
    "    value = rw[i-1] + movement\n",
    "    rw.append(value)\n",
    "pyplot.plot(rw)\n",
    "pyplot.show()"
   ]
  },
  {
   "cell_type": "code",
   "execution_count": 19,
   "metadata": {},
   "outputs": [
    {
     "data": {
      "text/html": [
       "<div>\n",
       "<style scoped>\n",
       "    .dataframe tbody tr th:only-of-type {\n",
       "        vertical-align: middle;\n",
       "    }\n",
       "\n",
       "    .dataframe tbody tr th {\n",
       "        vertical-align: top;\n",
       "    }\n",
       "\n",
       "    .dataframe thead th {\n",
       "        text-align: right;\n",
       "    }\n",
       "</style>\n",
       "<table border=\"1\" class=\"dataframe\">\n",
       "  <thead>\n",
       "    <tr style=\"text-align: right;\">\n",
       "      <th></th>\n",
       "      <th>spx</th>\n",
       "      <th>dax</th>\n",
       "      <th>ftse</th>\n",
       "      <th>nikkei</th>\n",
       "      <th>wn</th>\n",
       "      <th>rw</th>\n",
       "    </tr>\n",
       "    <tr>\n",
       "      <th>date</th>\n",
       "      <th></th>\n",
       "      <th></th>\n",
       "      <th></th>\n",
       "      <th></th>\n",
       "      <th></th>\n",
       "      <th></th>\n",
       "    </tr>\n",
       "  </thead>\n",
       "  <tbody>\n",
       "    <tr>\n",
       "      <th>1994-01-07</th>\n",
       "      <td>469.90</td>\n",
       "      <td>2224.95</td>\n",
       "      <td>3445.98</td>\n",
       "      <td>18124.01</td>\n",
       "      <td>1097.327292</td>\n",
       "      <td>-1</td>\n",
       "    </tr>\n",
       "    <tr>\n",
       "      <th>1994-01-10</th>\n",
       "      <td>475.27</td>\n",
       "      <td>2225.00</td>\n",
       "      <td>3440.58</td>\n",
       "      <td>18443.44</td>\n",
       "      <td>1010.569799</td>\n",
       "      <td>0</td>\n",
       "    </tr>\n",
       "    <tr>\n",
       "      <th>1994-01-11</th>\n",
       "      <td>474.13</td>\n",
       "      <td>2228.10</td>\n",
       "      <td>3413.77</td>\n",
       "      <td>18485.25</td>\n",
       "      <td>1529.400336</td>\n",
       "      <td>1</td>\n",
       "    </tr>\n",
       "  </tbody>\n",
       "</table>\n",
       "</div>"
      ],
      "text/plain": [
       "               spx      dax     ftse    nikkei           wn  rw\n",
       "date                                                           \n",
       "1994-01-07  469.90  2224.95  3445.98  18124.01  1097.327292  -1\n",
       "1994-01-10  475.27  2225.00  3440.58  18443.44  1010.569799   0\n",
       "1994-01-11  474.13  2228.10  3413.77  18485.25  1529.400336   1"
      ]
     },
     "execution_count": 19,
     "metadata": {},
     "output_type": "execute_result"
    }
   ],
   "source": [
    "df['rw'] = rw\n",
    "df.head(3)"
   ]
  },
  {
   "cell_type": "markdown",
   "metadata": {},
   "source": [
    "## Dickey-Fuller test for stationarity"
   ]
  },
  {
   "cell_type": "code",
   "execution_count": 20,
   "metadata": {},
   "outputs": [],
   "source": [
    "# Dickey-Fuller test to test stationarity of a model\n",
    "# Ho: Model is non-stationary(phi<1)\n",
    "#H1: Model is stationary(phi=1)"
   ]
  },
  {
   "cell_type": "code",
   "execution_count": 21,
   "metadata": {},
   "outputs": [
    {
     "data": {
      "text/plain": [
       "(1.1194986381728387,\n",
       " 0.9953796476080692,\n",
       " 10,\n",
       " 6266,\n",
       " {'1%': -3.4313940441948807,\n",
       "  '5%': -2.8620013751563964,\n",
       "  '10%': -2.567015587023998},\n",
       " 50258.20986775002)"
      ]
     },
     "execution_count": 21,
     "metadata": {},
     "output_type": "execute_result"
    }
   ],
   "source": [
    "sts.adfuller(df.spx)"
   ]
  },
  {
   "cell_type": "code",
   "execution_count": 22,
   "metadata": {},
   "outputs": [
    {
     "data": {
      "text/plain": [
       "(-79.09173593109436,\n",
       " 0.0,\n",
       " 0,\n",
       " 6276,\n",
       " {'1%': -3.4313923799633836,\n",
       "  '5%': -2.862000639842268,\n",
       "  '10%': -2.567015195598801},\n",
       " 95046.7210653003)"
      ]
     },
     "execution_count": 22,
     "metadata": {},
     "output_type": "execute_result"
    }
   ],
   "source": [
    "sts.adfuller(df.wn)"
   ]
  },
  {
   "cell_type": "code",
   "execution_count": 23,
   "metadata": {},
   "outputs": [
    {
     "data": {
      "text/plain": [
       "(-2.0395750260620344,\n",
       " 0.2694948076126773,\n",
       " 0,\n",
       " 6276,\n",
       " {'1%': -3.4313923799633836,\n",
       "  '5%': -2.862000639842268,\n",
       "  '10%': -2.567015195598801},\n",
       " 17711.84039642805)"
      ]
     },
     "execution_count": 23,
     "metadata": {},
     "output_type": "execute_result"
    }
   ],
   "source": [
    "sts.adfuller(df.rw)"
   ]
  },
  {
   "cell_type": "markdown",
   "metadata": {},
   "source": [
    "## Seasonality"
   ]
  },
  {
   "cell_type": "code",
   "execution_count": 24,
   "metadata": {},
   "outputs": [
    {
     "data": {
      "image/png": "[encoded data removed]",
      "text/plain": [
       "<Figure size 432x288 with 4 Axes>"
      ]
     },
     "metadata": {
      "needs_background": "light"
     },
     "output_type": "display_data"
    }
   ],
   "source": [
    "df_ses_dec = seasonal_decompose(df.spx, model = \"additive\")\n",
    "df_ses_dec.plot()\n",
    "plt.show()"
   ]
  },
  {
   "cell_type": "code",
   "execution_count": 25,
   "metadata": {},
   "outputs": [
    {
     "data": {
      "image/png": "[encoded data removed]",
      "text/plain": [
       "<Figure size 432x288 with 4 Axes>"
      ]
     },
     "metadata": {
      "needs_background": "light"
     },
     "output_type": "display_data"
    }
   ],
   "source": [
    "df_mul_dec = seasonal_decompose(df.spx, model = \"multiplicative\")\n",
    "df_mul_dec.plot()\n",
    "plt.show()"
   ]
  },
  {
   "cell_type": "markdown",
   "metadata": {},
   "source": [
    "## ACF"
   ]
  },
  {
   "cell_type": "code",
   "execution_count": 26,
   "metadata": {},
   "outputs": [
    {
     "data": {
      "image/png": "[encoded data removed]",
      "text/plain": [
       "<Figure size 432x288 with 1 Axes>"
      ]
     },
     "metadata": {
      "needs_background": "light"
     },
     "output_type": "display_data"
    }
   ],
   "source": [
    "# For prices which are non-stationary\n",
    "sgt.plot_acf(df.spx, lags = 40, zero = False)\n",
    "plt.show()"
   ]
  },
  {
   "cell_type": "code",
   "execution_count": 27,
   "metadata": {},
   "outputs": [
    {
     "data": {
      "image/png": "[encoded data removed]",
      "text/plain": [
       "<Figure size 432x288 with 1 Axes>"
      ]
     },
     "metadata": {
      "needs_background": "light"
     },
     "output_type": "display_data"
    }
   ],
   "source": [
    "# For White Noise\n",
    "sgt.plot_acf(df.wn, lags = 40, zero = False)\n",
    "plt.show()"
   ]
  },
  {
   "cell_type": "code",
   "execution_count": 28,
   "metadata": {},
   "outputs": [
    {
     "data": {
      "image/png": "[encoded data removed]",
      "text/plain": [
       "<Figure size 432x288 with 1 Axes>"
      ]
     },
     "metadata": {
      "needs_background": "light"
     },
     "output_type": "display_data"
    }
   ],
   "source": [
    "# For random-walk\n",
    "sgt.plot_acf(df.rw, lags = 40, zero = False)\n",
    "plt.show()"
   ]
  },
  {
   "cell_type": "markdown",
   "metadata": {},
   "source": [
    "## PACF"
   ]
  },
  {
   "cell_type": "code",
   "execution_count": 29,
   "metadata": {},
   "outputs": [
    {
     "data": {
      "image/png": "[encoded data removed]",
      "text/plain": [
       "<Figure size 432x288 with 1 Axes>"
      ]
     },
     "metadata": {
      "needs_background": "light"
     },
     "output_type": "display_data"
    }
   ],
   "source": [
    "# For Prices\n",
    "sgt.plot_pacf(df.spx, lags = 40, zero = False, method = ('ols'))\n",
    "plt.show()"
   ]
  },
  {
   "cell_type": "code",
   "execution_count": 30,
   "metadata": {},
   "outputs": [
    {
     "data": {
      "image/png": "[encoded data removed]",
      "text/plain": [
       "<Figure size 432x288 with 1 Axes>"
      ]
     },
     "metadata": {
      "needs_background": "light"
     },
     "output_type": "display_data"
    }
   ],
   "source": [
    "# For White Noise\n",
    "sgt.plot_pacf(df.wn, lags = 40, zero = False, method = ('ols'))\n",
    "plt.show()"
   ]
  },
  {
   "cell_type": "code",
   "execution_count": 31,
   "metadata": {},
   "outputs": [
    {
     "data": {
      "image/png": "[encoded data removed]",
      "text/plain": [
       "<Figure size 432x288 with 1 Axes>"
      ]
     },
     "metadata": {
      "needs_background": "light"
     },
     "output_type": "display_data"
    }
   ],
   "source": [
    "# For Random Walk\n",
    "sgt.plot_pacf(df.rw, lags = 40, zero = False, method = ('ols'))\n",
    "plt.show()"
   ]
  },
  {
   "cell_type": "markdown",
   "metadata": {},
   "source": [
    "## Auto-Regressive Model of order 1"
   ]
  },
  {
   "cell_type": "code",
   "execution_count": 32,
   "metadata": {},
   "outputs": [
    {
     "data": {
      "text/html": [
       "<table class=\"simpletable\">\n",
       "<caption>ARMA Model Results</caption>\n",
       "<tr>\n",
       "  <th>Dep. Variable:</th>       <td>ftse</td>       <th>  No. Observations:  </th>    <td>6277</td>   \n",
       "</tr>\n",
       "<tr>\n",
       "  <th>Model:</th>            <td>ARMA(1, 0)</td>    <th>  Log Likelihood     </th> <td>-34438.109</td>\n",
       "</tr>\n",
       "<tr>\n",
       "  <th>Method:</th>             <td>css-mle</td>     <th>  S.D. of innovations</th>   <td>58.379</td>  \n",
       "</tr>\n",
       "<tr>\n",
       "  <th>Date:</th>          <td>Mon, 19 Oct 2020</td> <th>  AIC                </th>  <td>68882.219</td>\n",
       "</tr>\n",
       "<tr>\n",
       "  <th>Time:</th>              <td>10:58:53</td>     <th>  BIC                </th>  <td>68902.453</td>\n",
       "</tr>\n",
       "<tr>\n",
       "  <th>Sample:</th>           <td>01-07-1994</td>    <th>  HQIC               </th>  <td>68889.229</td>\n",
       "</tr>\n",
       "<tr>\n",
       "  <th></th>                 <td>- 01-29-2018</td>   <th>                     </th>      <td> </td>    \n",
       "</tr>\n",
       "</table>\n",
       "<table class=\"simpletable\">\n",
       "<tr>\n",
       "       <td></td>         <th>coef</th>     <th>std err</th>      <th>z</th>      <th>P>|z|</th>  <th>[0.025</th>    <th>0.975]</th>  \n",
       "</tr>\n",
       "<tr>\n",
       "  <th>const</th>      <td> 5819.5393</td> <td>  868.663</td> <td>    6.699</td> <td> 0.000</td> <td> 4116.990</td> <td> 7522.088</td>\n",
       "</tr>\n",
       "<tr>\n",
       "  <th>ar.L1.ftse</th> <td>    0.9991</td> <td>    0.001</td> <td> 1511.142</td> <td> 0.000</td> <td>    0.998</td> <td>    1.000</td>\n",
       "</tr>\n",
       "</table>\n",
       "<table class=\"simpletable\">\n",
       "<caption>Roots</caption>\n",
       "<tr>\n",
       "    <td></td>   <th>            Real</th>  <th>         Imaginary</th> <th>         Modulus</th>  <th>        Frequency</th>\n",
       "</tr>\n",
       "<tr>\n",
       "  <th>AR.1</th> <td>           1.0009</td> <td>          +0.0000j</td> <td>           1.0009</td> <td>           0.0000</td>\n",
       "</tr>\n",
       "</table>"
      ],
      "text/plain": [
       "<class 'statsmodels.iolib.summary.Summary'>\n",
       "\"\"\"\n",
       "                              ARMA Model Results                              \n",
       "==============================================================================\n",
       "Dep. Variable:                   ftse   No. Observations:                 6277\n",
       "Model:                     ARMA(1, 0)   Log Likelihood              -34438.109\n",
       "Method:                       css-mle   S.D. of innovations             58.379\n",
       "Date:                Mon, 19 Oct 2020   AIC                          68882.219\n",
       "Time:                        10:58:53   BIC                          68902.453\n",
       "Sample:                    01-07-1994   HQIC                         68889.229\n",
       "                         - 01-29-2018                                         \n",
       "==============================================================================\n",
       "                 coef    std err          z      P>|z|      [0.025      0.975]\n",
       "------------------------------------------------------------------------------\n",
       "const       5819.5393    868.663      6.699      0.000    4116.990    7522.088\n",
       "ar.L1.ftse     0.9991      0.001   1511.142      0.000       0.998       1.000\n",
       "                                    Roots                                    \n",
       "=============================================================================\n",
       "                  Real          Imaginary           Modulus         Frequency\n",
       "-----------------------------------------------------------------------------\n",
       "AR.1            1.0009           +0.0000j            1.0009            0.0000\n",
       "-----------------------------------------------------------------------------\n",
       "\"\"\""
      ]
     },
     "execution_count": 32,
     "metadata": {},
     "output_type": "execute_result"
    }
   ],
   "source": [
    "model_AR = ARMA(df.ftse, order = (1,0))\n",
    "results_ar = model_AR.fit()\n",
    "results_ar.summary()"
   ]
  },
  {
   "cell_type": "markdown",
   "metadata": {},
   "source": [
    "## Higher Order AR Models"
   ]
  },
  {
   "cell_type": "code",
   "execution_count": 33,
   "metadata": {},
   "outputs": [
    {
     "data": {
      "text/html": [
       "<table class=\"simpletable\">\n",
       "<caption>ARMA Model Results</caption>\n",
       "<tr>\n",
       "  <th>Dep. Variable:</th>       <td>ftse</td>       <th>  No. Observations:  </th>    <td>6277</td>   \n",
       "</tr>\n",
       "<tr>\n",
       "  <th>Model:</th>            <td>ARMA(2, 0)</td>    <th>  Log Likelihood     </th> <td>-34437.954</td>\n",
       "</tr>\n",
       "<tr>\n",
       "  <th>Method:</th>             <td>css-mle</td>     <th>  S.D. of innovations</th>   <td>58.377</td>  \n",
       "</tr>\n",
       "<tr>\n",
       "  <th>Date:</th>          <td>Mon, 19 Oct 2020</td> <th>  AIC                </th>  <td>68883.908</td>\n",
       "</tr>\n",
       "<tr>\n",
       "  <th>Time:</th>              <td>10:58:53</td>     <th>  BIC                </th>  <td>68910.887</td>\n",
       "</tr>\n",
       "<tr>\n",
       "  <th>Sample:</th>           <td>01-07-1994</td>    <th>  HQIC               </th>  <td>68893.256</td>\n",
       "</tr>\n",
       "<tr>\n",
       "  <th></th>                 <td>- 01-29-2018</td>   <th>                     </th>      <td> </td>    \n",
       "</tr>\n",
       "</table>\n",
       "<table class=\"simpletable\">\n",
       "<tr>\n",
       "       <td></td>         <th>coef</th>     <th>std err</th>      <th>z</th>      <th>P>|z|</th>  <th>[0.025</th>    <th>0.975]</th>  \n",
       "</tr>\n",
       "<tr>\n",
       "  <th>const</th>      <td> 5926.2723</td> <td> 1059.369</td> <td>    5.594</td> <td> 0.000</td> <td> 3849.947</td> <td> 8002.597</td>\n",
       "</tr>\n",
       "<tr>\n",
       "  <th>ar.L1.ftse</th> <td>    0.9905</td> <td>    0.013</td> <td>   78.970</td> <td> 0.000</td> <td>    0.966</td> <td>    1.015</td>\n",
       "</tr>\n",
       "<tr>\n",
       "  <th>ar.L2.ftse</th> <td>    0.0087</td> <td>    0.013</td> <td>    0.692</td> <td> 0.489</td> <td>   -0.016</td> <td>    0.033</td>\n",
       "</tr>\n",
       "</table>\n",
       "<table class=\"simpletable\">\n",
       "<caption>Roots</caption>\n",
       "<tr>\n",
       "    <td></td>   <th>            Real</th>  <th>         Imaginary</th> <th>         Modulus</th>  <th>        Frequency</th>\n",
       "</tr>\n",
       "<tr>\n",
       "  <th>AR.1</th> <td>           1.0008</td> <td>          +0.0000j</td> <td>           1.0008</td> <td>           0.0000</td>\n",
       "</tr>\n",
       "<tr>\n",
       "  <th>AR.2</th> <td>        -115.0823</td> <td>          +0.0000j</td> <td>         115.0823</td> <td>           0.5000</td>\n",
       "</tr>\n",
       "</table>"
      ],
      "text/plain": [
       "<class 'statsmodels.iolib.summary.Summary'>\n",
       "\"\"\"\n",
       "                              ARMA Model Results                              \n",
       "==============================================================================\n",
       "Dep. Variable:                   ftse   No. Observations:                 6277\n",
       "Model:                     ARMA(2, 0)   Log Likelihood              -34437.954\n",
       "Method:                       css-mle   S.D. of innovations             58.377\n",
       "Date:                Mon, 19 Oct 2020   AIC                          68883.908\n",
       "Time:                        10:58:53   BIC                          68910.887\n",
       "Sample:                    01-07-1994   HQIC                         68893.256\n",
       "                         - 01-29-2018                                         \n",
       "==============================================================================\n",
       "                 coef    std err          z      P>|z|      [0.025      0.975]\n",
       "------------------------------------------------------------------------------\n",
       "const       5926.2723   1059.369      5.594      0.000    3849.947    8002.597\n",
       "ar.L1.ftse     0.9905      0.013     78.970      0.000       0.966       1.015\n",
       "ar.L2.ftse     0.0087      0.013      0.692      0.489      -0.016       0.033\n",
       "                                    Roots                                    \n",
       "=============================================================================\n",
       "                  Real          Imaginary           Modulus         Frequency\n",
       "-----------------------------------------------------------------------------\n",
       "AR.1            1.0008           +0.0000j            1.0008            0.0000\n",
       "AR.2         -115.0823           +0.0000j          115.0823            0.5000\n",
       "-----------------------------------------------------------------------------\n",
       "\"\"\""
      ]
     },
     "execution_count": 33,
     "metadata": {},
     "output_type": "execute_result"
    }
   ],
   "source": [
    "model_AR2 = ARMA(df.ftse, order = (2,0))\n",
    "results_ar2 = model_AR2.fit()\n",
    "results_ar2.summary()"
   ]
  },
  {
   "cell_type": "code",
   "execution_count": 34,
   "metadata": {},
   "outputs": [
    {
     "data": {
      "text/html": [
       "<table class=\"simpletable\">\n",
       "<caption>ARMA Model Results</caption>\n",
       "<tr>\n",
       "  <th>Dep. Variable:</th>       <td>ftse</td>       <th>  No. Observations:  </th>    <td>6277</td>   \n",
       "</tr>\n",
       "<tr>\n",
       "  <th>Model:</th>            <td>ARMA(3, 0)</td>    <th>  Log Likelihood     </th> <td>-34430.900</td>\n",
       "</tr>\n",
       "<tr>\n",
       "  <th>Method:</th>             <td>css-mle</td>     <th>  S.D. of innovations</th>   <td>58.312</td>  \n",
       "</tr>\n",
       "<tr>\n",
       "  <th>Date:</th>          <td>Mon, 19 Oct 2020</td> <th>  AIC                </th>  <td>68871.801</td>\n",
       "</tr>\n",
       "<tr>\n",
       "  <th>Time:</th>              <td>10:58:54</td>     <th>  BIC                </th>  <td>68905.524</td>\n",
       "</tr>\n",
       "<tr>\n",
       "  <th>Sample:</th>           <td>01-07-1994</td>    <th>  HQIC               </th>  <td>68883.485</td>\n",
       "</tr>\n",
       "<tr>\n",
       "  <th></th>                 <td>- 01-29-2018</td>   <th>                     </th>      <td> </td>    \n",
       "</tr>\n",
       "</table>\n",
       "<table class=\"simpletable\">\n",
       "<tr>\n",
       "       <td></td>         <th>coef</th>     <th>std err</th>      <th>z</th>      <th>P>|z|</th>  <th>[0.025</th>    <th>0.975]</th>  \n",
       "</tr>\n",
       "<tr>\n",
       "  <th>const</th>      <td> 5838.3619</td> <td>  945.636</td> <td>    6.174</td> <td> 0.000</td> <td> 3984.950</td> <td> 7691.774</td>\n",
       "</tr>\n",
       "<tr>\n",
       "  <th>ar.L1.ftse</th> <td>    0.9901</td> <td>    0.013</td> <td>   79.076</td> <td> 0.000</td> <td>    0.966</td> <td>    1.015</td>\n",
       "</tr>\n",
       "<tr>\n",
       "  <th>ar.L2.ftse</th> <td>   -0.0380</td> <td>    0.018</td> <td>   -2.151</td> <td> 0.031</td> <td>   -0.073</td> <td>   -0.003</td>\n",
       "</tr>\n",
       "<tr>\n",
       "  <th>ar.L3.ftse</th> <td>    0.0472</td> <td>    0.013</td> <td>    3.740</td> <td> 0.000</td> <td>    0.022</td> <td>    0.072</td>\n",
       "</tr>\n",
       "</table>\n",
       "<table class=\"simpletable\">\n",
       "<caption>Roots</caption>\n",
       "<tr>\n",
       "    <td></td>   <th>            Real</th>  <th>         Imaginary</th> <th>         Modulus</th>  <th>        Frequency</th>\n",
       "</tr>\n",
       "<tr>\n",
       "  <th>AR.1</th> <td>           1.0008</td> <td>          -0.0000j</td> <td>           1.0008</td> <td>          -0.0000</td>\n",
       "</tr>\n",
       "<tr>\n",
       "  <th>AR.2</th> <td>          -0.0972</td> <td>          -4.6016j</td> <td>           4.6026</td> <td>          -0.2534</td>\n",
       "</tr>\n",
       "<tr>\n",
       "  <th>AR.3</th> <td>          -0.0972</td> <td>          +4.6016j</td> <td>           4.6026</td> <td>           0.2534</td>\n",
       "</tr>\n",
       "</table>"
      ],
      "text/plain": [
       "<class 'statsmodels.iolib.summary.Summary'>\n",
       "\"\"\"\n",
       "                              ARMA Model Results                              \n",
       "==============================================================================\n",
       "Dep. Variable:                   ftse   No. Observations:                 6277\n",
       "Model:                     ARMA(3, 0)   Log Likelihood              -34430.900\n",
       "Method:                       css-mle   S.D. of innovations             58.312\n",
       "Date:                Mon, 19 Oct 2020   AIC                          68871.801\n",
       "Time:                        10:58:54   BIC                          68905.524\n",
       "Sample:                    01-07-1994   HQIC                         68883.485\n",
       "                         - 01-29-2018                                         \n",
       "==============================================================================\n",
       "                 coef    std err          z      P>|z|      [0.025      0.975]\n",
       "------------------------------------------------------------------------------\n",
       "const       5838.3619    945.636      6.174      0.000    3984.950    7691.774\n",
       "ar.L1.ftse     0.9901      0.013     79.076      0.000       0.966       1.015\n",
       "ar.L2.ftse    -0.0380      0.018     -2.151      0.031      -0.073      -0.003\n",
       "ar.L3.ftse     0.0472      0.013      3.740      0.000       0.022       0.072\n",
       "                                    Roots                                    \n",
       "=============================================================================\n",
       "                  Real          Imaginary           Modulus         Frequency\n",
       "-----------------------------------------------------------------------------\n",
       "AR.1            1.0008           -0.0000j            1.0008           -0.0000\n",
       "AR.2           -0.0972           -4.6016j            4.6026           -0.2534\n",
       "AR.3           -0.0972           +4.6016j            4.6026            0.2534\n",
       "-----------------------------------------------------------------------------\n",
       "\"\"\""
      ]
     },
     "execution_count": 34,
     "metadata": {},
     "output_type": "execute_result"
    }
   ],
   "source": [
    "model_AR3 = ARMA(df.ftse, order = (3,0))\n",
    "results_ar3 = model_AR3.fit()\n",
    "results_ar3.summary()"
   ]
  },
  {
   "cell_type": "code",
   "execution_count": 35,
   "metadata": {},
   "outputs": [
    {
     "data": {
      "text/html": [
       "<table class=\"simpletable\">\n",
       "<caption>ARMA Model Results</caption>\n",
       "<tr>\n",
       "  <th>Dep. Variable:</th>       <td>ftse</td>       <th>  No. Observations:  </th>    <td>6277</td>   \n",
       "</tr>\n",
       "<tr>\n",
       "  <th>Model:</th>            <td>ARMA(4, 0)</td>    <th>  Log Likelihood     </th> <td>-34421.635</td>\n",
       "</tr>\n",
       "<tr>\n",
       "  <th>Method:</th>             <td>css-mle</td>     <th>  S.D. of innovations</th>   <td>58.226</td>  \n",
       "</tr>\n",
       "<tr>\n",
       "  <th>Date:</th>          <td>Mon, 19 Oct 2020</td> <th>  AIC                </th>  <td>68855.270</td>\n",
       "</tr>\n",
       "<tr>\n",
       "  <th>Time:</th>              <td>10:58:55</td>     <th>  BIC                </th>  <td>68895.738</td>\n",
       "</tr>\n",
       "<tr>\n",
       "  <th>Sample:</th>           <td>01-07-1994</td>    <th>  HQIC               </th>  <td>68869.291</td>\n",
       "</tr>\n",
       "<tr>\n",
       "  <th></th>                 <td>- 01-29-2018</td>   <th>                     </th>      <td> </td>    \n",
       "</tr>\n",
       "</table>\n",
       "<table class=\"simpletable\">\n",
       "<tr>\n",
       "       <td></td>         <th>coef</th>     <th>std err</th>      <th>z</th>      <th>P>|z|</th>  <th>[0.025</th>    <th>0.975]</th>  \n",
       "</tr>\n",
       "<tr>\n",
       "  <th>const</th>      <td> 5423.6800</td> <td>  757.467</td> <td>    7.160</td> <td> 0.000</td> <td> 3939.073</td> <td> 6908.287</td>\n",
       "</tr>\n",
       "<tr>\n",
       "  <th>ar.L1.ftse</th> <td>    0.9875</td> <td>    0.013</td> <td>   78.870</td> <td> 0.000</td> <td>    0.963</td> <td>    1.012</td>\n",
       "</tr>\n",
       "<tr>\n",
       "  <th>ar.L2.ftse</th> <td>   -0.0360</td> <td>    0.018</td> <td>   -2.037</td> <td> 0.042</td> <td>   -0.071</td> <td>   -0.001</td>\n",
       "</tr>\n",
       "<tr>\n",
       "  <th>ar.L3.ftse</th> <td>   -0.0062</td> <td>    0.018</td> <td>   -0.353</td> <td> 0.724</td> <td>   -0.041</td> <td>    0.028</td>\n",
       "</tr>\n",
       "<tr>\n",
       "  <th>ar.L4.ftse</th> <td>    0.0539</td> <td>    0.013</td> <td>    4.278</td> <td> 0.000</td> <td>    0.029</td> <td>    0.079</td>\n",
       "</tr>\n",
       "</table>\n",
       "<table class=\"simpletable\">\n",
       "<caption>Roots</caption>\n",
       "<tr>\n",
       "    <td></td>   <th>            Real</th>  <th>         Imaginary</th> <th>         Modulus</th>  <th>        Frequency</th>\n",
       "</tr>\n",
       "<tr>\n",
       "  <th>AR.1</th> <td>           1.0007</td> <td>          -0.0000j</td> <td>           1.0007</td> <td>          -0.0000</td>\n",
       "</tr>\n",
       "<tr>\n",
       "  <th>AR.2</th> <td>           1.0305</td> <td>          -2.2864j</td> <td>           2.5079</td> <td>          -0.1826</td>\n",
       "</tr>\n",
       "<tr>\n",
       "  <th>AR.3</th> <td>           1.0305</td> <td>          +2.2864j</td> <td>           2.5079</td> <td>           0.1826</td>\n",
       "</tr>\n",
       "<tr>\n",
       "  <th>AR.4</th> <td>          -2.9459</td> <td>          -0.0000j</td> <td>           2.9459</td> <td>          -0.5000</td>\n",
       "</tr>\n",
       "</table>"
      ],
      "text/plain": [
       "<class 'statsmodels.iolib.summary.Summary'>\n",
       "\"\"\"\n",
       "                              ARMA Model Results                              \n",
       "==============================================================================\n",
       "Dep. Variable:                   ftse   No. Observations:                 6277\n",
       "Model:                     ARMA(4, 0)   Log Likelihood              -34421.635\n",
       "Method:                       css-mle   S.D. of innovations             58.226\n",
       "Date:                Mon, 19 Oct 2020   AIC                          68855.270\n",
       "Time:                        10:58:55   BIC                          68895.738\n",
       "Sample:                    01-07-1994   HQIC                         68869.291\n",
       "                         - 01-29-2018                                         \n",
       "==============================================================================\n",
       "                 coef    std err          z      P>|z|      [0.025      0.975]\n",
       "------------------------------------------------------------------------------\n",
       "const       5423.6800    757.467      7.160      0.000    3939.073    6908.287\n",
       "ar.L1.ftse     0.9875      0.013     78.870      0.000       0.963       1.012\n",
       "ar.L2.ftse    -0.0360      0.018     -2.037      0.042      -0.071      -0.001\n",
       "ar.L3.ftse    -0.0062      0.018     -0.353      0.724      -0.041       0.028\n",
       "ar.L4.ftse     0.0539      0.013      4.278      0.000       0.029       0.079\n",
       "                                    Roots                                    \n",
       "=============================================================================\n",
       "                  Real          Imaginary           Modulus         Frequency\n",
       "-----------------------------------------------------------------------------\n",
       "AR.1            1.0007           -0.0000j            1.0007           -0.0000\n",
       "AR.2            1.0305           -2.2864j            2.5079           -0.1826\n",
       "AR.3            1.0305           +2.2864j            2.5079            0.1826\n",
       "AR.4           -2.9459           -0.0000j            2.9459           -0.5000\n",
       "-----------------------------------------------------------------------------\n",
       "\"\"\""
      ]
     },
     "execution_count": 35,
     "metadata": {},
     "output_type": "execute_result"
    }
   ],
   "source": [
    "model_AR4 = ARMA(df.ftse, order = (4,0))\n",
    "results_ar4 = model_AR4.fit()\n",
    "results_ar4.summary()"
   ]
  },
  {
   "cell_type": "markdown",
   "metadata": {},
   "source": [
    "## LLR Test"
   ]
  },
  {
   "cell_type": "code",
   "execution_count": 36,
   "metadata": {},
   "outputs": [],
   "source": [
    "def LLR_test(mod_1, mod_2, DF=1):\n",
    "    L1 = mod_1.fit().llf\n",
    "    L2 = mod_2.fit().llf\n",
    "    LR = (2*(L2-L1))\n",
    "    p = chi2.sf(LR, DF).round(3)\n",
    "    return p"
   ]
  },
  {
   "cell_type": "code",
   "execution_count": 37,
   "metadata": {},
   "outputs": [
    {
     "data": {
      "text/plain": [
       "0.577"
      ]
     },
     "execution_count": 37,
     "metadata": {},
     "output_type": "execute_result"
    }
   ],
   "source": [
    "LLR_test(model_AR, model_AR2)"
   ]
  },
  {
   "cell_type": "code",
   "execution_count": 38,
   "metadata": {},
   "outputs": [
    {
     "data": {
      "text/plain": [
       "0.0"
      ]
     },
     "execution_count": 38,
     "metadata": {},
     "output_type": "execute_result"
    }
   ],
   "source": [
    "LLR_test(model_AR2, model_AR3)"
   ]
  },
  {
   "cell_type": "code",
   "execution_count": 39,
   "metadata": {},
   "outputs": [
    {
     "data": {
      "text/plain": [
       "0.0"
      ]
     },
     "execution_count": 39,
     "metadata": {},
     "output_type": "execute_result"
    }
   ],
   "source": [
    "LLR_test(model_AR3, model_AR4)"
   ]
  },
  {
   "cell_type": "markdown",
   "metadata": {},
   "source": [
    "## Testing for Net returns"
   ]
  },
  {
   "cell_type": "code",
   "execution_count": 40,
   "metadata": {},
   "outputs": [],
   "source": [
    "df['returns'] = df.ftse.pct_change(1).mul(100)"
   ]
  },
  {
   "cell_type": "code",
   "execution_count": 41,
   "metadata": {},
   "outputs": [],
   "source": [
    "df = df.iloc[1:]"
   ]
  },
  {
   "cell_type": "code",
   "execution_count": 42,
   "metadata": {},
   "outputs": [
    {
     "data": {
      "text/plain": [
       "(-15.140761332034858,\n",
       " 7.0163384510928e-28,\n",
       " 34,\n",
       " 6241,\n",
       " {'1%': -3.431398228116075,\n",
       "  '5%': -2.8620032237533897,\n",
       "  '10%': -2.5670165710764503},\n",
       " 19026.504469066465)"
      ]
     },
     "execution_count": 42,
     "metadata": {},
     "output_type": "execute_result"
    }
   ],
   "source": [
    "sts.adfuller(df.returns)"
   ]
  },
  {
   "cell_type": "markdown",
   "metadata": {},
   "source": [
    "Stationary data"
   ]
  },
  {
   "cell_type": "code",
   "execution_count": 43,
   "metadata": {},
   "outputs": [
    {
     "data": {
      "image/png": "[encoded data removed]",
      "text/plain": [
       "<Figure size 432x288 with 1 Axes>"
      ]
     },
     "metadata": {
      "needs_background": "light"
     },
     "output_type": "display_data"
    }
   ],
   "source": [
    "sgt.plot_acf(df.returns, lags = 40, zero = False)\n",
    "plt.show()"
   ]
  },
  {
   "cell_type": "code",
   "execution_count": 44,
   "metadata": {},
   "outputs": [
    {
     "data": {
      "image/png": "[encoded data removed]",
      "text/plain": [
       "<Figure size 432x288 with 1 Axes>"
      ]
     },
     "metadata": {
      "needs_background": "light"
     },
     "output_type": "display_data"
    }
   ],
   "source": [
    "sgt.plot_pacf(df.returns, lags = 40, zero = False)\n",
    "plt.show()"
   ]
  },
  {
   "cell_type": "markdown",
   "metadata": {},
   "source": [
    "# AR(1) for Returns"
   ]
  },
  {
   "cell_type": "code",
   "execution_count": 45,
   "metadata": {},
   "outputs": [],
   "source": [
    "model_ret_ar1 = ARMA(df.returns, order = (1,0))\n",
    "\n",
    "results = model_ret_ar1.fit()"
   ]
  },
  {
   "cell_type": "code",
   "execution_count": 46,
   "metadata": {},
   "outputs": [
    {
     "data": {
      "text/html": [
       "<table class=\"simpletable\">\n",
       "<caption>ARMA Model Results</caption>\n",
       "<tr>\n",
       "  <th>Dep. Variable:</th>      <td>returns</td>     <th>  No. Observations:  </th>   <td>6276</td>   \n",
       "</tr>\n",
       "<tr>\n",
       "  <th>Model:</th>            <td>ARMA(1, 0)</td>    <th>  Log Likelihood     </th> <td>-9597.705</td>\n",
       "</tr>\n",
       "<tr>\n",
       "  <th>Method:</th>             <td>css-mle</td>     <th>  S.D. of innovations</th>   <td>1.117</td>  \n",
       "</tr>\n",
       "<tr>\n",
       "  <th>Date:</th>          <td>Mon, 19 Oct 2020</td> <th>  AIC                </th> <td>19201.409</td>\n",
       "</tr>\n",
       "<tr>\n",
       "  <th>Time:</th>              <td>10:58:58</td>     <th>  BIC                </th> <td>19221.643</td>\n",
       "</tr>\n",
       "<tr>\n",
       "  <th>Sample:</th>           <td>01-10-1994</td>    <th>  HQIC               </th> <td>19208.420</td>\n",
       "</tr>\n",
       "<tr>\n",
       "  <th></th>                 <td>- 01-29-2018</td>   <th>                     </th>     <td> </td>    \n",
       "</tr>\n",
       "</table>\n",
       "<table class=\"simpletable\">\n",
       "<tr>\n",
       "        <td></td>           <th>coef</th>     <th>std err</th>      <th>z</th>      <th>P>|z|</th>  <th>[0.025</th>    <th>0.975]</th>  \n",
       "</tr>\n",
       "<tr>\n",
       "  <th>const</th>         <td>    0.0190</td> <td>    0.014</td> <td>    1.371</td> <td> 0.170</td> <td>   -0.008</td> <td>    0.046</td>\n",
       "</tr>\n",
       "<tr>\n",
       "  <th>ar.L1.returns</th> <td>   -0.0176</td> <td>    0.013</td> <td>   -1.394</td> <td> 0.163</td> <td>   -0.042</td> <td>    0.007</td>\n",
       "</tr>\n",
       "</table>\n",
       "<table class=\"simpletable\">\n",
       "<caption>Roots</caption>\n",
       "<tr>\n",
       "    <td></td>   <th>            Real</th>  <th>         Imaginary</th> <th>         Modulus</th>  <th>        Frequency</th>\n",
       "</tr>\n",
       "<tr>\n",
       "  <th>AR.1</th> <td>         -56.8442</td> <td>          +0.0000j</td> <td>          56.8442</td> <td>           0.5000</td>\n",
       "</tr>\n",
       "</table>"
      ],
      "text/plain": [
       "<class 'statsmodels.iolib.summary.Summary'>\n",
       "\"\"\"\n",
       "                              ARMA Model Results                              \n",
       "==============================================================================\n",
       "Dep. Variable:                returns   No. Observations:                 6276\n",
       "Model:                     ARMA(1, 0)   Log Likelihood               -9597.705\n",
       "Method:                       css-mle   S.D. of innovations              1.117\n",
       "Date:                Mon, 19 Oct 2020   AIC                          19201.409\n",
       "Time:                        10:58:58   BIC                          19221.643\n",
       "Sample:                    01-10-1994   HQIC                         19208.420\n",
       "                         - 01-29-2018                                         \n",
       "=================================================================================\n",
       "                    coef    std err          z      P>|z|      [0.025      0.975]\n",
       "---------------------------------------------------------------------------------\n",
       "const             0.0190      0.014      1.371      0.170      -0.008       0.046\n",
       "ar.L1.returns    -0.0176      0.013     -1.394      0.163      -0.042       0.007\n",
       "                                    Roots                                    \n",
       "=============================================================================\n",
       "                  Real          Imaginary           Modulus         Frequency\n",
       "-----------------------------------------------------------------------------\n",
       "AR.1          -56.8442           +0.0000j           56.8442            0.5000\n",
       "-----------------------------------------------------------------------------\n",
       "\"\"\""
      ]
     },
     "execution_count": 46,
     "metadata": {},
     "output_type": "execute_result"
    }
   ],
   "source": [
    "results.summary()"
   ]
  },
  {
   "cell_type": "markdown",
   "metadata": {},
   "source": [
    "Here pval are greater than 0.05 hence both the parameters are insignificant"
   ]
  },
  {
   "cell_type": "markdown",
   "metadata": {},
   "source": [
    "## Higher Lag AR Model for returns"
   ]
  },
  {
   "cell_type": "code",
   "execution_count": 47,
   "metadata": {},
   "outputs": [
    {
     "data": {
      "text/html": [
       "<table class=\"simpletable\">\n",
       "<caption>ARMA Model Results</caption>\n",
       "<tr>\n",
       "  <th>Dep. Variable:</th>      <td>returns</td>     <th>  No. Observations:  </th>   <td>6276</td>   \n",
       "</tr>\n",
       "<tr>\n",
       "  <th>Model:</th>            <td>ARMA(2, 0)</td>    <th>  Log Likelihood     </th> <td>-9590.309</td>\n",
       "</tr>\n",
       "<tr>\n",
       "  <th>Method:</th>             <td>css-mle</td>     <th>  S.D. of innovations</th>   <td>1.115</td>  \n",
       "</tr>\n",
       "<tr>\n",
       "  <th>Date:</th>          <td>Mon, 19 Oct 2020</td> <th>  AIC                </th> <td>19188.618</td>\n",
       "</tr>\n",
       "<tr>\n",
       "  <th>Time:</th>              <td>10:58:58</td>     <th>  BIC                </th> <td>19215.596</td>\n",
       "</tr>\n",
       "<tr>\n",
       "  <th>Sample:</th>           <td>01-10-1994</td>    <th>  HQIC               </th> <td>19197.966</td>\n",
       "</tr>\n",
       "<tr>\n",
       "  <th></th>                 <td>- 01-29-2018</td>   <th>                     </th>     <td> </td>    \n",
       "</tr>\n",
       "</table>\n",
       "<table class=\"simpletable\">\n",
       "<tr>\n",
       "        <td></td>           <th>coef</th>     <th>std err</th>      <th>z</th>      <th>P>|z|</th>  <th>[0.025</th>    <th>0.975]</th>  \n",
       "</tr>\n",
       "<tr>\n",
       "  <th>const</th>         <td>    0.0190</td> <td>    0.013</td> <td>    1.440</td> <td> 0.150</td> <td>   -0.007</td> <td>    0.045</td>\n",
       "</tr>\n",
       "<tr>\n",
       "  <th>ar.L1.returns</th> <td>   -0.0184</td> <td>    0.013</td> <td>   -1.463</td> <td> 0.143</td> <td>   -0.043</td> <td>    0.006</td>\n",
       "</tr>\n",
       "<tr>\n",
       "  <th>ar.L2.returns</th> <td>   -0.0485</td> <td>    0.013</td> <td>   -3.848</td> <td> 0.000</td> <td>   -0.073</td> <td>   -0.024</td>\n",
       "</tr>\n",
       "</table>\n",
       "<table class=\"simpletable\">\n",
       "<caption>Roots</caption>\n",
       "<tr>\n",
       "    <td></td>   <th>            Real</th>  <th>         Imaginary</th> <th>         Modulus</th>  <th>        Frequency</th>\n",
       "</tr>\n",
       "<tr>\n",
       "  <th>AR.1</th> <td>          -0.1901</td> <td>          -4.5361j</td> <td>           4.5401</td> <td>          -0.2567</td>\n",
       "</tr>\n",
       "<tr>\n",
       "  <th>AR.2</th> <td>          -0.1901</td> <td>          +4.5361j</td> <td>           4.5401</td> <td>           0.2567</td>\n",
       "</tr>\n",
       "</table>"
      ],
      "text/plain": [
       "<class 'statsmodels.iolib.summary.Summary'>\n",
       "\"\"\"\n",
       "                              ARMA Model Results                              \n",
       "==============================================================================\n",
       "Dep. Variable:                returns   No. Observations:                 6276\n",
       "Model:                     ARMA(2, 0)   Log Likelihood               -9590.309\n",
       "Method:                       css-mle   S.D. of innovations              1.115\n",
       "Date:                Mon, 19 Oct 2020   AIC                          19188.618\n",
       "Time:                        10:58:58   BIC                          19215.596\n",
       "Sample:                    01-10-1994   HQIC                         19197.966\n",
       "                         - 01-29-2018                                         \n",
       "=================================================================================\n",
       "                    coef    std err          z      P>|z|      [0.025      0.975]\n",
       "---------------------------------------------------------------------------------\n",
       "const             0.0190      0.013      1.440      0.150      -0.007       0.045\n",
       "ar.L1.returns    -0.0184      0.013     -1.463      0.143      -0.043       0.006\n",
       "ar.L2.returns    -0.0485      0.013     -3.848      0.000      -0.073      -0.024\n",
       "                                    Roots                                    \n",
       "=============================================================================\n",
       "                  Real          Imaginary           Modulus         Frequency\n",
       "-----------------------------------------------------------------------------\n",
       "AR.1           -0.1901           -4.5361j            4.5401           -0.2567\n",
       "AR.2           -0.1901           +4.5361j            4.5401            0.2567\n",
       "-----------------------------------------------------------------------------\n",
       "\"\"\""
      ]
     },
     "execution_count": 47,
     "metadata": {},
     "output_type": "execute_result"
    }
   ],
   "source": [
    "model_ret_ar2 = ARMA(df.returns, order = (2,0))\n",
    "results2 = model_ret_ar2.fit()\n",
    "results2.summary()"
   ]
  },
  {
   "cell_type": "markdown",
   "metadata": {},
   "source": [
    "Here we can see pval or phi2 is zero that means phi2 is significant and hence need to be included in the model.\n",
    "Also the decreased val of information criterion implies that AR2 is better than AR1."
   ]
  },
  {
   "cell_type": "code",
   "execution_count": 48,
   "metadata": {},
   "outputs": [
    {
     "data": {
      "text/plain": [
       "0.0"
      ]
     },
     "execution_count": 48,
     "metadata": {},
     "output_type": "execute_result"
    }
   ],
   "source": [
    "LLR_test(model_ret_ar1, model_ret_ar2)"
   ]
  },
  {
   "cell_type": "code",
   "execution_count": 49,
   "metadata": {},
   "outputs": [
    {
     "data": {
      "text/html": [
       "<table class=\"simpletable\">\n",
       "<caption>ARMA Model Results</caption>\n",
       "<tr>\n",
       "  <th>Dep. Variable:</th>      <td>returns</td>     <th>  No. Observations:  </th>   <td>6276</td>   \n",
       "</tr>\n",
       "<tr>\n",
       "  <th>Model:</th>            <td>ARMA(3, 0)</td>    <th>  Log Likelihood     </th> <td>-9575.951</td>\n",
       "</tr>\n",
       "<tr>\n",
       "  <th>Method:</th>             <td>css-mle</td>     <th>  S.D. of innovations</th>   <td>1.113</td>  \n",
       "</tr>\n",
       "<tr>\n",
       "  <th>Date:</th>          <td>Mon, 19 Oct 2020</td> <th>  AIC                </th> <td>19161.902</td>\n",
       "</tr>\n",
       "<tr>\n",
       "  <th>Time:</th>              <td>10:58:59</td>     <th>  BIC                </th> <td>19195.624</td>\n",
       "</tr>\n",
       "<tr>\n",
       "  <th>Sample:</th>           <td>01-10-1994</td>    <th>  HQIC               </th> <td>19173.586</td>\n",
       "</tr>\n",
       "<tr>\n",
       "  <th></th>                 <td>- 01-29-2018</td>   <th>                     </th>     <td> </td>    \n",
       "</tr>\n",
       "</table>\n",
       "<table class=\"simpletable\">\n",
       "<tr>\n",
       "        <td></td>           <th>coef</th>     <th>std err</th>      <th>z</th>      <th>P>|z|</th>  <th>[0.025</th>    <th>0.975]</th>  \n",
       "</tr>\n",
       "<tr>\n",
       "  <th>const</th>         <td>    0.0190</td> <td>    0.012</td> <td>    1.542</td> <td> 0.123</td> <td>   -0.005</td> <td>    0.043</td>\n",
       "</tr>\n",
       "<tr>\n",
       "  <th>ar.L1.returns</th> <td>   -0.0217</td> <td>    0.013</td> <td>   -1.725</td> <td> 0.084</td> <td>   -0.046</td> <td>    0.003</td>\n",
       "</tr>\n",
       "<tr>\n",
       "  <th>ar.L2.returns</th> <td>   -0.0498</td> <td>    0.013</td> <td>   -3.956</td> <td> 0.000</td> <td>   -0.074</td> <td>   -0.025</td>\n",
       "</tr>\n",
       "<tr>\n",
       "  <th>ar.L3.returns</th> <td>   -0.0676</td> <td>    0.013</td> <td>   -5.365</td> <td> 0.000</td> <td>   -0.092</td> <td>   -0.043</td>\n",
       "</tr>\n",
       "</table>\n",
       "<table class=\"simpletable\">\n",
       "<caption>Roots</caption>\n",
       "<tr>\n",
       "    <td></td>   <th>            Real</th>  <th>         Imaginary</th> <th>         Modulus</th>  <th>        Frequency</th>\n",
       "</tr>\n",
       "<tr>\n",
       "  <th>AR.1</th> <td>           0.9712</td> <td>          -2.1405j</td> <td>           2.3505</td> <td>          -0.1822</td>\n",
       "</tr>\n",
       "<tr>\n",
       "  <th>AR.2</th> <td>           0.9712</td> <td>          +2.1405j</td> <td>           2.3505</td> <td>           0.1822</td>\n",
       "</tr>\n",
       "<tr>\n",
       "  <th>AR.3</th> <td>          -2.6790</td> <td>          -0.0000j</td> <td>           2.6790</td> <td>          -0.5000</td>\n",
       "</tr>\n",
       "</table>"
      ],
      "text/plain": [
       "<class 'statsmodels.iolib.summary.Summary'>\n",
       "\"\"\"\n",
       "                              ARMA Model Results                              \n",
       "==============================================================================\n",
       "Dep. Variable:                returns   No. Observations:                 6276\n",
       "Model:                     ARMA(3, 0)   Log Likelihood               -9575.951\n",
       "Method:                       css-mle   S.D. of innovations              1.113\n",
       "Date:                Mon, 19 Oct 2020   AIC                          19161.902\n",
       "Time:                        10:58:59   BIC                          19195.624\n",
       "Sample:                    01-10-1994   HQIC                         19173.586\n",
       "                         - 01-29-2018                                         \n",
       "=================================================================================\n",
       "                    coef    std err          z      P>|z|      [0.025      0.975]\n",
       "---------------------------------------------------------------------------------\n",
       "const             0.0190      0.012      1.542      0.123      -0.005       0.043\n",
       "ar.L1.returns    -0.0217      0.013     -1.725      0.084      -0.046       0.003\n",
       "ar.L2.returns    -0.0498      0.013     -3.956      0.000      -0.074      -0.025\n",
       "ar.L3.returns    -0.0676      0.013     -5.365      0.000      -0.092      -0.043\n",
       "                                    Roots                                    \n",
       "=============================================================================\n",
       "                  Real          Imaginary           Modulus         Frequency\n",
       "-----------------------------------------------------------------------------\n",
       "AR.1            0.9712           -2.1405j            2.3505           -0.1822\n",
       "AR.2            0.9712           +2.1405j            2.3505            0.1822\n",
       "AR.3           -2.6790           -0.0000j            2.6790           -0.5000\n",
       "-----------------------------------------------------------------------------\n",
       "\"\"\""
      ]
     },
     "execution_count": 49,
     "metadata": {},
     "output_type": "execute_result"
    }
   ],
   "source": [
    "model_ret_ar3 = ARMA(df.returns, order = (3,0))\n",
    "results3 = model_ret_ar3.fit()\n",
    "results3.summary()"
   ]
  },
  {
   "cell_type": "markdown",
   "metadata": {},
   "source": [
    "Here we can again see pval for phi2 and phi3 less than 0.05 thus both the terms are significant. \n",
    "Also the significant decrease in the information criterion of the model suggests the better model."
   ]
  },
  {
   "cell_type": "code",
   "execution_count": 50,
   "metadata": {},
   "outputs": [
    {
     "data": {
      "text/plain": [
       "0.0"
      ]
     },
     "execution_count": 50,
     "metadata": {},
     "output_type": "execute_result"
    }
   ],
   "source": [
    "LLR_test(model_ret_ar2, model_ret_ar3)"
   ]
  },
  {
   "cell_type": "code",
   "execution_count": 51,
   "metadata": {},
   "outputs": [
    {
     "data": {
      "text/html": [
       "<table class=\"simpletable\">\n",
       "<caption>ARMA Model Results</caption>\n",
       "<tr>\n",
       "  <th>Dep. Variable:</th>      <td>returns</td>     <th>  No. Observations:  </th>   <td>6276</td>   \n",
       "</tr>\n",
       "<tr>\n",
       "  <th>Model:</th>            <td>ARMA(4, 0)</td>    <th>  Log Likelihood     </th> <td>-9573.016</td>\n",
       "</tr>\n",
       "<tr>\n",
       "  <th>Method:</th>             <td>css-mle</td>     <th>  S.D. of innovations</th>   <td>1.112</td>  \n",
       "</tr>\n",
       "<tr>\n",
       "  <th>Date:</th>          <td>Mon, 19 Oct 2020</td> <th>  AIC                </th> <td>19158.032</td>\n",
       "</tr>\n",
       "<tr>\n",
       "  <th>Time:</th>              <td>10:58:59</td>     <th>  BIC                </th> <td>19198.499</td>\n",
       "</tr>\n",
       "<tr>\n",
       "  <th>Sample:</th>           <td>01-10-1994</td>    <th>  HQIC               </th> <td>19172.053</td>\n",
       "</tr>\n",
       "<tr>\n",
       "  <th></th>                 <td>- 01-29-2018</td>   <th>                     </th>     <td> </td>    \n",
       "</tr>\n",
       "</table>\n",
       "<table class=\"simpletable\">\n",
       "<tr>\n",
       "        <td></td>           <th>coef</th>     <th>std err</th>      <th>z</th>      <th>P>|z|</th>  <th>[0.025</th>    <th>0.975]</th>  \n",
       "</tr>\n",
       "<tr>\n",
       "  <th>const</th>         <td>    0.0190</td> <td>    0.013</td> <td>    1.494</td> <td> 0.135</td> <td>   -0.006</td> <td>    0.044</td>\n",
       "</tr>\n",
       "<tr>\n",
       "  <th>ar.L1.returns</th> <td>   -0.0197</td> <td>    0.013</td> <td>   -1.558</td> <td> 0.119</td> <td>   -0.044</td> <td>    0.005</td>\n",
       "</tr>\n",
       "<tr>\n",
       "  <th>ar.L2.returns</th> <td>   -0.0482</td> <td>    0.013</td> <td>   -3.832</td> <td> 0.000</td> <td>   -0.073</td> <td>   -0.024</td>\n",
       "</tr>\n",
       "<tr>\n",
       "  <th>ar.L3.returns</th> <td>   -0.0669</td> <td>    0.013</td> <td>   -5.313</td> <td> 0.000</td> <td>   -0.092</td> <td>   -0.042</td>\n",
       "</tr>\n",
       "<tr>\n",
       "  <th>ar.L4.returns</th> <td>    0.0306</td> <td>    0.013</td> <td>    2.423</td> <td> 0.015</td> <td>    0.006</td> <td>    0.055</td>\n",
       "</tr>\n",
       "</table>\n",
       "<table class=\"simpletable\">\n",
       "<caption>Roots</caption>\n",
       "<tr>\n",
       "    <td></td>   <th>            Real</th>  <th>         Imaginary</th> <th>         Modulus</th>  <th>        Frequency</th>\n",
       "</tr>\n",
       "<tr>\n",
       "  <th>AR.1</th> <td>          -2.0764</td> <td>          -0.0000j</td> <td>           2.0764</td> <td>          -0.5000</td>\n",
       "</tr>\n",
       "<tr>\n",
       "  <th>AR.2</th> <td>           0.3947</td> <td>          -2.0922j</td> <td>           2.1291</td> <td>          -0.2203</td>\n",
       "</tr>\n",
       "<tr>\n",
       "  <th>AR.3</th> <td>           0.3947</td> <td>          +2.0922j</td> <td>           2.1291</td> <td>           0.2203</td>\n",
       "</tr>\n",
       "<tr>\n",
       "  <th>AR.4</th> <td>           3.4747</td> <td>          -0.0000j</td> <td>           3.4747</td> <td>          -0.0000</td>\n",
       "</tr>\n",
       "</table>"
      ],
      "text/plain": [
       "<class 'statsmodels.iolib.summary.Summary'>\n",
       "\"\"\"\n",
       "                              ARMA Model Results                              \n",
       "==============================================================================\n",
       "Dep. Variable:                returns   No. Observations:                 6276\n",
       "Model:                     ARMA(4, 0)   Log Likelihood               -9573.016\n",
       "Method:                       css-mle   S.D. of innovations              1.112\n",
       "Date:                Mon, 19 Oct 2020   AIC                          19158.032\n",
       "Time:                        10:58:59   BIC                          19198.499\n",
       "Sample:                    01-10-1994   HQIC                         19172.053\n",
       "                         - 01-29-2018                                         \n",
       "=================================================================================\n",
       "                    coef    std err          z      P>|z|      [0.025      0.975]\n",
       "---------------------------------------------------------------------------------\n",
       "const             0.0190      0.013      1.494      0.135      -0.006       0.044\n",
       "ar.L1.returns    -0.0197      0.013     -1.558      0.119      -0.044       0.005\n",
       "ar.L2.returns    -0.0482      0.013     -3.832      0.000      -0.073      -0.024\n",
       "ar.L3.returns    -0.0669      0.013     -5.313      0.000      -0.092      -0.042\n",
       "ar.L4.returns     0.0306      0.013      2.423      0.015       0.006       0.055\n",
       "                                    Roots                                    \n",
       "=============================================================================\n",
       "                  Real          Imaginary           Modulus         Frequency\n",
       "-----------------------------------------------------------------------------\n",
       "AR.1           -2.0764           -0.0000j            2.0764           -0.5000\n",
       "AR.2            0.3947           -2.0922j            2.1291           -0.2203\n",
       "AR.3            0.3947           +2.0922j            2.1291            0.2203\n",
       "AR.4            3.4747           -0.0000j            3.4747           -0.0000\n",
       "-----------------------------------------------------------------------------\n",
       "\"\"\""
      ]
     },
     "execution_count": 51,
     "metadata": {},
     "output_type": "execute_result"
    }
   ],
   "source": [
    "model_ret_ar4 = ARMA(df.returns, order = (4,0))\n",
    "results4 = model_ret_ar4.fit()\n",
    "results4.summary()"
   ]
  },
  {
   "cell_type": "code",
   "execution_count": 52,
   "metadata": {},
   "outputs": [
    {
     "data": {
      "text/plain": [
       "0.015"
      ]
     },
     "execution_count": 52,
     "metadata": {},
     "output_type": "execute_result"
    }
   ],
   "source": [
    "LLR_test(model_ret_ar3, model_ret_ar4)"
   ]
  },
  {
   "cell_type": "code",
   "execution_count": 53,
   "metadata": {},
   "outputs": [
    {
     "data": {
      "text/html": [
       "<table class=\"simpletable\">\n",
       "<caption>ARMA Model Results</caption>\n",
       "<tr>\n",
       "  <th>Dep. Variable:</th>      <td>returns</td>     <th>  No. Observations:  </th>   <td>6276</td>   \n",
       "</tr>\n",
       "<tr>\n",
       "  <th>Model:</th>            <td>ARMA(5, 0)</td>    <th>  Log Likelihood     </th> <td>-9562.542</td>\n",
       "</tr>\n",
       "<tr>\n",
       "  <th>Method:</th>             <td>css-mle</td>     <th>  S.D. of innovations</th>   <td>1.110</td>  \n",
       "</tr>\n",
       "<tr>\n",
       "  <th>Date:</th>          <td>Mon, 19 Oct 2020</td> <th>  AIC                </th> <td>19139.083</td>\n",
       "</tr>\n",
       "<tr>\n",
       "  <th>Time:</th>              <td>10:59:00</td>     <th>  BIC                </th> <td>19186.295</td>\n",
       "</tr>\n",
       "<tr>\n",
       "  <th>Sample:</th>           <td>01-10-1994</td>    <th>  HQIC               </th> <td>19155.441</td>\n",
       "</tr>\n",
       "<tr>\n",
       "  <th></th>                 <td>- 01-29-2018</td>   <th>                     </th>     <td> </td>    \n",
       "</tr>\n",
       "</table>\n",
       "<table class=\"simpletable\">\n",
       "<tr>\n",
       "        <td></td>           <th>coef</th>     <th>std err</th>      <th>z</th>      <th>P>|z|</th>  <th>[0.025</th>    <th>0.975]</th>  \n",
       "</tr>\n",
       "<tr>\n",
       "  <th>const</th>         <td>    0.0190</td> <td>    0.012</td> <td>    1.584</td> <td> 0.113</td> <td>   -0.005</td> <td>    0.043</td>\n",
       "</tr>\n",
       "<tr>\n",
       "  <th>ar.L1.returns</th> <td>   -0.0179</td> <td>    0.013</td> <td>   -1.420</td> <td> 0.156</td> <td>   -0.043</td> <td>    0.007</td>\n",
       "</tr>\n",
       "<tr>\n",
       "  <th>ar.L2.returns</th> <td>   -0.0521</td> <td>    0.013</td> <td>   -4.136</td> <td> 0.000</td> <td>   -0.077</td> <td>   -0.027</td>\n",
       "</tr>\n",
       "<tr>\n",
       "  <th>ar.L3.returns</th> <td>   -0.0697</td> <td>    0.013</td> <td>   -5.536</td> <td> 0.000</td> <td>   -0.094</td> <td>   -0.045</td>\n",
       "</tr>\n",
       "<tr>\n",
       "  <th>ar.L4.returns</th> <td>    0.0294</td> <td>    0.013</td> <td>    2.336</td> <td> 0.019</td> <td>    0.005</td> <td>    0.054</td>\n",
       "</tr>\n",
       "<tr>\n",
       "  <th>ar.L5.returns</th> <td>   -0.0577</td> <td>    0.013</td> <td>   -4.581</td> <td> 0.000</td> <td>   -0.082</td> <td>   -0.033</td>\n",
       "</tr>\n",
       "</table>\n",
       "<table class=\"simpletable\">\n",
       "<caption>Roots</caption>\n",
       "<tr>\n",
       "    <td></td>   <th>            Real</th>  <th>         Imaginary</th> <th>         Modulus</th>  <th>        Frequency</th>\n",
       "</tr>\n",
       "<tr>\n",
       "  <th>AR.1</th> <td>          -1.6076</td> <td>          -0.0000j</td> <td>           1.6076</td> <td>          -0.5000</td>\n",
       "</tr>\n",
       "<tr>\n",
       "  <th>AR.2</th> <td>          -0.3482</td> <td>          -1.7427j</td> <td>           1.7771</td> <td>          -0.2814</td>\n",
       "</tr>\n",
       "<tr>\n",
       "  <th>AR.3</th> <td>          -0.3482</td> <td>          +1.7427j</td> <td>           1.7771</td> <td>           0.2814</td>\n",
       "</tr>\n",
       "<tr>\n",
       "  <th>AR.4</th> <td>           1.4069</td> <td>          -1.1970j</td> <td>           1.8472</td> <td>          -0.1122</td>\n",
       "</tr>\n",
       "<tr>\n",
       "  <th>AR.5</th> <td>           1.4069</td> <td>          +1.1970j</td> <td>           1.8472</td> <td>           0.1122</td>\n",
       "</tr>\n",
       "</table>"
      ],
      "text/plain": [
       "<class 'statsmodels.iolib.summary.Summary'>\n",
       "\"\"\"\n",
       "                              ARMA Model Results                              \n",
       "==============================================================================\n",
       "Dep. Variable:                returns   No. Observations:                 6276\n",
       "Model:                     ARMA(5, 0)   Log Likelihood               -9562.542\n",
       "Method:                       css-mle   S.D. of innovations              1.110\n",
       "Date:                Mon, 19 Oct 2020   AIC                          19139.083\n",
       "Time:                        10:59:00   BIC                          19186.295\n",
       "Sample:                    01-10-1994   HQIC                         19155.441\n",
       "                         - 01-29-2018                                         \n",
       "=================================================================================\n",
       "                    coef    std err          z      P>|z|      [0.025      0.975]\n",
       "---------------------------------------------------------------------------------\n",
       "const             0.0190      0.012      1.584      0.113      -0.005       0.043\n",
       "ar.L1.returns    -0.0179      0.013     -1.420      0.156      -0.043       0.007\n",
       "ar.L2.returns    -0.0521      0.013     -4.136      0.000      -0.077      -0.027\n",
       "ar.L3.returns    -0.0697      0.013     -5.536      0.000      -0.094      -0.045\n",
       "ar.L4.returns     0.0294      0.013      2.336      0.019       0.005       0.054\n",
       "ar.L5.returns    -0.0577      0.013     -4.581      0.000      -0.082      -0.033\n",
       "                                    Roots                                    \n",
       "=============================================================================\n",
       "                  Real          Imaginary           Modulus         Frequency\n",
       "-----------------------------------------------------------------------------\n",
       "AR.1           -1.6076           -0.0000j            1.6076           -0.5000\n",
       "AR.2           -0.3482           -1.7427j            1.7771           -0.2814\n",
       "AR.3           -0.3482           +1.7427j            1.7771            0.2814\n",
       "AR.4            1.4069           -1.1970j            1.8472           -0.1122\n",
       "AR.5            1.4069           +1.1970j            1.8472            0.1122\n",
       "-----------------------------------------------------------------------------\n",
       "\"\"\""
      ]
     },
     "execution_count": 53,
     "metadata": {},
     "output_type": "execute_result"
    }
   ],
   "source": [
    "model_ret_ar5 = ARMA(df.returns, order = (5,0))\n",
    "results5 = model_ret_ar5.fit()\n",
    "results5.summary()"
   ]
  },
  {
   "cell_type": "code",
   "execution_count": 54,
   "metadata": {},
   "outputs": [
    {
     "data": {
      "text/plain": [
       "0.0"
      ]
     },
     "execution_count": 54,
     "metadata": {},
     "output_type": "execute_result"
    }
   ],
   "source": [
    "LLR_test(model_ret_ar4, model_ret_ar5)"
   ]
  },
  {
   "cell_type": "code",
   "execution_count": 55,
   "metadata": {},
   "outputs": [
    {
     "data": {
      "text/html": [
       "<table class=\"simpletable\">\n",
       "<caption>ARMA Model Results</caption>\n",
       "<tr>\n",
       "  <th>Dep. Variable:</th>      <td>returns</td>     <th>  No. Observations:  </th>   <td>6276</td>   \n",
       "</tr>\n",
       "<tr>\n",
       "  <th>Model:</th>            <td>ARMA(6, 0)</td>    <th>  Log Likelihood     </th> <td>-9558.464</td>\n",
       "</tr>\n",
       "<tr>\n",
       "  <th>Method:</th>             <td>css-mle</td>     <th>  S.D. of innovations</th>   <td>1.110</td>  \n",
       "</tr>\n",
       "<tr>\n",
       "  <th>Date:</th>          <td>Mon, 19 Oct 2020</td> <th>  AIC                </th> <td>19132.928</td>\n",
       "</tr>\n",
       "<tr>\n",
       "  <th>Time:</th>              <td>10:59:01</td>     <th>  BIC                </th> <td>19186.884</td>\n",
       "</tr>\n",
       "<tr>\n",
       "  <th>Sample:</th>           <td>01-10-1994</td>    <th>  HQIC               </th> <td>19151.623</td>\n",
       "</tr>\n",
       "<tr>\n",
       "  <th></th>                 <td>- 01-29-2018</td>   <th>                     </th>     <td> </td>    \n",
       "</tr>\n",
       "</table>\n",
       "<table class=\"simpletable\">\n",
       "<tr>\n",
       "        <td></td>           <th>coef</th>     <th>std err</th>      <th>z</th>      <th>P>|z|</th>  <th>[0.025</th>    <th>0.975]</th>  \n",
       "</tr>\n",
       "<tr>\n",
       "  <th>const</th>         <td>    0.0190</td> <td>    0.012</td> <td>    1.643</td> <td> 0.100</td> <td>   -0.004</td> <td>    0.042</td>\n",
       "</tr>\n",
       "<tr>\n",
       "  <th>ar.L1.returns</th> <td>   -0.0200</td> <td>    0.013</td> <td>   -1.583</td> <td> 0.113</td> <td>   -0.045</td> <td>    0.005</td>\n",
       "</tr>\n",
       "<tr>\n",
       "  <th>ar.L2.returns</th> <td>   -0.0510</td> <td>    0.013</td> <td>   -4.053</td> <td> 0.000</td> <td>   -0.076</td> <td>   -0.026</td>\n",
       "</tr>\n",
       "<tr>\n",
       "  <th>ar.L3.returns</th> <td>   -0.0722</td> <td>    0.013</td> <td>   -5.725</td> <td> 0.000</td> <td>   -0.097</td> <td>   -0.047</td>\n",
       "</tr>\n",
       "<tr>\n",
       "  <th>ar.L4.returns</th> <td>    0.0276</td> <td>    0.013</td> <td>    2.186</td> <td> 0.029</td> <td>    0.003</td> <td>    0.052</td>\n",
       "</tr>\n",
       "<tr>\n",
       "  <th>ar.L5.returns</th> <td>   -0.0584</td> <td>    0.013</td> <td>   -4.635</td> <td> 0.000</td> <td>   -0.083</td> <td>   -0.034</td>\n",
       "</tr>\n",
       "<tr>\n",
       "  <th>ar.L6.returns</th> <td>   -0.0360</td> <td>    0.013</td> <td>   -2.857</td> <td> 0.004</td> <td>   -0.061</td> <td>   -0.011</td>\n",
       "</tr>\n",
       "</table>\n",
       "<table class=\"simpletable\">\n",
       "<caption>Roots</caption>\n",
       "<tr>\n",
       "    <td></td>   <th>            Real</th>  <th>         Imaginary</th> <th>         Modulus</th>  <th>        Frequency</th>\n",
       "</tr>\n",
       "<tr>\n",
       "  <th>AR.1</th> <td>           1.3034</td> <td>          -0.9330j</td> <td>           1.6029</td> <td>          -0.0989</td>\n",
       "</tr>\n",
       "<tr>\n",
       "  <th>AR.2</th> <td>           1.3034</td> <td>          +0.9330j</td> <td>           1.6029</td> <td>           0.0989</td>\n",
       "</tr>\n",
       "<tr>\n",
       "  <th>AR.3</th> <td>          -0.1126</td> <td>          -1.5943j</td> <td>           1.5983</td> <td>          -0.2612</td>\n",
       "</tr>\n",
       "<tr>\n",
       "  <th>AR.4</th> <td>          -0.1126</td> <td>          +1.5943j</td> <td>           1.5983</td> <td>           0.2612</td>\n",
       "</tr>\n",
       "<tr>\n",
       "  <th>AR.5</th> <td>          -2.0008</td> <td>          -0.4747j</td> <td>           2.0564</td> <td>          -0.4629</td>\n",
       "</tr>\n",
       "<tr>\n",
       "  <th>AR.6</th> <td>          -2.0008</td> <td>          +0.4747j</td> <td>           2.0564</td> <td>           0.4629</td>\n",
       "</tr>\n",
       "</table>"
      ],
      "text/plain": [
       "<class 'statsmodels.iolib.summary.Summary'>\n",
       "\"\"\"\n",
       "                              ARMA Model Results                              \n",
       "==============================================================================\n",
       "Dep. Variable:                returns   No. Observations:                 6276\n",
       "Model:                     ARMA(6, 0)   Log Likelihood               -9558.464\n",
       "Method:                       css-mle   S.D. of innovations              1.110\n",
       "Date:                Mon, 19 Oct 2020   AIC                          19132.928\n",
       "Time:                        10:59:01   BIC                          19186.884\n",
       "Sample:                    01-10-1994   HQIC                         19151.623\n",
       "                         - 01-29-2018                                         \n",
       "=================================================================================\n",
       "                    coef    std err          z      P>|z|      [0.025      0.975]\n",
       "---------------------------------------------------------------------------------\n",
       "const             0.0190      0.012      1.643      0.100      -0.004       0.042\n",
       "ar.L1.returns    -0.0200      0.013     -1.583      0.113      -0.045       0.005\n",
       "ar.L2.returns    -0.0510      0.013     -4.053      0.000      -0.076      -0.026\n",
       "ar.L3.returns    -0.0722      0.013     -5.725      0.000      -0.097      -0.047\n",
       "ar.L4.returns     0.0276      0.013      2.186      0.029       0.003       0.052\n",
       "ar.L5.returns    -0.0584      0.013     -4.635      0.000      -0.083      -0.034\n",
       "ar.L6.returns    -0.0360      0.013     -2.857      0.004      -0.061      -0.011\n",
       "                                    Roots                                    \n",
       "=============================================================================\n",
       "                  Real          Imaginary           Modulus         Frequency\n",
       "-----------------------------------------------------------------------------\n",
       "AR.1            1.3034           -0.9330j            1.6029           -0.0989\n",
       "AR.2            1.3034           +0.9330j            1.6029            0.0989\n",
       "AR.3           -0.1126           -1.5943j            1.5983           -0.2612\n",
       "AR.4           -0.1126           +1.5943j            1.5983            0.2612\n",
       "AR.5           -2.0008           -0.4747j            2.0564           -0.4629\n",
       "AR.6           -2.0008           +0.4747j            2.0564            0.4629\n",
       "-----------------------------------------------------------------------------\n",
       "\"\"\""
      ]
     },
     "execution_count": 55,
     "metadata": {},
     "output_type": "execute_result"
    }
   ],
   "source": [
    "model_ret_ar6 = ARMA(df.returns, order = (6,0))\n",
    "results6 = model_ret_ar6.fit()\n",
    "results6.summary()"
   ]
  },
  {
   "cell_type": "code",
   "execution_count": 56,
   "metadata": {},
   "outputs": [
    {
     "data": {
      "text/plain": [
       "0.004"
      ]
     },
     "execution_count": 56,
     "metadata": {},
     "output_type": "execute_result"
    }
   ],
   "source": [
    "LLR_test(model_ret_ar5, model_ret_ar6)"
   ]
  },
  {
   "cell_type": "code",
   "execution_count": 57,
   "metadata": {},
   "outputs": [
    {
     "data": {
      "text/html": [
       "<table class=\"simpletable\">\n",
       "<caption>ARMA Model Results</caption>\n",
       "<tr>\n",
       "  <th>Dep. Variable:</th>      <td>returns</td>     <th>  No. Observations:  </th>   <td>6276</td>   \n",
       "</tr>\n",
       "<tr>\n",
       "  <th>Model:</th>            <td>ARMA(7, 0)</td>    <th>  Log Likelihood     </th> <td>-9558.281</td>\n",
       "</tr>\n",
       "<tr>\n",
       "  <th>Method:</th>             <td>css-mle</td>     <th>  S.D. of innovations</th>   <td>1.110</td>  \n",
       "</tr>\n",
       "<tr>\n",
       "  <th>Date:</th>          <td>Mon, 19 Oct 2020</td> <th>  AIC                </th> <td>19134.561</td>\n",
       "</tr>\n",
       "<tr>\n",
       "  <th>Time:</th>              <td>10:59:02</td>     <th>  BIC                </th> <td>19195.261</td>\n",
       "</tr>\n",
       "<tr>\n",
       "  <th>Sample:</th>           <td>01-10-1994</td>    <th>  HQIC               </th> <td>19155.593</td>\n",
       "</tr>\n",
       "<tr>\n",
       "  <th></th>                 <td>- 01-29-2018</td>   <th>                     </th>     <td> </td>    \n",
       "</tr>\n",
       "</table>\n",
       "<table class=\"simpletable\">\n",
       "<tr>\n",
       "        <td></td>           <th>coef</th>     <th>std err</th>      <th>z</th>      <th>P>|z|</th>  <th>[0.025</th>    <th>0.975]</th>  \n",
       "</tr>\n",
       "<tr>\n",
       "  <th>const</th>         <td>    0.0190</td> <td>    0.012</td> <td>    1.631</td> <td> 0.103</td> <td>   -0.004</td> <td>    0.042</td>\n",
       "</tr>\n",
       "<tr>\n",
       "  <th>ar.L1.returns</th> <td>   -0.0197</td> <td>    0.013</td> <td>   -1.561</td> <td> 0.119</td> <td>   -0.044</td> <td>    0.005</td>\n",
       "</tr>\n",
       "<tr>\n",
       "  <th>ar.L2.returns</th> <td>   -0.0506</td> <td>    0.013</td> <td>   -4.011</td> <td> 0.000</td> <td>   -0.075</td> <td>   -0.026</td>\n",
       "</tr>\n",
       "<tr>\n",
       "  <th>ar.L3.returns</th> <td>   -0.0724</td> <td>    0.013</td> <td>   -5.740</td> <td> 0.000</td> <td>   -0.097</td> <td>   -0.048</td>\n",
       "</tr>\n",
       "<tr>\n",
       "  <th>ar.L4.returns</th> <td>    0.0281</td> <td>    0.013</td> <td>    2.224</td> <td> 0.026</td> <td>    0.003</td> <td>    0.053</td>\n",
       "</tr>\n",
       "<tr>\n",
       "  <th>ar.L5.returns</th> <td>   -0.0580</td> <td>    0.013</td> <td>   -4.598</td> <td> 0.000</td> <td>   -0.083</td> <td>   -0.033</td>\n",
       "</tr>\n",
       "<tr>\n",
       "  <th>ar.L6.returns</th> <td>   -0.0359</td> <td>    0.013</td> <td>   -2.844</td> <td> 0.004</td> <td>   -0.061</td> <td>   -0.011</td>\n",
       "</tr>\n",
       "<tr>\n",
       "  <th>ar.L7.returns</th> <td>    0.0076</td> <td>    0.013</td> <td>    0.606</td> <td> 0.544</td> <td>   -0.017</td> <td>    0.032</td>\n",
       "</tr>\n",
       "</table>\n",
       "<table class=\"simpletable\">\n",
       "<caption>Roots</caption>\n",
       "<tr>\n",
       "    <td></td>   <th>            Real</th>  <th>         Imaginary</th> <th>         Modulus</th>  <th>        Frequency</th>\n",
       "</tr>\n",
       "<tr>\n",
       "  <th>AR.1</th> <td>          -1.7554</td> <td>          -0.5583j</td> <td>           1.8421</td> <td>          -0.4510</td>\n",
       "</tr>\n",
       "<tr>\n",
       "  <th>AR.2</th> <td>          -1.7554</td> <td>          +0.5583j</td> <td>           1.8421</td> <td>           0.4510</td>\n",
       "</tr>\n",
       "<tr>\n",
       "  <th>AR.3</th> <td>          -0.1529</td> <td>          -1.5557j</td> <td>           1.5632</td> <td>          -0.2656</td>\n",
       "</tr>\n",
       "<tr>\n",
       "  <th>AR.4</th> <td>          -0.1529</td> <td>          +1.5557j</td> <td>           1.5632</td> <td>           0.2656</td>\n",
       "</tr>\n",
       "<tr>\n",
       "  <th>AR.5</th> <td>           1.2934</td> <td>          -0.9953j</td> <td>           1.6320</td> <td>          -0.1044</td>\n",
       "</tr>\n",
       "<tr>\n",
       "  <th>AR.6</th> <td>           1.2934</td> <td>          +0.9953j</td> <td>           1.6320</td> <td>           0.1044</td>\n",
       "</tr>\n",
       "<tr>\n",
       "  <th>AR.7</th> <td>           5.9207</td> <td>          -0.0000j</td> <td>           5.9207</td> <td>          -0.0000</td>\n",
       "</tr>\n",
       "</table>"
      ],
      "text/plain": [
       "<class 'statsmodels.iolib.summary.Summary'>\n",
       "\"\"\"\n",
       "                              ARMA Model Results                              \n",
       "==============================================================================\n",
       "Dep. Variable:                returns   No. Observations:                 6276\n",
       "Model:                     ARMA(7, 0)   Log Likelihood               -9558.281\n",
       "Method:                       css-mle   S.D. of innovations              1.110\n",
       "Date:                Mon, 19 Oct 2020   AIC                          19134.561\n",
       "Time:                        10:59:02   BIC                          19195.261\n",
       "Sample:                    01-10-1994   HQIC                         19155.593\n",
       "                         - 01-29-2018                                         \n",
       "=================================================================================\n",
       "                    coef    std err          z      P>|z|      [0.025      0.975]\n",
       "---------------------------------------------------------------------------------\n",
       "const             0.0190      0.012      1.631      0.103      -0.004       0.042\n",
       "ar.L1.returns    -0.0197      0.013     -1.561      0.119      -0.044       0.005\n",
       "ar.L2.returns    -0.0506      0.013     -4.011      0.000      -0.075      -0.026\n",
       "ar.L3.returns    -0.0724      0.013     -5.740      0.000      -0.097      -0.048\n",
       "ar.L4.returns     0.0281      0.013      2.224      0.026       0.003       0.053\n",
       "ar.L5.returns    -0.0580      0.013     -4.598      0.000      -0.083      -0.033\n",
       "ar.L6.returns    -0.0359      0.013     -2.844      0.004      -0.061      -0.011\n",
       "ar.L7.returns     0.0076      0.013      0.606      0.544      -0.017       0.032\n",
       "                                    Roots                                    \n",
       "=============================================================================\n",
       "                  Real          Imaginary           Modulus         Frequency\n",
       "-----------------------------------------------------------------------------\n",
       "AR.1           -1.7554           -0.5583j            1.8421           -0.4510\n",
       "AR.2           -1.7554           +0.5583j            1.8421            0.4510\n",
       "AR.3           -0.1529           -1.5557j            1.5632           -0.2656\n",
       "AR.4           -0.1529           +1.5557j            1.5632            0.2656\n",
       "AR.5            1.2934           -0.9953j            1.6320           -0.1044\n",
       "AR.6            1.2934           +0.9953j            1.6320            0.1044\n",
       "AR.7            5.9207           -0.0000j            5.9207           -0.0000\n",
       "-----------------------------------------------------------------------------\n",
       "\"\"\""
      ]
     },
     "execution_count": 57,
     "metadata": {},
     "output_type": "execute_result"
    }
   ],
   "source": [
    "model_ret_ar7 = ARMA(df.returns, order = (7,0))\n",
    "results7 = model_ret_ar7.fit()\n",
    "results7.summary()"
   ]
  },
  {
   "cell_type": "code",
   "execution_count": 58,
   "metadata": {},
   "outputs": [
    {
     "data": {
      "text/plain": [
       "0.545"
      ]
     },
     "execution_count": 58,
     "metadata": {},
     "output_type": "execute_result"
    }
   ],
   "source": [
    "LLR_test(model_ret_ar6, model_ret_ar7)"
   ]
  },
  {
   "cell_type": "markdown",
   "metadata": {},
   "source": [
    "#### Here we can see significant decrease in information criterion value and  value for LLR test is also significantly large thus we prefer 'AR(7)' model over rest of the models."
   ]
  },
  {
   "cell_type": "markdown",
   "metadata": {},
   "source": [
    "## Normalizing Values"
   ]
  },
  {
   "cell_type": "code",
   "execution_count": 59,
   "metadata": {},
   "outputs": [],
   "source": [
    "benchmark = df.spx.iloc[0]"
   ]
  },
  {
   "cell_type": "code",
   "execution_count": 60,
   "metadata": {},
   "outputs": [],
   "source": [
    "df['norm'] = df.spx.div(benchmark).mul(100)"
   ]
  },
  {
   "cell_type": "code",
   "execution_count": 61,
   "metadata": {},
   "outputs": [
    {
     "data": {
      "text/plain": [
       "(1.1143250516465246,\n",
       " 0.9953370456865456,\n",
       " 10,\n",
       " 6265,\n",
       " {'1%': -3.4313942109103537,\n",
       "  '5%': -2.8620014488169447,\n",
       "  '10%': -2.5670156262352637},\n",
       " 30795.300188384466)"
      ]
     },
     "execution_count": 61,
     "metadata": {},
     "output_type": "execute_result"
    }
   ],
   "source": [
    "sts.adfuller(df.norm)"
   ]
  },
  {
   "cell_type": "markdown",
   "metadata": {},
   "source": [
    "Here we can see val of tstat is greater than ttab thus non-stationary TS assumption holds and hence we cant use normalizing approach for AR models"
   ]
  },
  {
   "cell_type": "code",
   "execution_count": 62,
   "metadata": {},
   "outputs": [
    {
     "data": {
      "text/plain": [
       "(-15.14076133203497,\n",
       " 7.016338451090485e-28,\n",
       " 34,\n",
       " 6241,\n",
       " {'1%': -3.431398228116075,\n",
       "  '5%': -2.8620032237533897,\n",
       "  '10%': -2.5670165710764503},\n",
       " -429.3496692506724)"
      ]
     },
     "execution_count": 62,
     "metadata": {},
     "output_type": "execute_result"
    }
   ],
   "source": [
    "ben_ret = df.returns.iloc[0]\n",
    "df['norm_ret'] = df.returns.div(benchmark).mul(100)\n",
    "sts.adfuller(df.norm_ret)"
   ]
  },
  {
   "cell_type": "markdown",
   "metadata": {},
   "source": [
    "Here we can say the data is stationary as tcal = -15.14 is less than ttab = -2.862.\n",
    "Also we can say normalizing does not affect stationarity."
   ]
  },
  {
   "cell_type": "markdown",
   "metadata": {},
   "source": [
    "## Normalizing Returns"
   ]
  },
  {
   "cell_type": "code",
   "execution_count": 63,
   "metadata": {},
   "outputs": [
    {
     "data": {
      "text/html": [
       "<table class=\"simpletable\">\n",
       "<caption>ARMA Model Results</caption>\n",
       "<tr>\n",
       "  <th>Dep. Variable:</th>     <td>norm_ret</td>     <th>  No. Observations:  </th>   <td>6276</td>  \n",
       "</tr>\n",
       "<tr>\n",
       "  <th>Model:</th>            <td>ARMA(1, 0)</td>    <th>  Log Likelihood     </th>  <td>184.777</td>\n",
       "</tr>\n",
       "<tr>\n",
       "  <th>Method:</th>             <td>css-mle</td>     <th>  S.D. of innovations</th>   <td>0.235</td> \n",
       "</tr>\n",
       "<tr>\n",
       "  <th>Date:</th>          <td>Mon, 19 Oct 2020</td> <th>  AIC                </th> <td>-363.555</td>\n",
       "</tr>\n",
       "<tr>\n",
       "  <th>Time:</th>              <td>10:59:04</td>     <th>  BIC                </th> <td>-343.321</td>\n",
       "</tr>\n",
       "<tr>\n",
       "  <th>Sample:</th>           <td>01-10-1994</td>    <th>  HQIC               </th> <td>-356.544</td>\n",
       "</tr>\n",
       "<tr>\n",
       "  <th></th>                 <td>- 01-29-2018</td>   <th>                     </th>     <td> </td>   \n",
       "</tr>\n",
       "</table>\n",
       "<table class=\"simpletable\">\n",
       "<tr>\n",
       "         <td></td>           <th>coef</th>     <th>std err</th>      <th>z</th>      <th>P>|z|</th>  <th>[0.025</th>    <th>0.975]</th>  \n",
       "</tr>\n",
       "<tr>\n",
       "  <th>const</th>          <td>    0.0040</td> <td>    0.003</td> <td>    1.371</td> <td> 0.170</td> <td>   -0.002</td> <td>    0.010</td>\n",
       "</tr>\n",
       "<tr>\n",
       "  <th>ar.L1.norm_ret</th> <td>   -0.0176</td> <td>    0.013</td> <td>   -1.394</td> <td> 0.163</td> <td>   -0.042</td> <td>    0.007</td>\n",
       "</tr>\n",
       "</table>\n",
       "<table class=\"simpletable\">\n",
       "<caption>Roots</caption>\n",
       "<tr>\n",
       "    <td></td>   <th>            Real</th>  <th>         Imaginary</th> <th>         Modulus</th>  <th>        Frequency</th>\n",
       "</tr>\n",
       "<tr>\n",
       "  <th>AR.1</th> <td>         -56.8439</td> <td>          +0.0000j</td> <td>          56.8439</td> <td>           0.5000</td>\n",
       "</tr>\n",
       "</table>"
      ],
      "text/plain": [
       "<class 'statsmodels.iolib.summary.Summary'>\n",
       "\"\"\"\n",
       "                              ARMA Model Results                              \n",
       "==============================================================================\n",
       "Dep. Variable:               norm_ret   No. Observations:                 6276\n",
       "Model:                     ARMA(1, 0)   Log Likelihood                 184.777\n",
       "Method:                       css-mle   S.D. of innovations              0.235\n",
       "Date:                Mon, 19 Oct 2020   AIC                           -363.555\n",
       "Time:                        10:59:04   BIC                           -343.321\n",
       "Sample:                    01-10-1994   HQIC                          -356.544\n",
       "                         - 01-29-2018                                         \n",
       "==================================================================================\n",
       "                     coef    std err          z      P>|z|      [0.025      0.975]\n",
       "----------------------------------------------------------------------------------\n",
       "const              0.0040      0.003      1.371      0.170      -0.002       0.010\n",
       "ar.L1.norm_ret    -0.0176      0.013     -1.394      0.163      -0.042       0.007\n",
       "                                    Roots                                    \n",
       "=============================================================================\n",
       "                  Real          Imaginary           Modulus         Frequency\n",
       "-----------------------------------------------------------------------------\n",
       "AR.1          -56.8439           +0.0000j           56.8439            0.5000\n",
       "-----------------------------------------------------------------------------\n",
       "\"\"\""
      ]
     },
     "execution_count": 63,
     "metadata": {},
     "output_type": "execute_result"
    }
   ],
   "source": [
    "model_norm_ret_ar1 = ARMA(df.norm_ret, order = (1,0))\n",
    "results7 = model_norm_ret_ar1.fit()\n",
    "results7.summary()"
   ]
  },
  {
   "cell_type": "code",
   "execution_count": 64,
   "metadata": {},
   "outputs": [
    {
     "data": {
      "text/html": [
       "<table class=\"simpletable\">\n",
       "<caption>ARMA Model Results</caption>\n",
       "<tr>\n",
       "  <th>Dep. Variable:</th>     <td>norm_ret</td>     <th>  No. Observations:  </th>   <td>6276</td>  \n",
       "</tr>\n",
       "<tr>\n",
       "  <th>Model:</th>            <td>ARMA(2, 0)</td>    <th>  Log Likelihood     </th>  <td>192.173</td>\n",
       "</tr>\n",
       "<tr>\n",
       "  <th>Method:</th>             <td>css-mle</td>     <th>  S.D. of innovations</th>   <td>0.235</td> \n",
       "</tr>\n",
       "<tr>\n",
       "  <th>Date:</th>          <td>Mon, 19 Oct 2020</td> <th>  AIC                </th> <td>-376.346</td>\n",
       "</tr>\n",
       "<tr>\n",
       "  <th>Time:</th>              <td>10:59:04</td>     <th>  BIC                </th> <td>-349.368</td>\n",
       "</tr>\n",
       "<tr>\n",
       "  <th>Sample:</th>           <td>01-10-1994</td>    <th>  HQIC               </th> <td>-366.998</td>\n",
       "</tr>\n",
       "<tr>\n",
       "  <th></th>                 <td>- 01-29-2018</td>   <th>                     </th>     <td> </td>   \n",
       "</tr>\n",
       "</table>\n",
       "<table class=\"simpletable\">\n",
       "<tr>\n",
       "         <td></td>           <th>coef</th>     <th>std err</th>      <th>z</th>      <th>P>|z|</th>  <th>[0.025</th>    <th>0.975]</th>  \n",
       "</tr>\n",
       "<tr>\n",
       "  <th>const</th>          <td>    0.0040</td> <td>    0.003</td> <td>    1.440</td> <td> 0.150</td> <td>   -0.001</td> <td>    0.009</td>\n",
       "</tr>\n",
       "<tr>\n",
       "  <th>ar.L1.norm_ret</th> <td>   -0.0184</td> <td>    0.013</td> <td>   -1.463</td> <td> 0.143</td> <td>   -0.043</td> <td>    0.006</td>\n",
       "</tr>\n",
       "<tr>\n",
       "  <th>ar.L2.norm_ret</th> <td>   -0.0485</td> <td>    0.013</td> <td>   -3.848</td> <td> 0.000</td> <td>   -0.073</td> <td>   -0.024</td>\n",
       "</tr>\n",
       "</table>\n",
       "<table class=\"simpletable\">\n",
       "<caption>Roots</caption>\n",
       "<tr>\n",
       "    <td></td>   <th>            Real</th>  <th>         Imaginary</th> <th>         Modulus</th>  <th>        Frequency</th>\n",
       "</tr>\n",
       "<tr>\n",
       "  <th>AR.1</th> <td>          -0.1901</td> <td>          -4.5361j</td> <td>           4.5401</td> <td>          -0.2567</td>\n",
       "</tr>\n",
       "<tr>\n",
       "  <th>AR.2</th> <td>          -0.1901</td> <td>          +4.5361j</td> <td>           4.5401</td> <td>           0.2567</td>\n",
       "</tr>\n",
       "</table>"
      ],
      "text/plain": [
       "<class 'statsmodels.iolib.summary.Summary'>\n",
       "\"\"\"\n",
       "                              ARMA Model Results                              \n",
       "==============================================================================\n",
       "Dep. Variable:               norm_ret   No. Observations:                 6276\n",
       "Model:                     ARMA(2, 0)   Log Likelihood                 192.173\n",
       "Method:                       css-mle   S.D. of innovations              0.235\n",
       "Date:                Mon, 19 Oct 2020   AIC                           -376.346\n",
       "Time:                        10:59:04   BIC                           -349.368\n",
       "Sample:                    01-10-1994   HQIC                          -366.998\n",
       "                         - 01-29-2018                                         \n",
       "==================================================================================\n",
       "                     coef    std err          z      P>|z|      [0.025      0.975]\n",
       "----------------------------------------------------------------------------------\n",
       "const              0.0040      0.003      1.440      0.150      -0.001       0.009\n",
       "ar.L1.norm_ret    -0.0184      0.013     -1.463      0.143      -0.043       0.006\n",
       "ar.L2.norm_ret    -0.0485      0.013     -3.848      0.000      -0.073      -0.024\n",
       "                                    Roots                                    \n",
       "=============================================================================\n",
       "                  Real          Imaginary           Modulus         Frequency\n",
       "-----------------------------------------------------------------------------\n",
       "AR.1           -0.1901           -4.5361j            4.5401           -0.2567\n",
       "AR.2           -0.1901           +4.5361j            4.5401            0.2567\n",
       "-----------------------------------------------------------------------------\n",
       "\"\"\""
      ]
     },
     "execution_count": 64,
     "metadata": {},
     "output_type": "execute_result"
    }
   ],
   "source": [
    "model_norm_ret_ar2 = ARMA(df.norm_ret, order = (2,0))\n",
    "results2 = model_norm_ret_ar2.fit()\n",
    "results2.summary()"
   ]
  },
  {
   "cell_type": "markdown",
   "metadata": {},
   "source": [
    "Here we can see trends simalr to non-normalised returns thus we can say normalising doesnt affect model selection."
   ]
  },
  {
   "cell_type": "code",
   "execution_count": 65,
   "metadata": {},
   "outputs": [
    {
     "data": {
      "text/html": [
       "<table class=\"simpletable\">\n",
       "<caption>ARMA Model Results</caption>\n",
       "<tr>\n",
       "  <th>Dep. Variable:</th>     <td>norm_ret</td>     <th>  No. Observations:  </th>   <td>6276</td>  \n",
       "</tr>\n",
       "<tr>\n",
       "  <th>Model:</th>            <td>ARMA(7, 0)</td>    <th>  Log Likelihood     </th>  <td>224.202</td>\n",
       "</tr>\n",
       "<tr>\n",
       "  <th>Method:</th>             <td>css-mle</td>     <th>  S.D. of innovations</th>   <td>0.233</td> \n",
       "</tr>\n",
       "<tr>\n",
       "  <th>Date:</th>          <td>Mon, 19 Oct 2020</td> <th>  AIC                </th> <td>-430.403</td>\n",
       "</tr>\n",
       "<tr>\n",
       "  <th>Time:</th>              <td>10:59:04</td>     <th>  BIC                </th> <td>-369.703</td>\n",
       "</tr>\n",
       "<tr>\n",
       "  <th>Sample:</th>           <td>01-10-1994</td>    <th>  HQIC               </th> <td>-409.371</td>\n",
       "</tr>\n",
       "<tr>\n",
       "  <th></th>                 <td>- 01-29-2018</td>   <th>                     </th>     <td> </td>   \n",
       "</tr>\n",
       "</table>\n",
       "<table class=\"simpletable\">\n",
       "<tr>\n",
       "         <td></td>           <th>coef</th>     <th>std err</th>      <th>z</th>      <th>P>|z|</th>  <th>[0.025</th>    <th>0.975]</th>  \n",
       "</tr>\n",
       "<tr>\n",
       "  <th>const</th>          <td>    0.0040</td> <td>    0.002</td> <td>    1.631</td> <td> 0.103</td> <td>   -0.001</td> <td>    0.009</td>\n",
       "</tr>\n",
       "<tr>\n",
       "  <th>ar.L1.norm_ret</th> <td>   -0.0197</td> <td>    0.013</td> <td>   -1.561</td> <td> 0.119</td> <td>   -0.044</td> <td>    0.005</td>\n",
       "</tr>\n",
       "<tr>\n",
       "  <th>ar.L2.norm_ret</th> <td>   -0.0506</td> <td>    0.013</td> <td>   -4.011</td> <td> 0.000</td> <td>   -0.075</td> <td>   -0.026</td>\n",
       "</tr>\n",
       "<tr>\n",
       "  <th>ar.L3.norm_ret</th> <td>   -0.0724</td> <td>    0.013</td> <td>   -5.740</td> <td> 0.000</td> <td>   -0.097</td> <td>   -0.048</td>\n",
       "</tr>\n",
       "<tr>\n",
       "  <th>ar.L4.norm_ret</th> <td>    0.0281</td> <td>    0.013</td> <td>    2.224</td> <td> 0.026</td> <td>    0.003</td> <td>    0.053</td>\n",
       "</tr>\n",
       "<tr>\n",
       "  <th>ar.L5.norm_ret</th> <td>   -0.0580</td> <td>    0.013</td> <td>   -4.598</td> <td> 0.000</td> <td>   -0.083</td> <td>   -0.033</td>\n",
       "</tr>\n",
       "<tr>\n",
       "  <th>ar.L6.norm_ret</th> <td>   -0.0359</td> <td>    0.013</td> <td>   -2.844</td> <td> 0.004</td> <td>   -0.061</td> <td>   -0.011</td>\n",
       "</tr>\n",
       "<tr>\n",
       "  <th>ar.L7.norm_ret</th> <td>    0.0076</td> <td>    0.013</td> <td>    0.606</td> <td> 0.544</td> <td>   -0.017</td> <td>    0.032</td>\n",
       "</tr>\n",
       "</table>\n",
       "<table class=\"simpletable\">\n",
       "<caption>Roots</caption>\n",
       "<tr>\n",
       "    <td></td>   <th>            Real</th>  <th>         Imaginary</th> <th>         Modulus</th>  <th>        Frequency</th>\n",
       "</tr>\n",
       "<tr>\n",
       "  <th>AR.1</th> <td>          -1.7554</td> <td>          -0.5583j</td> <td>           1.8421</td> <td>          -0.4510</td>\n",
       "</tr>\n",
       "<tr>\n",
       "  <th>AR.2</th> <td>          -1.7554</td> <td>          +0.5583j</td> <td>           1.8421</td> <td>           0.4510</td>\n",
       "</tr>\n",
       "<tr>\n",
       "  <th>AR.3</th> <td>          -0.1529</td> <td>          -1.5557j</td> <td>           1.5632</td> <td>          -0.2656</td>\n",
       "</tr>\n",
       "<tr>\n",
       "  <th>AR.4</th> <td>          -0.1529</td> <td>          +1.5557j</td> <td>           1.5632</td> <td>           0.2656</td>\n",
       "</tr>\n",
       "<tr>\n",
       "  <th>AR.5</th> <td>           1.2934</td> <td>          -0.9953j</td> <td>           1.6320</td> <td>          -0.1044</td>\n",
       "</tr>\n",
       "<tr>\n",
       "  <th>AR.6</th> <td>           1.2934</td> <td>          +0.9953j</td> <td>           1.6320</td> <td>           0.1044</td>\n",
       "</tr>\n",
       "<tr>\n",
       "  <th>AR.7</th> <td>           5.9207</td> <td>          -0.0000j</td> <td>           5.9207</td> <td>          -0.0000</td>\n",
       "</tr>\n",
       "</table>"
      ],
      "text/plain": [
       "<class 'statsmodels.iolib.summary.Summary'>\n",
       "\"\"\"\n",
       "                              ARMA Model Results                              \n",
       "==============================================================================\n",
       "Dep. Variable:               norm_ret   No. Observations:                 6276\n",
       "Model:                     ARMA(7, 0)   Log Likelihood                 224.202\n",
       "Method:                       css-mle   S.D. of innovations              0.233\n",
       "Date:                Mon, 19 Oct 2020   AIC                           -430.403\n",
       "Time:                        10:59:04   BIC                           -369.703\n",
       "Sample:                    01-10-1994   HQIC                          -409.371\n",
       "                         - 01-29-2018                                         \n",
       "==================================================================================\n",
       "                     coef    std err          z      P>|z|      [0.025      0.975]\n",
       "----------------------------------------------------------------------------------\n",
       "const              0.0040      0.002      1.631      0.103      -0.001       0.009\n",
       "ar.L1.norm_ret    -0.0197      0.013     -1.561      0.119      -0.044       0.005\n",
       "ar.L2.norm_ret    -0.0506      0.013     -4.011      0.000      -0.075      -0.026\n",
       "ar.L3.norm_ret    -0.0724      0.013     -5.740      0.000      -0.097      -0.048\n",
       "ar.L4.norm_ret     0.0281      0.013      2.224      0.026       0.003       0.053\n",
       "ar.L5.norm_ret    -0.0580      0.013     -4.598      0.000      -0.083      -0.033\n",
       "ar.L6.norm_ret    -0.0359      0.013     -2.844      0.004      -0.061      -0.011\n",
       "ar.L7.norm_ret     0.0076      0.013      0.606      0.544      -0.017       0.032\n",
       "                                    Roots                                    \n",
       "=============================================================================\n",
       "                  Real          Imaginary           Modulus         Frequency\n",
       "-----------------------------------------------------------------------------\n",
       "AR.1           -1.7554           -0.5583j            1.8421           -0.4510\n",
       "AR.2           -1.7554           +0.5583j            1.8421            0.4510\n",
       "AR.3           -0.1529           -1.5557j            1.5632           -0.2656\n",
       "AR.4           -0.1529           +1.5557j            1.5632            0.2656\n",
       "AR.5            1.2934           -0.9953j            1.6320           -0.1044\n",
       "AR.6            1.2934           +0.9953j            1.6320            0.1044\n",
       "AR.7            5.9207           -0.0000j            5.9207           -0.0000\n",
       "-----------------------------------------------------------------------------\n",
       "\"\"\""
      ]
     },
     "execution_count": 65,
     "metadata": {},
     "output_type": "execute_result"
    }
   ],
   "source": [
    "model_norm_ret_ar7 = ARMA(df.norm_ret, order = (7,0))\n",
    "results7 = model_norm_ret_ar7.fit()\n",
    "results7.summary()"
   ]
  },
  {
   "cell_type": "markdown",
   "metadata": {},
   "source": [
    "## Analysing the residuals of Returns"
   ]
  },
  {
   "cell_type": "code",
   "execution_count": 66,
   "metadata": {},
   "outputs": [],
   "source": [
    "df['res_price'] = model_ret_ar7.fit().resid[1:]"
   ]
  },
  {
   "cell_type": "code",
   "execution_count": 67,
   "metadata": {},
   "outputs": [
    {
     "data": {
      "text/plain": [
       "-1.2183791291530611e-05"
      ]
     },
     "execution_count": 67,
     "metadata": {},
     "output_type": "execute_result"
    }
   ],
   "source": [
    "df.res_price.mean()"
   ]
  },
  {
   "cell_type": "code",
   "execution_count": 68,
   "metadata": {},
   "outputs": [
    {
     "data": {
      "text/plain": [
       "1.2317213345088793"
      ]
     },
     "execution_count": 68,
     "metadata": {},
     "output_type": "execute_result"
    }
   ],
   "source": [
    "df.res_price.var()"
   ]
  },
  {
   "cell_type": "code",
   "execution_count": 69,
   "metadata": {},
   "outputs": [
    {
     "data": {
      "text/plain": [
       "(-15.016888558799774,\n",
       " 1.0358774648200918e-27,\n",
       " 34,\n",
       " 6239,\n",
       " {'1%': -3.43139856427888,\n",
       "  '5%': -2.8620033722813014,\n",
       "  '10%': -2.567016650141434},\n",
       " 19019.78091770876)"
      ]
     },
     "execution_count": 69,
     "metadata": {},
     "output_type": "execute_result"
    }
   ],
   "source": [
    "sts.adfuller(df.res_price[2:])"
   ]
  },
  {
   "cell_type": "markdown",
   "metadata": {},
   "source": [
    "The residuals are stationary."
   ]
  },
  {
   "cell_type": "code",
   "execution_count": 70,
   "metadata": {},
   "outputs": [
    {
     "data": {
      "image/png": "[encoded data removed]",
      "text/plain": [
       "<Figure size 432x288 with 1 Axes>"
      ]
     },
     "metadata": {
      "needs_background": "light"
     },
     "output_type": "display_data"
    }
   ],
   "source": [
    "#\n",
    "sgt.plot_acf(df.res_price[2:], lags = 40, zero = False)\n",
    "plt.show()"
   ]
  },
  {
   "cell_type": "code",
   "execution_count": 71,
   "metadata": {},
   "outputs": [
    {
     "data": {
      "image/png": "[encoded data removed]",
      "text/plain": [
       "<Figure size 432x288 with 1 Axes>"
      ]
     },
     "metadata": {
      "needs_background": "light"
     },
     "output_type": "display_data"
    }
   ],
   "source": [
    "# \n",
    "sgt.plot_pacf(df.res_price[2:], lags = 40, zero = False)\n",
    "plt.show()"
   ]
  },
  {
   "cell_type": "code",
   "execution_count": 72,
   "metadata": {},
   "outputs": [
    {
     "data": {
      "image/png": "[encoded data removed]",
      "text/plain": [
       "<Figure size 1440x360 with 1 Axes>"
      ]
     },
     "metadata": {
      "needs_background": "light"
     },
     "output_type": "display_data"
    }
   ],
   "source": [
    "#Residuals \n",
    "df.res_price.plot(figsize = (20,5))\n",
    "plt.title(\"Plot of Residuals\", size = 18);"
   ]
  },
  {
   "cell_type": "code",
   "execution_count": null,
   "metadata": {},
   "outputs": [],
   "source": []
  }
 ],
 "metadata": {
  "kernelspec": {
   "display_name": "Python 3",
   "language": "python",
   "name": "python3"
  },
  "language_info": {
   "codemirror_mode": {
    "name": "ipython",
    "version": 3
   },
   "file_extension": ".py",
   "mimetype": "text/x-python",
   "name": "python",
   "nbconvert_exporter": "python",
   "pygments_lexer": "ipython3",
   "version": "3.7.6"
  }
 },
 "nbformat": 4,
 "nbformat_minor": 4
}
