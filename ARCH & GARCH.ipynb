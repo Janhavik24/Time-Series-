{
 "cells": [
  {
   "cell_type": "markdown",
   "metadata": {},
   "source": [
    "## Autoregressive Conditional Heteroskedasticity (ARCH) Model.\n",
    "These models are specifically used to test volatility of the time series i.e the numeric measure of uncertainty."
   ]
  },
  {
   "cell_type": "code",
   "execution_count": 1,
   "metadata": {},
   "outputs": [],
   "source": [
    "import pandas as pd\n",
    "import numpy as np\n",
    "import matplotlib.pyplot as plt\n",
    "import statsmodels.graphics.tsaplots as sgt\n",
    "import statsmodels.tsa.stattools as sts\n",
    "from statsmodels.tsa.arima_model import ARMA\n",
    "from scipy.stats.distributions import chi2\n",
    "from math import sqrt\n",
    "import seaborn as sns\n",
    "sns.set()"
   ]
  },
  {
   "cell_type": "code",
   "execution_count": 2,
   "metadata": {},
   "outputs": [
    {
     "data": {
      "text/html": [
       "<div>\n",
       "<style scoped>\n",
       "    .dataframe tbody tr th:only-of-type {\n",
       "        vertical-align: middle;\n",
       "    }\n",
       "\n",
       "    .dataframe tbody tr th {\n",
       "        vertical-align: top;\n",
       "    }\n",
       "\n",
       "    .dataframe thead th {\n",
       "        text-align: right;\n",
       "    }\n",
       "</style>\n",
       "<table border=\"1\" class=\"dataframe\">\n",
       "  <thead>\n",
       "    <tr style=\"text-align: right;\">\n",
       "      <th></th>\n",
       "      <th>spx</th>\n",
       "      <th>dax</th>\n",
       "      <th>ftse</th>\n",
       "      <th>nikkei</th>\n",
       "    </tr>\n",
       "    <tr>\n",
       "      <th>date</th>\n",
       "      <th></th>\n",
       "      <th></th>\n",
       "      <th></th>\n",
       "      <th></th>\n",
       "    </tr>\n",
       "  </thead>\n",
       "  <tbody>\n",
       "    <tr>\n",
       "      <th>1994-01-07</th>\n",
       "      <td>469.90</td>\n",
       "      <td>2224.95</td>\n",
       "      <td>3445.98</td>\n",
       "      <td>18124.01</td>\n",
       "    </tr>\n",
       "    <tr>\n",
       "      <th>1994-01-10</th>\n",
       "      <td>475.27</td>\n",
       "      <td>2225.00</td>\n",
       "      <td>3440.58</td>\n",
       "      <td>18443.44</td>\n",
       "    </tr>\n",
       "    <tr>\n",
       "      <th>1994-01-11</th>\n",
       "      <td>474.13</td>\n",
       "      <td>2228.10</td>\n",
       "      <td>3413.77</td>\n",
       "      <td>18485.25</td>\n",
       "    </tr>\n",
       "    <tr>\n",
       "      <th>1994-01-12</th>\n",
       "      <td>474.17</td>\n",
       "      <td>2182.06</td>\n",
       "      <td>3372.02</td>\n",
       "      <td>18793.88</td>\n",
       "    </tr>\n",
       "    <tr>\n",
       "      <th>1994-01-13</th>\n",
       "      <td>472.47</td>\n",
       "      <td>2142.37</td>\n",
       "      <td>3360.01</td>\n",
       "      <td>18577.26</td>\n",
       "    </tr>\n",
       "  </tbody>\n",
       "</table>\n",
       "</div>"
      ],
      "text/plain": [
       "               spx      dax     ftse    nikkei\n",
       "date                                          \n",
       "1994-01-07  469.90  2224.95  3445.98  18124.01\n",
       "1994-01-10  475.27  2225.00  3440.58  18443.44\n",
       "1994-01-11  474.13  2228.10  3413.77  18485.25\n",
       "1994-01-12  474.17  2182.06  3372.02  18793.88\n",
       "1994-01-13  472.47  2142.37  3360.01  18577.26"
      ]
     },
     "execution_count": 2,
     "metadata": {},
     "output_type": "execute_result"
    }
   ],
   "source": [
    "df = pd.read_csv(r\"Downloads\\Index2018.csv\")\n",
    "df_copy = df.copy()\n",
    "df_copy.date = pd.to_datetime(df_copy.date, dayfirst = True)\n",
    "df_copy.set_index('date', inplace = True)\n",
    "df_copy = df_copy.asfreq('b')\n",
    "df_copy = df_copy.fillna(method = 'ffill')\n",
    "df_copy.head()"
   ]
  },
  {
   "cell_type": "code",
   "execution_count": 3,
   "metadata": {},
   "outputs": [],
   "source": [
    "df_copy['market_val'] = df_copy.ftse"
   ]
  },
  {
   "cell_type": "code",
   "execution_count": 4,
   "metadata": {},
   "outputs": [
    {
     "data": {
      "text/html": [
       "<div>\n",
       "<style scoped>\n",
       "    .dataframe tbody tr th:only-of-type {\n",
       "        vertical-align: middle;\n",
       "    }\n",
       "\n",
       "    .dataframe tbody tr th {\n",
       "        vertical-align: top;\n",
       "    }\n",
       "\n",
       "    .dataframe thead th {\n",
       "        text-align: right;\n",
       "    }\n",
       "</style>\n",
       "<table border=\"1\" class=\"dataframe\">\n",
       "  <thead>\n",
       "    <tr style=\"text-align: right;\">\n",
       "      <th></th>\n",
       "      <th>spx</th>\n",
       "      <th>market_val</th>\n",
       "    </tr>\n",
       "    <tr>\n",
       "      <th>date</th>\n",
       "      <th></th>\n",
       "      <th></th>\n",
       "    </tr>\n",
       "  </thead>\n",
       "  <tbody>\n",
       "    <tr>\n",
       "      <th>1994-01-07</th>\n",
       "      <td>469.90</td>\n",
       "      <td>3445.98</td>\n",
       "    </tr>\n",
       "    <tr>\n",
       "      <th>1994-01-10</th>\n",
       "      <td>475.27</td>\n",
       "      <td>3440.58</td>\n",
       "    </tr>\n",
       "    <tr>\n",
       "      <th>1994-01-11</th>\n",
       "      <td>474.13</td>\n",
       "      <td>3413.77</td>\n",
       "    </tr>\n",
       "    <tr>\n",
       "      <th>1994-01-12</th>\n",
       "      <td>474.17</td>\n",
       "      <td>3372.02</td>\n",
       "    </tr>\n",
       "    <tr>\n",
       "      <th>1994-01-13</th>\n",
       "      <td>472.47</td>\n",
       "      <td>3360.01</td>\n",
       "    </tr>\n",
       "  </tbody>\n",
       "</table>\n",
       "</div>"
      ],
      "text/plain": [
       "               spx  market_val\n",
       "date                          \n",
       "1994-01-07  469.90     3445.98\n",
       "1994-01-10  475.27     3440.58\n",
       "1994-01-11  474.13     3413.77\n",
       "1994-01-12  474.17     3372.02\n",
       "1994-01-13  472.47     3360.01"
      ]
     },
     "execution_count": 4,
     "metadata": {},
     "output_type": "execute_result"
    }
   ],
   "source": [
    "df_copy = df_copy.drop(['dax', 'ftse', 'nikkei'], axis = 1)\n",
    "df_copy.head()"
   ]
  },
  {
   "cell_type": "markdown",
   "metadata": {},
   "source": [
    "## LLR Test"
   ]
  },
  {
   "cell_type": "code",
   "execution_count": 5,
   "metadata": {},
   "outputs": [],
   "source": [
    "def LLR_test(mod_1, mod_2, DF=1):\n",
    "    L1 = mod_1.fit().llf\n",
    "    L2 = mod_2.fit().llf\n",
    "    LR = (2*(L2-L1))\n",
    "    p = chi2.sf(LR, DF).round(3)\n",
    "    return p"
   ]
  },
  {
   "cell_type": "markdown",
   "metadata": {},
   "source": [
    "## Creating Returns"
   ]
  },
  {
   "cell_type": "code",
   "execution_count": 6,
   "metadata": {},
   "outputs": [],
   "source": [
    "df_copy['returns'] = df_copy.market_val.pct_change(1).mul(100)"
   ]
  },
  {
   "cell_type": "markdown",
   "metadata": {},
   "source": [
    "## Creating Squared Returns"
   ]
  },
  {
   "cell_type": "code",
   "execution_count": 7,
   "metadata": {},
   "outputs": [],
   "source": [
    "df_copy['sq_returns'] = df_copy.returns.mul(df_copy.returns)"
   ]
  },
  {
   "cell_type": "markdown",
   "metadata": {},
   "source": [
    "## Returns Vs Squared Returns"
   ]
  },
  {
   "cell_type": "code",
   "execution_count": 8,
   "metadata": {},
   "outputs": [
    {
     "data": {
      "image/png": "[encoded data removed]",
      "text/plain": [
       "<Figure size 1440x360 with 1 Axes>"
      ]
     },
     "metadata": {},
     "output_type": "display_data"
    }
   ],
   "source": [
    "df_copy.returns.plot(figsize = (20,5))\n",
    "plt.title(\"Plot of Returns\", size = 20)\n",
    "plt.show()"
   ]
  },
  {
   "cell_type": "code",
   "execution_count": 9,
   "metadata": {},
   "outputs": [
    {
     "data": {
      "image/png": "[encoded data removed]",
      "text/plain": [
       "<Figure size 1440x360 with 1 Axes>"
      ]
     },
     "metadata": {},
     "output_type": "display_data"
    }
   ],
   "source": [
    "df_copy.sq_returns.plot(figsize = (20,5))\n",
    "plt.title(\"Volatility\", size = 20)\n",
    "plt.show()"
   ]
  },
  {
   "cell_type": "code",
   "execution_count": 10,
   "metadata": {},
   "outputs": [
    {
     "data": {
      "image/png": "[encoded data removed]",
      "text/plain": [
       "<Figure size 432x288 with 1 Axes>"
      ]
     },
     "metadata": {},
     "output_type": "display_data"
    },
    {
     "data": {
      "image/png": "[encoded data removed]",
      "text/plain": [
       "<Figure size 432x288 with 1 Axes>"
      ]
     },
     "metadata": {},
     "output_type": "display_data"
    }
   ],
   "source": [
    "sgt.plot_pacf(df_copy.returns[1:], zero = False, alpha = 0.05, lags = 40, method = 'ols')\n",
    "plt.title(\"PACF of Returns\", size = 24);\n",
    "sgt.plot_pacf(df_copy.sq_returns[1:], zero = False, alpha = 0.05, lags = 40, method = 'ols')\n",
    "plt.title(\"PACF of Volatility\", size = 24);"
   ]
  },
  {
   "cell_type": "markdown",
   "metadata": {},
   "source": [
    "## arch_model() Method"
   ]
  },
  {
   "cell_type": "code",
   "execution_count": 11,
   "metadata": {},
   "outputs": [],
   "source": [
    "from arch import arch_model"
   ]
  },
  {
   "cell_type": "code",
   "execution_count": 12,
   "metadata": {},
   "outputs": [
    {
     "name": "stdout",
     "output_type": "stream",
     "text": [
      "Iteration:      5,   Func. Count:     34,   Neg. LLF: 9236.603944308481\n",
      "Optimization terminated successfully.    (Exit mode 0)\n",
      "            Current function value: 9236.603925075255\n",
      "            Iterations: 6\n",
      "            Function evaluations: 39\n",
      "            Gradient evaluations: 6\n"
     ]
    },
    {
     "data": {
      "text/html": [
       "<table class=\"simpletable\">\n",
       "<caption>Constant Mean - ARCH Model Results</caption>\n",
       "<tr>\n",
       "  <th>Dep. Variable:</th>       <td>returns</td>      <th>  R-squared:         </th>  <td>  -0.000</td> \n",
       "</tr>\n",
       "<tr>\n",
       "  <th>Mean Model:</th>       <td>Constant Mean</td>   <th>  Adj. R-squared:    </th>  <td>  -0.000</td> \n",
       "</tr>\n",
       "<tr>\n",
       "  <th>Vol Model:</th>            <td>ARCH</td>        <th>  Log-Likelihood:    </th> <td>  -9236.60</td>\n",
       "</tr>\n",
       "<tr>\n",
       "  <th>Distribution:</th>        <td>Normal</td>       <th>  AIC:               </th> <td>   18479.2</td>\n",
       "</tr>\n",
       "<tr>\n",
       "  <th>Method:</th>        <td>Maximum Likelihood</td> <th>  BIC:               </th> <td>   18499.4</td>\n",
       "</tr>\n",
       "<tr>\n",
       "  <th></th>                        <td></td>          <th>  No. Observations:  </th>    <td>6276</td>   \n",
       "</tr>\n",
       "<tr>\n",
       "  <th>Date:</th>           <td>Sun, Oct 25 2020</td>  <th>  Df Residuals:      </th>    <td>6273</td>   \n",
       "</tr>\n",
       "<tr>\n",
       "  <th>Time:</th>               <td>00:20:33</td>      <th>  Df Model:          </th>      <td>3</td>    \n",
       "</tr>\n",
       "</table>\n",
       "<table class=\"simpletable\">\n",
       "<caption>Mean Model</caption>\n",
       "<tr>\n",
       "   <td></td>     <th>coef</th>     <th>std err</th>      <th>t</th>       <th>P>|t|</th>     <th>95.0% Conf. Int.</th>   \n",
       "</tr>\n",
       "<tr>\n",
       "  <th>mu</th> <td>    0.0350</td> <td>1.366e-02</td> <td>    2.564</td> <td>1.036e-02</td> <td>[8.244e-03,6.178e-02]</td>\n",
       "</tr>\n",
       "</table>\n",
       "<table class=\"simpletable\">\n",
       "<caption>Volatility Model</caption>\n",
       "<tr>\n",
       "      <td></td>        <th>coef</th>     <th>std err</th>      <th>t</th>        <th>P>|t|</th>   <th>95.0% Conf. Int.</th> \n",
       "</tr>\n",
       "<tr>\n",
       "  <th>omega</th>    <td>    0.8175</td> <td>3.463e-02</td> <td>   23.607</td> <td>3.267e-123</td> <td>[  0.750,  0.885]</td>\n",
       "</tr>\n",
       "<tr>\n",
       "  <th>alpha[1]</th> <td>    0.3818</td> <td>4.570e-02</td> <td>    8.355</td>  <td>6.529e-17</td> <td>[  0.292,  0.471]</td>\n",
       "</tr>\n",
       "</table><br/><br/>Covariance estimator: robust"
      ],
      "text/plain": [
       "<class 'statsmodels.iolib.summary.Summary'>\n",
       "\"\"\"\n",
       "                      Constant Mean - ARCH Model Results                      \n",
       "==============================================================================\n",
       "Dep. Variable:                returns   R-squared:                      -0.000\n",
       "Mean Model:             Constant Mean   Adj. R-squared:                 -0.000\n",
       "Vol Model:                       ARCH   Log-Likelihood:               -9236.60\n",
       "Distribution:                  Normal   AIC:                           18479.2\n",
       "Method:            Maximum Likelihood   BIC:                           18499.4\n",
       "                                        No. Observations:                 6276\n",
       "Date:                Sun, Oct 25 2020   Df Residuals:                     6273\n",
       "Time:                        00:20:33   Df Model:                            3\n",
       "                                 Mean Model                                 \n",
       "============================================================================\n",
       "                 coef    std err          t      P>|t|      95.0% Conf. Int.\n",
       "----------------------------------------------------------------------------\n",
       "mu             0.0350  1.366e-02      2.564  1.036e-02 [8.244e-03,6.178e-02]\n",
       "                            Volatility Model                            \n",
       "========================================================================\n",
       "                 coef    std err          t      P>|t|  95.0% Conf. Int.\n",
       "------------------------------------------------------------------------\n",
       "omega          0.8175  3.463e-02     23.607 3.267e-123 [  0.750,  0.885]\n",
       "alpha[1]       0.3818  4.570e-02      8.355  6.529e-17 [  0.292,  0.471]\n",
       "========================================================================\n",
       "\n",
       "Covariance estimator: robust\n",
       "\"\"\""
      ]
     },
     "execution_count": 12,
     "metadata": {},
     "output_type": "execute_result"
    }
   ],
   "source": [
    "model_arch_1 = arch_model(df_copy.returns[1:], mean = \"Constant\", vol = \"ARCH\", p = 1)\n",
    "result_arch_1 = model_arch_1.fit(update_freq = 5)\n",
    "result_arch_1.summary()"
   ]
  },
  {
   "cell_type": "code",
   "execution_count": 13,
   "metadata": {},
   "outputs": [
    {
     "name": "stdout",
     "output_type": "stream",
     "text": [
      "Iteration:      5,   Func. Count:     56,   Neg. LLF: 8902.311316242787\n",
      "Iteration:     10,   Func. Count:    110,   Neg. LLF: 8807.782430847921\n",
      "Iteration:     15,   Func. Count:    158,   Neg. LLF: 8802.51856643729\n",
      "Iteration:     20,   Func. Count:    205,   Neg. LLF: 8802.51517237489\n",
      "Optimization terminated successfully.    (Exit mode 0)\n",
      "            Current function value: 8802.515134560725\n",
      "            Iterations: 24\n",
      "            Function evaluations: 244\n",
      "            Gradient evaluations: 24\n"
     ]
    },
    {
     "data": {
      "text/html": [
       "<table class=\"simpletable\">\n",
       "<caption>AR - ARCH Model Results</caption>\n",
       "<tr>\n",
       "  <th>Dep. Variable:</th>             <td>returns</td>            <th>  R-squared:         </th>  <td>   0.005</td> \n",
       "</tr>\n",
       "<tr>\n",
       "  <th>Mean Model:</th>                  <td>AR</td>               <th>  Adj. R-squared:    </th>  <td>   0.004</td> \n",
       "</tr>\n",
       "<tr>\n",
       "  <th>Vol Model:</th>                  <td>ARCH</td>              <th>  Log-Likelihood:    </th> <td>  -8802.52</td>\n",
       "</tr>\n",
       "<tr>\n",
       "  <th>Distribution:</th>  <td>Generalized Error Distribution</td> <th>  AIC:               </th> <td>   17619.0</td>\n",
       "</tr>\n",
       "<tr>\n",
       "  <th>Method:</th>              <td>Maximum Likelihood</td>       <th>  BIC:               </th> <td>   17666.2</td>\n",
       "</tr>\n",
       "<tr>\n",
       "  <th></th>                              <td></td>                <th>  No. Observations:  </th>    <td>6270</td>   \n",
       "</tr>\n",
       "<tr>\n",
       "  <th>Date:</th>                 <td>Sun, Oct 25 2020</td>        <th>  Df Residuals:      </th>    <td>6263</td>   \n",
       "</tr>\n",
       "<tr>\n",
       "  <th>Time:</th>                     <td>00:20:33</td>            <th>  Df Model:          </th>      <td>7</td>    \n",
       "</tr>\n",
       "</table>\n",
       "<table class=\"simpletable\">\n",
       "<caption>Mean Model</caption>\n",
       "<tr>\n",
       "       <td></td>         <th>coef</th>     <th>std err</th>      <th>t</th>       <th>P>|t|</th>      <th>95.0% Conf. Int.</th>    \n",
       "</tr>\n",
       "<tr>\n",
       "  <th>Const</th>      <td>    0.0412</td> <td>1.463e-02</td> <td>    2.813</td> <td>4.906e-03</td>  <td>[1.249e-02,6.985e-02]</td> \n",
       "</tr>\n",
       "<tr>\n",
       "  <th>returns[2]</th> <td>   -0.0343</td> <td>1.479e-02</td> <td>   -2.319</td> <td>2.038e-02</td> <td>[-6.327e-02,-5.313e-03]</td>\n",
       "</tr>\n",
       "<tr>\n",
       "  <th>returns[3]</th> <td>   -0.0208</td> <td>8.153e-03</td> <td>   -2.549</td> <td>1.080e-02</td> <td>[-3.676e-02,-4.803e-03]</td>\n",
       "</tr>\n",
       "<tr>\n",
       "  <th>returns[6]</th> <td>   -0.0149</td> <td>1.483e-02</td> <td>   -1.002</td> <td>    0.316</td> <td>[-4.392e-02,1.421e-02]</td> \n",
       "</tr>\n",
       "</table>\n",
       "<table class=\"simpletable\">\n",
       "<caption>Volatility Model</caption>\n",
       "<tr>\n",
       "      <td></td>        <th>coef</th>     <th>std err</th>      <th>t</th>        <th>P>|t|</th>   <th>95.0% Conf. Int.</th> \n",
       "</tr>\n",
       "<tr>\n",
       "  <th>omega</th>    <td>    0.8107</td> <td>2.971e-02</td> <td>   27.284</td> <td>6.654e-164</td> <td>[  0.752,  0.869]</td>\n",
       "</tr>\n",
       "<tr>\n",
       "  <th>alpha[1]</th> <td>    0.3667</td> <td>3.551e-02</td> <td>   10.327</td>  <td>5.327e-25</td> <td>[  0.297,  0.436]</td>\n",
       "</tr>\n",
       "</table>\n",
       "<table class=\"simpletable\">\n",
       "<caption>Distribution</caption>\n",
       "<tr>\n",
       "   <td></td>     <th>coef</th>     <th>std err</th>      <th>t</th>        <th>P>|t|</th>   <th>95.0% Conf. Int.</th> \n",
       "</tr>\n",
       "<tr>\n",
       "  <th>nu</th> <td>    1.0537</td> <td>2.808e-02</td> <td>   37.533</td> <td>2.699e-308</td> <td>[  0.999,  1.109]</td>\n",
       "</tr>\n",
       "</table><br/><br/>Covariance estimator: robust"
      ],
      "text/plain": [
       "<class 'statsmodels.iolib.summary.Summary'>\n",
       "\"\"\"\n",
       "                                 AR - ARCH Model Results                                  \n",
       "==========================================================================================\n",
       "Dep. Variable:                            returns   R-squared:                       0.005\n",
       "Mean Model:                                    AR   Adj. R-squared:                  0.004\n",
       "Vol Model:                                   ARCH   Log-Likelihood:               -8802.52\n",
       "Distribution:      Generalized Error Distribution   AIC:                           17619.0\n",
       "Method:                        Maximum Likelihood   BIC:                           17666.2\n",
       "                                                    No. Observations:                 6270\n",
       "Date:                            Sun, Oct 25 2020   Df Residuals:                     6263\n",
       "Time:                                    00:20:33   Df Model:                            7\n",
       "                                  Mean Model                                  \n",
       "==============================================================================\n",
       "                 coef    std err          t      P>|t|        95.0% Conf. Int.\n",
       "------------------------------------------------------------------------------\n",
       "Const          0.0412  1.463e-02      2.813  4.906e-03   [1.249e-02,6.985e-02]\n",
       "returns[2]    -0.0343  1.479e-02     -2.319  2.038e-02 [-6.327e-02,-5.313e-03]\n",
       "returns[3]    -0.0208  8.153e-03     -2.549  1.080e-02 [-3.676e-02,-4.803e-03]\n",
       "returns[6]    -0.0149  1.483e-02     -1.002      0.316  [-4.392e-02,1.421e-02]\n",
       "                            Volatility Model                            \n",
       "========================================================================\n",
       "                 coef    std err          t      P>|t|  95.0% Conf. Int.\n",
       "------------------------------------------------------------------------\n",
       "omega          0.8107  2.971e-02     27.284 6.654e-164 [  0.752,  0.869]\n",
       "alpha[1]       0.3667  3.551e-02     10.327  5.327e-25 [  0.297,  0.436]\n",
       "                              Distribution                              \n",
       "========================================================================\n",
       "                 coef    std err          t      P>|t|  95.0% Conf. Int.\n",
       "------------------------------------------------------------------------\n",
       "nu             1.0537  2.808e-02     37.533 2.699e-308 [  0.999,  1.109]\n",
       "========================================================================\n",
       "\n",
       "Covariance estimator: robust\n",
       "\"\"\""
      ]
     },
     "execution_count": 13,
     "metadata": {},
     "output_type": "execute_result"
    }
   ],
   "source": [
    "model_arch_1 = arch_model(df_copy.returns[1:], mean = \"AR\", lags = [2,3,6], vol = \"ARCH\", p = 1, dist = \"ged\")\n",
    "result_arch_1 = model_arch_1.fit(update_freq = 5)\n",
    "result_arch_1.summary()"
   ]
  },
  {
   "cell_type": "code",
   "execution_count": 14,
   "metadata": {},
   "outputs": [
    {
     "name": "stdout",
     "output_type": "stream",
     "text": [
      "Iteration:      5,   Func. Count:     58,   Neg. LLF: 8842.004440314315\n",
      "Iteration:     10,   Func. Count:    111,   Neg. LLF: 8824.493458554454\n",
      "Iteration:     15,   Func. Count:    159,   Neg. LLF: 8820.169866504006\n",
      "Optimization terminated successfully.    (Exit mode 0)\n",
      "            Current function value: 8820.169662261087\n",
      "            Iterations: 17\n",
      "            Function evaluations: 177\n",
      "            Gradient evaluations: 17\n"
     ]
    },
    {
     "data": {
      "text/html": [
       "<table class=\"simpletable\">\n",
       "<caption>AR - ARCH Model Results</caption>\n",
       "<tr>\n",
       "  <th>Dep. Variable:</th>          <td>returns</td>         <th>  R-squared:         </th>  <td>   0.004</td> \n",
       "</tr>\n",
       "<tr>\n",
       "  <th>Mean Model:</th>               <td>AR</td>            <th>  Adj. R-squared:    </th>  <td>   0.004</td> \n",
       "</tr>\n",
       "<tr>\n",
       "  <th>Vol Model:</th>               <td>ARCH</td>           <th>  Log-Likelihood:    </th> <td>  -8820.17</td>\n",
       "</tr>\n",
       "<tr>\n",
       "  <th>Distribution:</th>  <td>Standardized Student's t</td> <th>  AIC:               </th> <td>   17654.3</td>\n",
       "</tr>\n",
       "<tr>\n",
       "  <th>Method:</th>           <td>Maximum Likelihood</td>    <th>  BIC:               </th> <td>   17701.5</td>\n",
       "</tr>\n",
       "<tr>\n",
       "  <th></th>                           <td></td>             <th>  No. Observations:  </th>    <td>6270</td>   \n",
       "</tr>\n",
       "<tr>\n",
       "  <th>Date:</th>              <td>Sun, Oct 25 2020</td>     <th>  Df Residuals:      </th>    <td>6263</td>   \n",
       "</tr>\n",
       "<tr>\n",
       "  <th>Time:</th>                  <td>00:20:33</td>         <th>  Df Model:          </th>      <td>7</td>    \n",
       "</tr>\n",
       "</table>\n",
       "<table class=\"simpletable\">\n",
       "<caption>Mean Model</caption>\n",
       "<tr>\n",
       "       <td></td>         <th>coef</th>     <th>std err</th>      <th>t</th>       <th>P>|t|</th>      <th>95.0% Conf. Int.</th>    \n",
       "</tr>\n",
       "<tr>\n",
       "  <th>Const</th>      <td>    0.0530</td> <td>1.105e-02</td> <td>    4.797</td> <td>1.611e-06</td>  <td>[3.134e-02,7.463e-02]</td> \n",
       "</tr>\n",
       "<tr>\n",
       "  <th>returns[2]</th> <td>   -0.0344</td> <td>1.610e-02</td> <td>   -2.136</td> <td>3.266e-02</td> <td>[-6.595e-02,-2.838e-03]</td>\n",
       "</tr>\n",
       "<tr>\n",
       "  <th>returns[3]</th> <td>   -0.0191</td> <td>1.656e-02</td> <td>   -1.156</td> <td>    0.248</td> <td>[-5.160e-02,1.332e-02]</td> \n",
       "</tr>\n",
       "<tr>\n",
       "  <th>returns[6]</th> <td>   -0.0259</td> <td>1.640e-02</td> <td>   -1.577</td> <td>    0.115</td> <td>[-5.799e-02,6.282e-03]</td> \n",
       "</tr>\n",
       "</table>\n",
       "<table class=\"simpletable\">\n",
       "<caption>Volatility Model</caption>\n",
       "<tr>\n",
       "      <td></td>        <th>coef</th>     <th>std err</th>      <th>t</th>        <th>P>|t|</th>   <th>95.0% Conf. Int.</th> \n",
       "</tr>\n",
       "<tr>\n",
       "  <th>omega</th>    <td>    0.8943</td> <td>4.163e-02</td> <td>   21.483</td> <td>2.247e-102</td> <td>[  0.813,  0.976]</td>\n",
       "</tr>\n",
       "<tr>\n",
       "  <th>alpha[1]</th> <td>    0.3930</td> <td>3.938e-02</td> <td>    9.979</td>  <td>1.881e-23</td> <td>[  0.316,  0.470]</td>\n",
       "</tr>\n",
       "</table>\n",
       "<table class=\"simpletable\">\n",
       "<caption>Distribution</caption>\n",
       "<tr>\n",
       "   <td></td>     <th>coef</th>     <th>std err</th>      <th>t</th>       <th>P>|t|</th>   <th>95.0% Conf. Int.</th> \n",
       "</tr>\n",
       "<tr>\n",
       "  <th>nu</th> <td>    3.7070</td> <td>    0.183</td> <td>   20.203</td> <td>9.201e-91</td> <td>[  3.347,  4.067]</td>\n",
       "</tr>\n",
       "</table><br/><br/>Covariance estimator: robust"
      ],
      "text/plain": [
       "<class 'statsmodels.iolib.summary.Summary'>\n",
       "\"\"\"\n",
       "                              AR - ARCH Model Results                               \n",
       "====================================================================================\n",
       "Dep. Variable:                      returns   R-squared:                       0.004\n",
       "Mean Model:                              AR   Adj. R-squared:                  0.004\n",
       "Vol Model:                             ARCH   Log-Likelihood:               -8820.17\n",
       "Distribution:      Standardized Student's t   AIC:                           17654.3\n",
       "Method:                  Maximum Likelihood   BIC:                           17701.5\n",
       "                                              No. Observations:                 6270\n",
       "Date:                      Sun, Oct 25 2020   Df Residuals:                     6263\n",
       "Time:                              00:20:33   Df Model:                            7\n",
       "                                  Mean Model                                  \n",
       "==============================================================================\n",
       "                 coef    std err          t      P>|t|        95.0% Conf. Int.\n",
       "------------------------------------------------------------------------------\n",
       "Const          0.0530  1.105e-02      4.797  1.611e-06   [3.134e-02,7.463e-02]\n",
       "returns[2]    -0.0344  1.610e-02     -2.136  3.266e-02 [-6.595e-02,-2.838e-03]\n",
       "returns[3]    -0.0191  1.656e-02     -1.156      0.248  [-5.160e-02,1.332e-02]\n",
       "returns[6]    -0.0259  1.640e-02     -1.577      0.115  [-5.799e-02,6.282e-03]\n",
       "                            Volatility Model                            \n",
       "========================================================================\n",
       "                 coef    std err          t      P>|t|  95.0% Conf. Int.\n",
       "------------------------------------------------------------------------\n",
       "omega          0.8943  4.163e-02     21.483 2.247e-102 [  0.813,  0.976]\n",
       "alpha[1]       0.3930  3.938e-02      9.979  1.881e-23 [  0.316,  0.470]\n",
       "                              Distribution                              \n",
       "========================================================================\n",
       "                 coef    std err          t      P>|t|  95.0% Conf. Int.\n",
       "------------------------------------------------------------------------\n",
       "nu             3.7070      0.183     20.203  9.201e-91 [  3.347,  4.067]\n",
       "========================================================================\n",
       "\n",
       "Covariance estimator: robust\n",
       "\"\"\""
      ]
     },
     "execution_count": 14,
     "metadata": {},
     "output_type": "execute_result"
    }
   ],
   "source": [
    "model_arch_1 = arch_model(df_copy.returns[1:], mean = \"AR\", lags = [2,3,6], vol = \"ARCH\", p = 1, dist = \"t\")\n",
    "result_arch_1 = model_arch_1.fit(update_freq = 5)\n",
    "result_arch_1.summary()"
   ]
  },
  {
   "cell_type": "markdown",
   "metadata": {},
   "source": [
    "## Higher Lag ARCH models"
   ]
  },
  {
   "cell_type": "code",
   "execution_count": 15,
   "metadata": {},
   "outputs": [
    {
     "name": "stdout",
     "output_type": "stream",
     "text": [
      "Iteration:      5,   Func. Count:     42,   Neg. LLF: 8984.12452703821\n",
      "Optimization terminated successfully.    (Exit mode 0)\n",
      "            Current function value: 8984.12196248844\n",
      "            Iterations: 7\n",
      "            Function evaluations: 54\n",
      "            Gradient evaluations: 7\n"
     ]
    },
    {
     "data": {
      "text/html": [
       "<table class=\"simpletable\">\n",
       "<caption>Constant Mean - ARCH Model Results</caption>\n",
       "<tr>\n",
       "  <th>Dep. Variable:</th>       <td>returns</td>      <th>  R-squared:         </th>  <td>  -0.000</td> \n",
       "</tr>\n",
       "<tr>\n",
       "  <th>Mean Model:</th>       <td>Constant Mean</td>   <th>  Adj. R-squared:    </th>  <td>  -0.000</td> \n",
       "</tr>\n",
       "<tr>\n",
       "  <th>Vol Model:</th>            <td>ARCH</td>        <th>  Log-Likelihood:    </th> <td>  -8984.12</td>\n",
       "</tr>\n",
       "<tr>\n",
       "  <th>Distribution:</th>        <td>Normal</td>       <th>  AIC:               </th> <td>   17976.2</td>\n",
       "</tr>\n",
       "<tr>\n",
       "  <th>Method:</th>        <td>Maximum Likelihood</td> <th>  BIC:               </th> <td>   18003.2</td>\n",
       "</tr>\n",
       "<tr>\n",
       "  <th></th>                        <td></td>          <th>  No. Observations:  </th>    <td>6276</td>   \n",
       "</tr>\n",
       "<tr>\n",
       "  <th>Date:</th>           <td>Sun, Oct 25 2020</td>  <th>  Df Residuals:      </th>    <td>6272</td>   \n",
       "</tr>\n",
       "<tr>\n",
       "  <th>Time:</th>               <td>00:20:33</td>      <th>  Df Model:          </th>      <td>4</td>    \n",
       "</tr>\n",
       "</table>\n",
       "<table class=\"simpletable\">\n",
       "<caption>Mean Model</caption>\n",
       "<tr>\n",
       "   <td></td>     <th>coef</th>     <th>std err</th>      <th>t</th>       <th>P>|t|</th>     <th>95.0% Conf. Int.</th>   \n",
       "</tr>\n",
       "<tr>\n",
       "  <th>mu</th> <td>    0.0422</td> <td>1.185e-02</td> <td>    3.565</td> <td>3.638e-04</td> <td>[1.902e-02,6.546e-02]</td>\n",
       "</tr>\n",
       "</table>\n",
       "<table class=\"simpletable\">\n",
       "<caption>Volatility Model</caption>\n",
       "<tr>\n",
       "      <td></td>        <th>coef</th>     <th>std err</th>      <th>t</th>        <th>P>|t|</th>   <th>95.0% Conf. Int.</th> \n",
       "</tr>\n",
       "<tr>\n",
       "  <th>omega</th>    <td>    0.6239</td> <td>2.918e-02</td> <td>   21.377</td> <td>2.193e-101</td> <td>[  0.567,  0.681]</td>\n",
       "</tr>\n",
       "<tr>\n",
       "  <th>alpha[1]</th> <td>    0.2368</td> <td>3.218e-02</td> <td>    7.358</td>  <td>1.865e-13</td> <td>[  0.174,  0.300]</td>\n",
       "</tr>\n",
       "<tr>\n",
       "  <th>alpha[2]</th> <td>    0.2693</td> <td>3.206e-02</td> <td>    8.401</td>  <td>4.426e-17</td> <td>[  0.207,  0.332]</td>\n",
       "</tr>\n",
       "</table><br/><br/>Covariance estimator: robust"
      ],
      "text/plain": [
       "<class 'statsmodels.iolib.summary.Summary'>\n",
       "\"\"\"\n",
       "                      Constant Mean - ARCH Model Results                      \n",
       "==============================================================================\n",
       "Dep. Variable:                returns   R-squared:                      -0.000\n",
       "Mean Model:             Constant Mean   Adj. R-squared:                 -0.000\n",
       "Vol Model:                       ARCH   Log-Likelihood:               -8984.12\n",
       "Distribution:                  Normal   AIC:                           17976.2\n",
       "Method:            Maximum Likelihood   BIC:                           18003.2\n",
       "                                        No. Observations:                 6276\n",
       "Date:                Sun, Oct 25 2020   Df Residuals:                     6272\n",
       "Time:                        00:20:33   Df Model:                            4\n",
       "                                 Mean Model                                 \n",
       "============================================================================\n",
       "                 coef    std err          t      P>|t|      95.0% Conf. Int.\n",
       "----------------------------------------------------------------------------\n",
       "mu             0.0422  1.185e-02      3.565  3.638e-04 [1.902e-02,6.546e-02]\n",
       "                            Volatility Model                            \n",
       "========================================================================\n",
       "                 coef    std err          t      P>|t|  95.0% Conf. Int.\n",
       "------------------------------------------------------------------------\n",
       "omega          0.6239  2.918e-02     21.377 2.193e-101 [  0.567,  0.681]\n",
       "alpha[1]       0.2368  3.218e-02      7.358  1.865e-13 [  0.174,  0.300]\n",
       "alpha[2]       0.2693  3.206e-02      8.401  4.426e-17 [  0.207,  0.332]\n",
       "========================================================================\n",
       "\n",
       "Covariance estimator: robust\n",
       "\"\"\""
      ]
     },
     "execution_count": 15,
     "metadata": {},
     "output_type": "execute_result"
    }
   ],
   "source": [
    "model_arch_2 = arch_model(df_copy.returns[1:], mean = \"Constant\", vol = \"ARCH\", p = 2)\n",
    "result_arch_2 = model_arch_2.fit(update_freq = 5)\n",
    "result_arch_2.summary()"
   ]
  },
  {
   "cell_type": "code",
   "execution_count": 16,
   "metadata": {},
   "outputs": [
    {
     "name": "stdout",
     "output_type": "stream",
     "text": [
      "Iteration:      5,   Func. Count:     46,   Neg. LLF: 8766.207530515165\n",
      "Iteration:     10,   Func. Count:     85,   Neg. LLF: 8764.836367249363\n",
      "Optimization terminated successfully.    (Exit mode 0)\n",
      "            Current function value: 8764.83636724947\n",
      "            Iterations: 10\n",
      "            Function evaluations: 85\n",
      "            Gradient evaluations: 10\n"
     ]
    },
    {
     "data": {
      "text/html": [
       "<table class=\"simpletable\">\n",
       "<caption>Constant Mean - ARCH Model Results</caption>\n",
       "<tr>\n",
       "  <th>Dep. Variable:</th>       <td>returns</td>      <th>  R-squared:         </th>  <td>  -0.001</td> \n",
       "</tr>\n",
       "<tr>\n",
       "  <th>Mean Model:</th>       <td>Constant Mean</td>   <th>  Adj. R-squared:    </th>  <td>  -0.001</td> \n",
       "</tr>\n",
       "<tr>\n",
       "  <th>Vol Model:</th>            <td>ARCH</td>        <th>  Log-Likelihood:    </th> <td>  -8764.84</td>\n",
       "</tr>\n",
       "<tr>\n",
       "  <th>Distribution:</th>        <td>Normal</td>       <th>  AIC:               </th> <td>   17539.7</td>\n",
       "</tr>\n",
       "<tr>\n",
       "  <th>Method:</th>        <td>Maximum Likelihood</td> <th>  BIC:               </th> <td>   17573.4</td>\n",
       "</tr>\n",
       "<tr>\n",
       "  <th></th>                        <td></td>          <th>  No. Observations:  </th>    <td>6276</td>   \n",
       "</tr>\n",
       "<tr>\n",
       "  <th>Date:</th>           <td>Sun, Oct 25 2020</td>  <th>  Df Residuals:      </th>    <td>6271</td>   \n",
       "</tr>\n",
       "<tr>\n",
       "  <th>Time:</th>               <td>00:20:33</td>      <th>  Df Model:          </th>      <td>5</td>    \n",
       "</tr>\n",
       "</table>\n",
       "<table class=\"simpletable\">\n",
       "<caption>Mean Model</caption>\n",
       "<tr>\n",
       "   <td></td>     <th>coef</th>     <th>std err</th>      <th>t</th>       <th>P>|t|</th>     <th>95.0% Conf. Int.</th>   \n",
       "</tr>\n",
       "<tr>\n",
       "  <th>mu</th> <td>    0.0475</td> <td>1.123e-02</td> <td>    4.228</td> <td>2.356e-05</td> <td>[2.548e-02,6.951e-02]</td>\n",
       "</tr>\n",
       "</table>\n",
       "<table class=\"simpletable\">\n",
       "<caption>Volatility Model</caption>\n",
       "<tr>\n",
       "      <td></td>        <th>coef</th>     <th>std err</th>      <th>t</th>       <th>P>|t|</th>   <th>95.0% Conf. Int.</th> \n",
       "</tr>\n",
       "<tr>\n",
       "  <th>omega</th>    <td>    0.4532</td> <td>2.280e-02</td> <td>   19.882</td> <td>5.822e-88</td> <td>[  0.409,  0.498]</td>\n",
       "</tr>\n",
       "<tr>\n",
       "  <th>alpha[1]</th> <td>    0.1665</td> <td>2.427e-02</td> <td>    6.859</td> <td>6.947e-12</td> <td>[  0.119,  0.214]</td>\n",
       "</tr>\n",
       "<tr>\n",
       "  <th>alpha[2]</th> <td>    0.2074</td> <td>2.257e-02</td> <td>    9.190</td> <td>3.944e-20</td> <td>[  0.163,  0.252]</td>\n",
       "</tr>\n",
       "<tr>\n",
       "  <th>alpha[3]</th> <td>    0.2792</td> <td>2.978e-02</td> <td>    9.374</td> <td>6.992e-21</td> <td>[  0.221,  0.338]</td>\n",
       "</tr>\n",
       "</table><br/><br/>Covariance estimator: robust"
      ],
      "text/plain": [
       "<class 'statsmodels.iolib.summary.Summary'>\n",
       "\"\"\"\n",
       "                      Constant Mean - ARCH Model Results                      \n",
       "==============================================================================\n",
       "Dep. Variable:                returns   R-squared:                      -0.001\n",
       "Mean Model:             Constant Mean   Adj. R-squared:                 -0.001\n",
       "Vol Model:                       ARCH   Log-Likelihood:               -8764.84\n",
       "Distribution:                  Normal   AIC:                           17539.7\n",
       "Method:            Maximum Likelihood   BIC:                           17573.4\n",
       "                                        No. Observations:                 6276\n",
       "Date:                Sun, Oct 25 2020   Df Residuals:                     6271\n",
       "Time:                        00:20:33   Df Model:                            5\n",
       "                                 Mean Model                                 \n",
       "============================================================================\n",
       "                 coef    std err          t      P>|t|      95.0% Conf. Int.\n",
       "----------------------------------------------------------------------------\n",
       "mu             0.0475  1.123e-02      4.228  2.356e-05 [2.548e-02,6.951e-02]\n",
       "                            Volatility Model                            \n",
       "========================================================================\n",
       "                 coef    std err          t      P>|t|  95.0% Conf. Int.\n",
       "------------------------------------------------------------------------\n",
       "omega          0.4532  2.280e-02     19.882  5.822e-88 [  0.409,  0.498]\n",
       "alpha[1]       0.1665  2.427e-02      6.859  6.947e-12 [  0.119,  0.214]\n",
       "alpha[2]       0.2074  2.257e-02      9.190  3.944e-20 [  0.163,  0.252]\n",
       "alpha[3]       0.2792  2.978e-02      9.374  6.992e-21 [  0.221,  0.338]\n",
       "========================================================================\n",
       "\n",
       "Covariance estimator: robust\n",
       "\"\"\""
      ]
     },
     "execution_count": 16,
     "metadata": {},
     "output_type": "execute_result"
    }
   ],
   "source": [
    "model_arch_3 = arch_model(df_copy.returns[1:], mean = \"Constant\", vol = \"ARCH\", p = 3)\n",
    "result_arch_3 = model_arch_3.fit(update_freq = 5)\n",
    "result_arch_3.summary()"
   ]
  },
  {
   "cell_type": "markdown",
   "metadata": {},
   "source": [
    "We can see ARCH(2) has out-performed ARCH(1) as we can see significant decrease in AIC and and significant increase in Loglikelihood."
   ]
  },
  {
   "cell_type": "markdown",
   "metadata": {},
   "source": [
    "## Generalised Autoregressive Conditional Heteroskedasticity (GARCH) Model"
   ]
  },
  {
   "cell_type": "code",
   "execution_count": 17,
   "metadata": {},
   "outputs": [
    {
     "name": "stdout",
     "output_type": "stream",
     "text": [
      "Iteration:      5,   Func. Count:     39,   Neg. LLF: 8413.246291629639\n",
      "Iteration:     10,   Func. Count:     73,   Neg. LLF: 8410.647245466369\n",
      "Optimization terminated successfully.    (Exit mode 0)\n",
      "            Current function value: 8410.646871498593\n",
      "            Iterations: 12\n",
      "            Function evaluations: 85\n",
      "            Gradient evaluations: 12\n"
     ]
    },
    {
     "data": {
      "text/html": [
       "<table class=\"simpletable\">\n",
       "<caption>Constant Mean - GARCH Model Results</caption>\n",
       "<tr>\n",
       "  <th>Dep. Variable:</th>       <td>returns</td>      <th>  R-squared:         </th>  <td>  -0.000</td> \n",
       "</tr>\n",
       "<tr>\n",
       "  <th>Mean Model:</th>       <td>Constant Mean</td>   <th>  Adj. R-squared:    </th>  <td>  -0.000</td> \n",
       "</tr>\n",
       "<tr>\n",
       "  <th>Vol Model:</th>            <td>GARCH</td>       <th>  Log-Likelihood:    </th> <td>  -8410.65</td>\n",
       "</tr>\n",
       "<tr>\n",
       "  <th>Distribution:</th>        <td>Normal</td>       <th>  AIC:               </th> <td>   16829.3</td>\n",
       "</tr>\n",
       "<tr>\n",
       "  <th>Method:</th>        <td>Maximum Likelihood</td> <th>  BIC:               </th> <td>   16856.3</td>\n",
       "</tr>\n",
       "<tr>\n",
       "  <th></th>                        <td></td>          <th>  No. Observations:  </th>    <td>6276</td>   \n",
       "</tr>\n",
       "<tr>\n",
       "  <th>Date:</th>           <td>Sun, Oct 25 2020</td>  <th>  Df Residuals:      </th>    <td>6272</td>   \n",
       "</tr>\n",
       "<tr>\n",
       "  <th>Time:</th>               <td>00:20:34</td>      <th>  Df Model:          </th>      <td>4</td>    \n",
       "</tr>\n",
       "</table>\n",
       "<table class=\"simpletable\">\n",
       "<caption>Mean Model</caption>\n",
       "<tr>\n",
       "   <td></td>     <th>coef</th>     <th>std err</th>      <th>t</th>       <th>P>|t|</th>     <th>95.0% Conf. Int.</th>   \n",
       "</tr>\n",
       "<tr>\n",
       "  <th>mu</th> <td>    0.0422</td> <td>1.030e-02</td> <td>    4.103</td> <td>4.081e-05</td> <td>[2.206e-02,6.243e-02]</td>\n",
       "</tr>\n",
       "</table>\n",
       "<table class=\"simpletable\">\n",
       "<caption>Volatility Model</caption>\n",
       "<tr>\n",
       "      <td></td>        <th>coef</th>     <th>std err</th>      <th>t</th>       <th>P>|t|</th>     <th>95.0% Conf. Int.</th>   \n",
       "</tr>\n",
       "<tr>\n",
       "  <th>omega</th>    <td>    0.0124</td> <td>3.264e-03</td> <td>    3.810</td> <td>1.391e-04</td> <td>[6.037e-03,1.883e-02]</td>\n",
       "</tr>\n",
       "<tr>\n",
       "  <th>alpha[1]</th> <td>    0.0880</td> <td>1.135e-02</td> <td>    7.749</td> <td>9.242e-15</td>  <td>[6.571e-02,  0.110]</td> \n",
       "</tr>\n",
       "<tr>\n",
       "  <th>beta[1]</th>  <td>    0.9018</td> <td>1.279e-02</td> <td>   70.518</td>   <td>0.000</td>     <td>[  0.877,  0.927]</td>  \n",
       "</tr>\n",
       "</table><br/><br/>Covariance estimator: robust"
      ],
      "text/plain": [
       "<class 'statsmodels.iolib.summary.Summary'>\n",
       "\"\"\"\n",
       "                     Constant Mean - GARCH Model Results                      \n",
       "==============================================================================\n",
       "Dep. Variable:                returns   R-squared:                      -0.000\n",
       "Mean Model:             Constant Mean   Adj. R-squared:                 -0.000\n",
       "Vol Model:                      GARCH   Log-Likelihood:               -8410.65\n",
       "Distribution:                  Normal   AIC:                           16829.3\n",
       "Method:            Maximum Likelihood   BIC:                           16856.3\n",
       "                                        No. Observations:                 6276\n",
       "Date:                Sun, Oct 25 2020   Df Residuals:                     6272\n",
       "Time:                        00:20:34   Df Model:                            4\n",
       "                                 Mean Model                                 \n",
       "============================================================================\n",
       "                 coef    std err          t      P>|t|      95.0% Conf. Int.\n",
       "----------------------------------------------------------------------------\n",
       "mu             0.0422  1.030e-02      4.103  4.081e-05 [2.206e-02,6.243e-02]\n",
       "                              Volatility Model                              \n",
       "============================================================================\n",
       "                 coef    std err          t      P>|t|      95.0% Conf. Int.\n",
       "----------------------------------------------------------------------------\n",
       "omega          0.0124  3.264e-03      3.810  1.391e-04 [6.037e-03,1.883e-02]\n",
       "alpha[1]       0.0880  1.135e-02      7.749  9.242e-15   [6.571e-02,  0.110]\n",
       "beta[1]        0.9018  1.279e-02     70.518      0.000     [  0.877,  0.927]\n",
       "============================================================================\n",
       "\n",
       "Covariance estimator: robust\n",
       "\"\"\""
      ]
     },
     "execution_count": 17,
     "metadata": {},
     "output_type": "execute_result"
    }
   ],
   "source": [
    "model_garch_1 = arch_model(df_copy.returns[1:], mean = \"Constant\", vol = \"GARCH\", p = 1, q = 1)\n",
    "result_garch_1 = model_garch_1.fit(update_freq = 5)\n",
    "result_garch_1.summary()"
   ]
  },
  {
   "cell_type": "markdown",
   "metadata": {},
   "source": [
    "Including past values as a form of baselines provides much greater accuracy. Also higher likelihood is explained."
   ]
  },
  {
   "cell_type": "markdown",
   "metadata": {},
   "source": [
    "## Higher Order GARCH Model\n",
    "\n",
    "No higher order GARCH Model out-performs the GARCH(1,1) when it comes to variance of market vales."
   ]
  },
  {
   "cell_type": "code",
   "execution_count": 18,
   "metadata": {},
   "outputs": [
    {
     "name": "stdout",
     "output_type": "stream",
     "text": [
      "Iteration:      5,   Func. Count:     44,   Neg. LLF: 8419.089867723576\n",
      "Iteration:     10,   Func. Count:     82,   Neg. LLF: 8410.662161736645\n",
      "Optimization terminated successfully.    (Exit mode 0)\n",
      "            Current function value: 8410.64687142376\n",
      "            Iterations: 14\n",
      "            Function evaluations: 110\n",
      "            Gradient evaluations: 14\n"
     ]
    },
    {
     "data": {
      "text/html": [
       "<table class=\"simpletable\">\n",
       "<caption>Constant Mean - GARCH Model Results</caption>\n",
       "<tr>\n",
       "  <th>Dep. Variable:</th>       <td>returns</td>      <th>  R-squared:         </th>  <td>  -0.000</td> \n",
       "</tr>\n",
       "<tr>\n",
       "  <th>Mean Model:</th>       <td>Constant Mean</td>   <th>  Adj. R-squared:    </th>  <td>  -0.000</td> \n",
       "</tr>\n",
       "<tr>\n",
       "  <th>Vol Model:</th>            <td>GARCH</td>       <th>  Log-Likelihood:    </th> <td>  -8410.65</td>\n",
       "</tr>\n",
       "<tr>\n",
       "  <th>Distribution:</th>        <td>Normal</td>       <th>  AIC:               </th> <td>   16831.3</td>\n",
       "</tr>\n",
       "<tr>\n",
       "  <th>Method:</th>        <td>Maximum Likelihood</td> <th>  BIC:               </th> <td>   16865.0</td>\n",
       "</tr>\n",
       "<tr>\n",
       "  <th></th>                        <td></td>          <th>  No. Observations:  </th>    <td>6276</td>   \n",
       "</tr>\n",
       "<tr>\n",
       "  <th>Date:</th>           <td>Sun, Oct 25 2020</td>  <th>  Df Residuals:      </th>    <td>6271</td>   \n",
       "</tr>\n",
       "<tr>\n",
       "  <th>Time:</th>               <td>00:20:34</td>      <th>  Df Model:          </th>      <td>5</td>    \n",
       "</tr>\n",
       "</table>\n",
       "<table class=\"simpletable\">\n",
       "<caption>Mean Model</caption>\n",
       "<tr>\n",
       "   <td></td>     <th>coef</th>     <th>std err</th>      <th>t</th>       <th>P>|t|</th>     <th>95.0% Conf. Int.</th>   \n",
       "</tr>\n",
       "<tr>\n",
       "  <th>mu</th> <td>    0.0422</td> <td>1.029e-02</td> <td>    4.107</td> <td>4.012e-05</td> <td>[2.209e-02,6.241e-02]</td>\n",
       "</tr>\n",
       "</table>\n",
       "<table class=\"simpletable\">\n",
       "<caption>Volatility Model</caption>\n",
       "<tr>\n",
       "      <td></td>        <th>coef</th>     <th>std err</th>      <th>t</th>       <th>P>|t|</th>     <th>95.0% Conf. Int.</th>   \n",
       "</tr>\n",
       "<tr>\n",
       "  <th>omega</th>    <td>    0.0124</td> <td>3.126e-03</td> <td>    3.977</td> <td>6.966e-05</td> <td>[6.307e-03,1.856e-02]</td>\n",
       "</tr>\n",
       "<tr>\n",
       "  <th>alpha[1]</th> <td>    0.0880</td> <td>1.353e-02</td> <td>    6.499</td> <td>8.109e-11</td>  <td>[6.142e-02,  0.114]</td> \n",
       "</tr>\n",
       "<tr>\n",
       "  <th>beta[1]</th>  <td>    0.9018</td> <td>    0.202</td> <td>    4.459</td> <td>8.222e-06</td>   <td>[  0.505,  1.298]</td>  \n",
       "</tr>\n",
       "<tr>\n",
       "  <th>beta[2]</th>    <td>0.0000</td>   <td>    0.193</td>   <td>0.000</td>   <td>    1.000</td>   <td>[ -0.378,  0.378]</td>  \n",
       "</tr>\n",
       "</table><br/><br/>Covariance estimator: robust"
      ],
      "text/plain": [
       "<class 'statsmodels.iolib.summary.Summary'>\n",
       "\"\"\"\n",
       "                     Constant Mean - GARCH Model Results                      \n",
       "==============================================================================\n",
       "Dep. Variable:                returns   R-squared:                      -0.000\n",
       "Mean Model:             Constant Mean   Adj. R-squared:                 -0.000\n",
       "Vol Model:                      GARCH   Log-Likelihood:               -8410.65\n",
       "Distribution:                  Normal   AIC:                           16831.3\n",
       "Method:            Maximum Likelihood   BIC:                           16865.0\n",
       "                                        No. Observations:                 6276\n",
       "Date:                Sun, Oct 25 2020   Df Residuals:                     6271\n",
       "Time:                        00:20:34   Df Model:                            5\n",
       "                                 Mean Model                                 \n",
       "============================================================================\n",
       "                 coef    std err          t      P>|t|      95.0% Conf. Int.\n",
       "----------------------------------------------------------------------------\n",
       "mu             0.0422  1.029e-02      4.107  4.012e-05 [2.209e-02,6.241e-02]\n",
       "                              Volatility Model                              \n",
       "============================================================================\n",
       "                 coef    std err          t      P>|t|      95.0% Conf. Int.\n",
       "----------------------------------------------------------------------------\n",
       "omega          0.0124  3.126e-03      3.977  6.966e-05 [6.307e-03,1.856e-02]\n",
       "alpha[1]       0.0880  1.353e-02      6.499  8.109e-11   [6.142e-02,  0.114]\n",
       "beta[1]        0.9018      0.202      4.459  8.222e-06     [  0.505,  1.298]\n",
       "beta[2]        0.0000      0.193      0.000      1.000     [ -0.378,  0.378]\n",
       "============================================================================\n",
       "\n",
       "Covariance estimator: robust\n",
       "\"\"\""
      ]
     },
     "execution_count": 18,
     "metadata": {},
     "output_type": "execute_result"
    }
   ],
   "source": [
    "model_garch_12 = arch_model(df_copy.returns[1:], mean = \"Constant\", vol = \"Garch\", p = 1, q = 2)\n",
    "results_garch_12 = model_garch_12.fit(update_freq = 5)\n",
    "results_garch_12.summary()"
   ]
  },
  {
   "cell_type": "markdown",
   "metadata": {},
   "source": [
    "Beta(2) coefficient have pval = 1, which indicates the problem of multicollinearity in the model."
   ]
  },
  {
   "cell_type": "code",
   "execution_count": 19,
   "metadata": {},
   "outputs": [
    {
     "name": "stdout",
     "output_type": "stream",
     "text": [
      "Iteration:      5,   Func. Count:     51,   Neg. LLF: 8432.226955854796\n",
      "Iteration:     10,   Func. Count:     95,   Neg. LLF: 8412.853331605045\n",
      "Iteration:     15,   Func. Count:    136,   Neg. LLF: 8410.64687447299\n",
      "Optimization terminated successfully.    (Exit mode 0)\n",
      "            Current function value: 8410.646871434186\n",
      "            Iterations: 16\n",
      "            Function evaluations: 144\n",
      "            Gradient evaluations: 16\n"
     ]
    },
    {
     "data": {
      "text/html": [
       "<table class=\"simpletable\">\n",
       "<caption>Constant Mean - GARCH Model Results</caption>\n",
       "<tr>\n",
       "  <th>Dep. Variable:</th>       <td>returns</td>      <th>  R-squared:         </th>  <td>  -0.000</td> \n",
       "</tr>\n",
       "<tr>\n",
       "  <th>Mean Model:</th>       <td>Constant Mean</td>   <th>  Adj. R-squared:    </th>  <td>  -0.000</td> \n",
       "</tr>\n",
       "<tr>\n",
       "  <th>Vol Model:</th>            <td>GARCH</td>       <th>  Log-Likelihood:    </th> <td>  -8410.65</td>\n",
       "</tr>\n",
       "<tr>\n",
       "  <th>Distribution:</th>        <td>Normal</td>       <th>  AIC:               </th> <td>   16833.3</td>\n",
       "</tr>\n",
       "<tr>\n",
       "  <th>Method:</th>        <td>Maximum Likelihood</td> <th>  BIC:               </th> <td>   16873.8</td>\n",
       "</tr>\n",
       "<tr>\n",
       "  <th></th>                        <td></td>          <th>  No. Observations:  </th>    <td>6276</td>   \n",
       "</tr>\n",
       "<tr>\n",
       "  <th>Date:</th>           <td>Sun, Oct 25 2020</td>  <th>  Df Residuals:      </th>    <td>6270</td>   \n",
       "</tr>\n",
       "<tr>\n",
       "  <th>Time:</th>               <td>00:20:34</td>      <th>  Df Model:          </th>      <td>6</td>    \n",
       "</tr>\n",
       "</table>\n",
       "<table class=\"simpletable\">\n",
       "<caption>Mean Model</caption>\n",
       "<tr>\n",
       "   <td></td>     <th>coef</th>     <th>std err</th>      <th>t</th>       <th>P>|t|</th>     <th>95.0% Conf. Int.</th>   \n",
       "</tr>\n",
       "<tr>\n",
       "  <th>mu</th> <td>    0.0422</td> <td>1.393e-02</td> <td>    3.033</td> <td>2.420e-03</td> <td>[1.495e-02,6.955e-02]</td>\n",
       "</tr>\n",
       "</table>\n",
       "<table class=\"simpletable\">\n",
       "<caption>Volatility Model</caption>\n",
       "<tr>\n",
       "      <td></td>        <th>coef</th>     <th>std err</th>      <th>t</th>       <th>P>|t|</th>      <th>95.0% Conf. Int.</th>   \n",
       "</tr>\n",
       "<tr>\n",
       "  <th>omega</th>    <td>    0.0124</td> <td>3.011e-02</td> <td>    0.413</td> <td>    0.680</td> <td>[-4.658e-02,7.145e-02]</td>\n",
       "</tr>\n",
       "<tr>\n",
       "  <th>alpha[1]</th> <td>    0.0880</td> <td>    0.220</td> <td>    0.399</td> <td>    0.690</td>    <td>[ -0.344,  0.520]</td>  \n",
       "</tr>\n",
       "<tr>\n",
       "  <th>beta[1]</th>  <td>    0.9018</td> <td>    6.550</td> <td>    0.138</td> <td>    0.890</td>    <td>[-11.936, 13.740]</td>  \n",
       "</tr>\n",
       "<tr>\n",
       "  <th>beta[2]</th>  <td>8.1246e-10</td> <td>   10.019</td> <td>8.109e-11</td> <td>    1.000</td>    <td>[-19.637, 19.637]</td>  \n",
       "</tr>\n",
       "<tr>\n",
       "  <th>beta[3]</th>  <td>7.2700e-11</td> <td>    3.713</td> <td>1.958e-11</td> <td>    1.000</td>    <td>[ -7.277,  7.277]</td>  \n",
       "</tr>\n",
       "</table><br/><br/>Covariance estimator: robust"
      ],
      "text/plain": [
       "<class 'statsmodels.iolib.summary.Summary'>\n",
       "\"\"\"\n",
       "                     Constant Mean - GARCH Model Results                      \n",
       "==============================================================================\n",
       "Dep. Variable:                returns   R-squared:                      -0.000\n",
       "Mean Model:             Constant Mean   Adj. R-squared:                 -0.000\n",
       "Vol Model:                      GARCH   Log-Likelihood:               -8410.65\n",
       "Distribution:                  Normal   AIC:                           16833.3\n",
       "Method:            Maximum Likelihood   BIC:                           16873.8\n",
       "                                        No. Observations:                 6276\n",
       "Date:                Sun, Oct 25 2020   Df Residuals:                     6270\n",
       "Time:                        00:20:34   Df Model:                            6\n",
       "                                 Mean Model                                 \n",
       "============================================================================\n",
       "                 coef    std err          t      P>|t|      95.0% Conf. Int.\n",
       "----------------------------------------------------------------------------\n",
       "mu             0.0422  1.393e-02      3.033  2.420e-03 [1.495e-02,6.955e-02]\n",
       "                               Volatility Model                              \n",
       "=============================================================================\n",
       "                 coef    std err          t      P>|t|       95.0% Conf. Int.\n",
       "-----------------------------------------------------------------------------\n",
       "omega          0.0124  3.011e-02      0.413      0.680 [-4.658e-02,7.145e-02]\n",
       "alpha[1]       0.0880      0.220      0.399      0.690      [ -0.344,  0.520]\n",
       "beta[1]        0.9018      6.550      0.138      0.890      [-11.936, 13.740]\n",
       "beta[2]    8.1246e-10     10.019  8.109e-11      1.000      [-19.637, 19.637]\n",
       "beta[3]    7.2700e-11      3.713  1.958e-11      1.000      [ -7.277,  7.277]\n",
       "=============================================================================\n",
       "\n",
       "Covariance estimator: robust\n",
       "\"\"\""
      ]
     },
     "execution_count": 19,
     "metadata": {},
     "output_type": "execute_result"
    }
   ],
   "source": [
    "model_garch_13 = arch_model(df_copy.returns[1:], mean = \"Constant\", vol = \"GARCH\", p = 1, q = 3)\n",
    "result_garch_13 = model_garch_13.fit(update_freq = 5)\n",
    "result_garch_13.summary()"
   ]
  },
  {
   "cell_type": "markdown",
   "metadata": {},
   "source": [
    "Beta(2) and Beta(3) coefficients have pval = 1, which indicates the problem of multicollinearity in the model."
   ]
  },
  {
   "cell_type": "code",
   "execution_count": 20,
   "metadata": {},
   "outputs": [
    {
     "name": "stdout",
     "output_type": "stream",
     "text": [
      "Iteration:      5,   Func. Count:     44,   Neg. LLF: 8415.222690467312\n",
      "Iteration:     10,   Func. Count:     84,   Neg. LLF: 8409.731125920971\n",
      "Optimization terminated successfully.    (Exit mode 0)\n",
      "            Current function value: 8409.729351153035\n",
      "            Iterations: 14\n",
      "            Function evaluations: 114\n",
      "            Gradient evaluations: 14\n"
     ]
    },
    {
     "data": {
      "text/html": [
       "<table class=\"simpletable\">\n",
       "<caption>Constant Mean - GARCH Model Results</caption>\n",
       "<tr>\n",
       "  <th>Dep. Variable:</th>       <td>returns</td>      <th>  R-squared:         </th>  <td>  -0.000</td> \n",
       "</tr>\n",
       "<tr>\n",
       "  <th>Mean Model:</th>       <td>Constant Mean</td>   <th>  Adj. R-squared:    </th>  <td>  -0.000</td> \n",
       "</tr>\n",
       "<tr>\n",
       "  <th>Vol Model:</th>            <td>GARCH</td>       <th>  Log-Likelihood:    </th> <td>  -8409.73</td>\n",
       "</tr>\n",
       "<tr>\n",
       "  <th>Distribution:</th>        <td>Normal</td>       <th>  AIC:               </th> <td>   16829.5</td>\n",
       "</tr>\n",
       "<tr>\n",
       "  <th>Method:</th>        <td>Maximum Likelihood</td> <th>  BIC:               </th> <td>   16863.2</td>\n",
       "</tr>\n",
       "<tr>\n",
       "  <th></th>                        <td></td>          <th>  No. Observations:  </th>    <td>6276</td>   \n",
       "</tr>\n",
       "<tr>\n",
       "  <th>Date:</th>           <td>Sun, Oct 25 2020</td>  <th>  Df Residuals:      </th>    <td>6271</td>   \n",
       "</tr>\n",
       "<tr>\n",
       "  <th>Time:</th>               <td>00:20:34</td>      <th>  Df Model:          </th>      <td>5</td>    \n",
       "</tr>\n",
       "</table>\n",
       "<table class=\"simpletable\">\n",
       "<caption>Mean Model</caption>\n",
       "<tr>\n",
       "   <td></td>     <th>coef</th>     <th>std err</th>      <th>t</th>       <th>P>|t|</th>     <th>95.0% Conf. Int.</th>   \n",
       "</tr>\n",
       "<tr>\n",
       "  <th>mu</th> <td>    0.0420</td> <td>1.033e-02</td> <td>    4.066</td> <td>4.791e-05</td> <td>[2.176e-02,6.227e-02]</td>\n",
       "</tr>\n",
       "</table>\n",
       "<table class=\"simpletable\">\n",
       "<caption>Volatility Model</caption>\n",
       "<tr>\n",
       "      <td></td>        <th>coef</th>     <th>std err</th>      <th>t</th>       <th>P>|t|</th>      <th>95.0% Conf. Int.</th>   \n",
       "</tr>\n",
       "<tr>\n",
       "  <th>omega</th>    <td>    0.0140</td> <td>4.423e-03</td> <td>    3.163</td> <td>1.559e-03</td>  <td>[5.323e-03,2.266e-02]</td>\n",
       "</tr>\n",
       "<tr>\n",
       "  <th>alpha[1]</th> <td>    0.0718</td> <td>1.713e-02</td> <td>    4.193</td> <td>2.757e-05</td>   <td>[3.825e-02,  0.105]</td> \n",
       "</tr>\n",
       "<tr>\n",
       "  <th>alpha[2]</th> <td>    0.0231</td> <td>2.427e-02</td> <td>    0.953</td> <td>    0.341</td> <td>[-2.445e-02,7.069e-02]</td>\n",
       "</tr>\n",
       "<tr>\n",
       "  <th>beta[1]</th>  <td>    0.8935</td> <td>1.882e-02</td> <td>   47.470</td>   <td>0.000</td>      <td>[  0.857,  0.930]</td>  \n",
       "</tr>\n",
       "</table><br/><br/>Covariance estimator: robust"
      ],
      "text/plain": [
       "<class 'statsmodels.iolib.summary.Summary'>\n",
       "\"\"\"\n",
       "                     Constant Mean - GARCH Model Results                      \n",
       "==============================================================================\n",
       "Dep. Variable:                returns   R-squared:                      -0.000\n",
       "Mean Model:             Constant Mean   Adj. R-squared:                 -0.000\n",
       "Vol Model:                      GARCH   Log-Likelihood:               -8409.73\n",
       "Distribution:                  Normal   AIC:                           16829.5\n",
       "Method:            Maximum Likelihood   BIC:                           16863.2\n",
       "                                        No. Observations:                 6276\n",
       "Date:                Sun, Oct 25 2020   Df Residuals:                     6271\n",
       "Time:                        00:20:34   Df Model:                            5\n",
       "                                 Mean Model                                 \n",
       "============================================================================\n",
       "                 coef    std err          t      P>|t|      95.0% Conf. Int.\n",
       "----------------------------------------------------------------------------\n",
       "mu             0.0420  1.033e-02      4.066  4.791e-05 [2.176e-02,6.227e-02]\n",
       "                               Volatility Model                              \n",
       "=============================================================================\n",
       "                 coef    std err          t      P>|t|       95.0% Conf. Int.\n",
       "-----------------------------------------------------------------------------\n",
       "omega          0.0140  4.423e-03      3.163  1.559e-03  [5.323e-03,2.266e-02]\n",
       "alpha[1]       0.0718  1.713e-02      4.193  2.757e-05    [3.825e-02,  0.105]\n",
       "alpha[2]       0.0231  2.427e-02      0.953      0.341 [-2.445e-02,7.069e-02]\n",
       "beta[1]        0.8935  1.882e-02     47.470      0.000      [  0.857,  0.930]\n",
       "=============================================================================\n",
       "\n",
       "Covariance estimator: robust\n",
       "\"\"\""
      ]
     },
     "execution_count": 20,
     "metadata": {},
     "output_type": "execute_result"
    }
   ],
   "source": [
    "model_garch_21 = arch_model(df_copy.returns[1:], mean = \"Constant\", vol = \"GARCH\", p = 2, q = 1)\n",
    "result_garch_21 = model_garch_21.fit(update_freq = 5)\n",
    "result_garch_21.summary()"
   ]
  },
  {
   "cell_type": "markdown",
   "metadata": {},
   "source": [
    "Here we can see Alpha(2) coefficient has pval = 0.341> 0.05 thus Alpha(2) is insignificant."
   ]
  },
  {
   "cell_type": "code",
   "execution_count": 21,
   "metadata": {},
   "outputs": [
    {
     "name": "stdout",
     "output_type": "stream",
     "text": [
      "Iteration:      5,   Func. Count:     49,   Neg. LLF: 8416.165967954128\n",
      "Iteration:     10,   Func. Count:     93,   Neg. LLF: 8409.83582154414\n",
      "Iteration:     15,   Func. Count:    133,   Neg. LLF: 8409.729351297614\n",
      "Optimization terminated successfully.    (Exit mode 0)\n",
      "            Current function value: 8409.729351298574\n",
      "            Iterations: 15\n",
      "            Function evaluations: 133\n",
      "            Gradient evaluations: 15\n"
     ]
    },
    {
     "data": {
      "text/html": [
       "<table class=\"simpletable\">\n",
       "<caption>Constant Mean - GARCH Model Results</caption>\n",
       "<tr>\n",
       "  <th>Dep. Variable:</th>       <td>returns</td>      <th>  R-squared:         </th>  <td>  -0.000</td> \n",
       "</tr>\n",
       "<tr>\n",
       "  <th>Mean Model:</th>       <td>Constant Mean</td>   <th>  Adj. R-squared:    </th>  <td>  -0.000</td> \n",
       "</tr>\n",
       "<tr>\n",
       "  <th>Vol Model:</th>            <td>GARCH</td>       <th>  Log-Likelihood:    </th> <td>  -8409.73</td>\n",
       "</tr>\n",
       "<tr>\n",
       "  <th>Distribution:</th>        <td>Normal</td>       <th>  AIC:               </th> <td>   16831.5</td>\n",
       "</tr>\n",
       "<tr>\n",
       "  <th>Method:</th>        <td>Maximum Likelihood</td> <th>  BIC:               </th> <td>   16871.9</td>\n",
       "</tr>\n",
       "<tr>\n",
       "  <th></th>                        <td></td>          <th>  No. Observations:  </th>    <td>6276</td>   \n",
       "</tr>\n",
       "<tr>\n",
       "  <th>Date:</th>           <td>Sun, Oct 25 2020</td>  <th>  Df Residuals:      </th>    <td>6270</td>   \n",
       "</tr>\n",
       "<tr>\n",
       "  <th>Time:</th>               <td>00:20:34</td>      <th>  Df Model:          </th>      <td>6</td>    \n",
       "</tr>\n",
       "</table>\n",
       "<table class=\"simpletable\">\n",
       "<caption>Mean Model</caption>\n",
       "<tr>\n",
       "   <td></td>     <th>coef</th>     <th>std err</th>      <th>t</th>       <th>P>|t|</th>     <th>95.0% Conf. Int.</th>   \n",
       "</tr>\n",
       "<tr>\n",
       "  <th>mu</th> <td>    0.0420</td> <td>1.037e-02</td> <td>    4.051</td> <td>5.101e-05</td> <td>[2.169e-02,6.235e-02]</td>\n",
       "</tr>\n",
       "</table>\n",
       "<table class=\"simpletable\">\n",
       "<caption>Volatility Model</caption>\n",
       "<tr>\n",
       "      <td></td>        <th>coef</th>     <th>std err</th>      <th>t</th>        <th>P>|t|</th>      <th>95.0% Conf. Int.</th>   \n",
       "</tr>\n",
       "<tr>\n",
       "  <th>omega</th>    <td>    0.0140</td> <td>5.541e-03</td> <td>    2.525</td>  <td>1.157e-02</td>  <td>[3.130e-03,2.485e-02]</td>\n",
       "</tr>\n",
       "<tr>\n",
       "  <th>alpha[1]</th> <td>    0.0718</td> <td>1.713e-02</td> <td>    4.194</td>  <td>2.745e-05</td>   <td>[3.826e-02,  0.105]</td> \n",
       "</tr>\n",
       "<tr>\n",
       "  <th>alpha[2]</th> <td>    0.0231</td> <td>2.448e-02</td> <td>    0.944</td>  <td>    0.345</td> <td>[-2.487e-02,7.110e-02]</td>\n",
       "</tr>\n",
       "<tr>\n",
       "  <th>alpha[3]</th>   <td>0.0000</td>   <td>2.575e-02</td>   <td>0.000</td>    <td>    1.000</td> <td>[-5.047e-02,5.047e-02]</td>\n",
       "</tr>\n",
       "<tr>\n",
       "  <th>beta[1]</th>  <td>    0.8935</td> <td>2.601e-02</td> <td>   34.356</td> <td>1.142e-258</td>    <td>[  0.843,  0.944]</td>  \n",
       "</tr>\n",
       "</table><br/><br/>Covariance estimator: robust"
      ],
      "text/plain": [
       "<class 'statsmodels.iolib.summary.Summary'>\n",
       "\"\"\"\n",
       "                     Constant Mean - GARCH Model Results                      \n",
       "==============================================================================\n",
       "Dep. Variable:                returns   R-squared:                      -0.000\n",
       "Mean Model:             Constant Mean   Adj. R-squared:                 -0.000\n",
       "Vol Model:                      GARCH   Log-Likelihood:               -8409.73\n",
       "Distribution:                  Normal   AIC:                           16831.5\n",
       "Method:            Maximum Likelihood   BIC:                           16871.9\n",
       "                                        No. Observations:                 6276\n",
       "Date:                Sun, Oct 25 2020   Df Residuals:                     6270\n",
       "Time:                        00:20:34   Df Model:                            6\n",
       "                                 Mean Model                                 \n",
       "============================================================================\n",
       "                 coef    std err          t      P>|t|      95.0% Conf. Int.\n",
       "----------------------------------------------------------------------------\n",
       "mu             0.0420  1.037e-02      4.051  5.101e-05 [2.169e-02,6.235e-02]\n",
       "                               Volatility Model                              \n",
       "=============================================================================\n",
       "                 coef    std err          t      P>|t|       95.0% Conf. Int.\n",
       "-----------------------------------------------------------------------------\n",
       "omega          0.0140  5.541e-03      2.525  1.157e-02  [3.130e-03,2.485e-02]\n",
       "alpha[1]       0.0718  1.713e-02      4.194  2.745e-05    [3.826e-02,  0.105]\n",
       "alpha[2]       0.0231  2.448e-02      0.944      0.345 [-2.487e-02,7.110e-02]\n",
       "alpha[3]       0.0000  2.575e-02      0.000      1.000 [-5.047e-02,5.047e-02]\n",
       "beta[1]        0.8935  2.601e-02     34.356 1.142e-258      [  0.843,  0.944]\n",
       "=============================================================================\n",
       "\n",
       "Covariance estimator: robust\n",
       "\"\"\""
      ]
     },
     "execution_count": 21,
     "metadata": {},
     "output_type": "execute_result"
    }
   ],
   "source": [
    "model_garch_31 = arch_model(df_copy.returns[1:], mean = \"Constant\", vol = \"GARCH\", p = 3, q = 1)\n",
    "result_garch_31 = model_garch_31.fit(update_freq = 5)\n",
    "result_garch_31.summary()"
   ]
  },
  {
   "cell_type": "markdown",
   "metadata": {},
   "source": [
    "Here we can see Alpha(2) coefficient has pval = 0.345> 0.05 thus Alpha(2) is insignificant. Similar is the case with alpha(3). Thus from GARCH(1,2); GARCH(2,1); GARCH(1,3) and GARCH(3,1) we can conclude that GARCH(1,1) is the best model to measure the volatility of returns. "
   ]
  },
  {
   "cell_type": "code",
   "execution_count": null,
   "metadata": {},
   "outputs": [],
   "source": []
  }
 ],
 "metadata": {
  "kernelspec": {
   "display_name": "Python 3",
   "language": "python",
   "name": "python3"
  },
  "language_info": {
   "codemirror_mode": {
    "name": "ipython",
    "version": 3
   },
   "file_extension": ".py",
   "mimetype": "text/x-python",
   "name": "python",
   "nbconvert_exporter": "python",
   "pygments_lexer": "ipython3",
   "version": "3.7.6"
  }
 },
 "nbformat": 4,
 "nbformat_minor": 4
}
